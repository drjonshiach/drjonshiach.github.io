{
 "cells": [
  {
   "cell_type": "markdown",
   "metadata": {},
   "source": [
    "# Initial Value Problems\n",
    "\n",
    "#### Learning outcomes\n",
    "\n",
    "On successful completion of this page readers will be able to:\n",
    "\n",
    "- Identity an initial value problem;\n",
    "- Derive the Euler method and apply it to solve first-order ordinary differential equations;\n",
    "- Express a higher-order ODE as a system of first-order ODEs;\n",
    "- Apply an ODE solver to solve a system of ODEs.\n",
    "\n",
    "\n",
    "An [**Initial Value Problem**](https://en.wikipedia.org/wiki/Initial_value_problem) (IVP) is written as an [Ordinary Differential Equation](https://en.wikipedia.org/wiki/Ordinary_dif) (ODE) where the initial solution at the lower boundary of the domain is known. For example,\n",
    "\n",
    "```{math}\n",
    ":label: IVP\n",
    "y' = f(t, y), \\qquad t \\in [t_{\\min}, t_{\\max}], \\qquad y(t_{\\min}) = y_0.\n",
    "```\n",
    "\n",
    "Here a first-order ODE $y'=f(t,y)$ is defined over the domain $t\\in [t_{\\min}, t_{\\max}]$ and the initial solution $y(t_{\\min})$ is the known value $y_0$. \n",
    "\n",
    "In most real world practical applications, IVPs cannot be solved using analytical methods so instead we use computational methods called **ODE solvers** to approximate the solutions. The simplest ODE solver is the Euler method."
   ]
  },
  {
   "cell_type": "markdown",
   "metadata": {},
   "source": [
    "## The Taylor series\n",
    "The [Taylor series](https://en.wikipedia.org/wiki/Taylor_series) is a series expansion that is the basis for all computational methods for solving ODEs. The Taylor series expansion of the function $f(t)$ evaluated at the point $a$ is \n",
    "\n",
    "```{math}\n",
    ":label: Taylor_f(t)\n",
    "f(a) = \\sum_{n=0}^\\infty \\frac{f^{(n)}(a)}{n!}(t - a) = f(a) + f'(a)(t-a) + \\frac{f''(a)}{2}(t-a) + \\cdots,\n",
    "```\n",
    "\n",
    "where $f^{(n)}(a)$ denotes the $n$th derivative of $f$. Let $h = t - a$ be some small change in the value at which the function is evaluated (known as the **step length**) then\n",
    "\n",
    "```{math}\n",
    ":label: Taylor_no_error\n",
    "f(t + h) = \\sum_{n=0}^\\infty \\frac{h^n}{n!}f(t) = f(t) + hf'(t) + \\frac{h^2}{2}f''(t) + \\cdots.\n",
    "```\n",
    "\n",
    "It is impractical to sum the series to an infinite number of terms so we **truncate** equation {eq}`Taylor_no_error` so that only the first few terms are included, e.g.,\n",
    "\n",
    "```{math}\n",
    ":label: Taylor\n",
    "f(t + h) = f(t) + hf'(t) + \\frac{h^2}{2}f''(t) + \\cdots + \\frac{h^n}{n!}f^{(n)}(t) + O(h^{n+1}).\n",
    "```\n",
    "\n",
    "Since we are not including all terms in the truncated series we have introduced an error in the calculation of $f(t+h)$. This error is known as the **local truncation error**. We do not know the value of this truncation error but we do know that the error will be less than some function of $h$ and we represent this idea using the term $O(h^{n+1})$ which means *the truncation error will tend to zero at least as fast as $h^{n+1}$ tends to zero*. For example for $O(h^2)$ if $h$ is halved then the truncation error will decrease by a factor of at least $(\\frac{1}{2})^2 = \\frac{1}{4}$.  "
   ]
  },
  {
   "cell_type": "markdown",
   "metadata": {},
   "source": [
    "## The Euler method\n",
    "The [**Euler method**](https://en.wikipedia.org/wiki/Euler_method) is the simplest numerical method for computing the solution of a first-order Ordinary Differential Equation (ODE). Truncating the Taylor series, equation {eq}`Taylor`, after the first-order term we have\n",
    "\n",
    "$$y(t+h) = y(t) + hy'(t) + O(h^2),$$\n",
    "\n",
    "and introducing the notation $y_n = y(t_n)$ and $y_{n+1} = y(t_n + h)$ then\n",
    "\n",
    "```{math}\n",
    ":label: Euler\n",
    "y_{n+1} = y_n + hf(t_n, y_n) + O(h^2),\n",
    "```\n",
    "\n",
    "which is the Euler method.\n",
    "\n",
    "To apply the Euler method to solve equation {eq}`IVP` we initialise $t_0 = t_{\\min}$ and $y_0 = y(t_{\\min})$ and then apply equation {eq}`Euler` to calculate the values of $y_{n+1}$ and update $t_n$ using $t_{n+1} = t_n + h$ "
   ]
  },
  {
   "cell_type": "markdown",
   "metadata": {},
   "source": [
    "#### Example 1\n",
    "\n",
    "Calculate the first two steps of the Euler method when used to solve the following IVP\n",
    "\n",
    "$$ y' = \\sin^2(t)y, \\qquad t \\in [0, 5], \\qquad y(0) = 1,$$\n",
    "\n",
    "using a step length $h=0.5$.\n",
    "\n",
    "Since we have $t_0=0$ and $y_0=1$ then\n",
    "\n",
    "$$\n",
    "\\begin{aligned}\n",
    "    y_1 &= y_0 + h \\sin^2(t_0)y_0 = 1 + 0.5\\sin^2(0)(1) = 1, & t_1 &= t_0 + h = 0 + 0.5 = 0.5,\\\\\n",
    "    y_2 &= y_1 + h \\sin^2(t_1)y_1 = 1 + 0.5\\sin^2(0.5)(1) = 1.1149, & t_2 &= t_1 + h = 0.5 + 0.5 = 1.0.\n",
    "\\end{aligned}\n",
    "$$"
   ]
  },
  {
   "cell_type": "markdown",
   "metadata": {},
   "source": [
    "#### Example 2\n",
    "\n",
    "Calculate the solution of the IVP from example 1 over the whole domain $t\\in [0,5]$ using the Euler method with a step length of $h=0.5$ and compare it to the exact solution given by\n",
    "\n",
    "$$y = e^{(t - \\sin(t)\\cos(t))/2}$$\n",
    "\n",
    "The functions below defines the right-hand side of the ODE and the exact solution to the IVP."
   ]
  },
  {
   "cell_type": "code",
   "execution_count": 1,
   "metadata": {
    "execution": {
     "iopub.execute_input": "2020-08-19T08:52:33.167218Z",
     "iopub.status.busy": "2020-08-19T08:52:33.166356Z",
     "iopub.status.idle": "2020-08-19T08:52:33.231493Z",
     "shell.execute_reply": "2020-08-19T08:52:33.231941Z"
    }
   },
   "outputs": [],
   "source": [
    "import numpy as np\n",
    "\n",
    "def f(t, y):\n",
    "    return np.sin(t)**2 * y\n",
    "\n",
    "def exact_sol(t):\n",
    "    return np.exp(0.5 * (t - np.sin(t) * np.cos(t)))"
   ]
  },
  {
   "cell_type": "markdown",
   "metadata": {},
   "source": [
    "The code below defines a function called `euler` that solves an IVP using the Euler method. The input arguments are `f` is the name of the function the defines the ODE, `tspan` is a two-element array containing the lower and upper bounds of the $t$ domain, `y0` is the initial value of $y$ at the lower bound and `h` is the step length.\n",
    "<a id=\"euler\"></a>"
   ]
  },
  {
   "cell_type": "code",
   "execution_count": 2,
   "metadata": {
    "execution": {
     "iopub.execute_input": "2020-08-19T08:52:33.238037Z",
     "iopub.status.busy": "2020-08-19T08:52:33.237380Z",
     "iopub.status.idle": "2020-08-19T08:52:33.239019Z",
     "shell.execute_reply": "2020-08-19T08:52:33.239560Z"
    }
   },
   "outputs": [],
   "source": [
    "def euler(f, tspan, y0, h):\n",
    "    '''\n",
    "    Calculuates the solution to an IVP using the Euler method\n",
    "    '''\n",
    "    # Initialise solution arrays\n",
    "    nsteps = int((tspan[1] - tspan[0]) / h)\n",
    "    t = np.zeros(nsteps + 1)\n",
    "    y = np.zeros(nsteps + 1)\n",
    "    t[0] = tspan[0]\n",
    "    y[0] = y0\n",
    "\n",
    "    # Solver loop\n",
    "    for n in range(nsteps):\n",
    "        y[n + 1] = y[n] + h * f(t[n], y[n])\n",
    "        t[n + 1] = t[n] + h\n",
    "\n",
    "    return t, y"
   ]
  },
  {
   "cell_type": "markdown",
   "metadata": {},
   "source": [
    "The program below invokes the Euler method to solve this IVP."
   ]
  },
  {
   "cell_type": "code",
   "execution_count": 3,
   "metadata": {
    "execution": {
     "iopub.execute_input": "2020-08-19T08:52:33.250021Z",
     "iopub.status.busy": "2020-08-19T08:52:33.249345Z",
     "iopub.status.idle": "2020-08-19T08:52:35.781229Z",
     "shell.execute_reply": "2020-08-19T08:52:35.781672Z"
    }
   },
   "outputs": [
    {
     "name": "stdout",
     "output_type": "stream",
     "text": [
      " t    Euler   Exact\n",
      "--------------------\n",
      "0.00  1.0000  1.0000\n",
      "0.50  1.0000  1.0404\n",
      "1.00  1.1149  1.3135\n",
      "1.50  1.5096  2.0436\n",
      "2.00  2.2607  3.2845\n",
      "2.50  3.1953  4.4359\n",
      "3.00  3.7675  4.8059\n",
      "3.50  3.8050  4.8830\n",
      "4.00  4.0391  5.7699\n",
      "4.50  5.1958  8.5589\n",
      "5.00  7.6783 13.9573\n"
     ]
    },
    {
     "data": {
      "image/png": "[encoded data removed]",
      "text/plain": [
       "<Figure size 432x288 with 1 Axes>"
      ]
     },
     "metadata": {
      "filenames": {
       "image/png": "/Volumes/DataHD/jon/OneDrive - MMU/2020_2021/ODEs/Python_book/_build/jupyter_execute/1_initial_value_problems_9_1.png"
      },
      "needs_background": "light"
     },
     "output_type": "display_data"
    }
   ],
   "source": [
    "%matplotlib inline\n",
    "import matplotlib.pyplot as plt\n",
    "from matplotlib import rc\n",
    "rc('text', usetex=True)\n",
    "\n",
    "# Define IVP parameters\n",
    "tspan = [ 0, 5 ]\n",
    "y0 = 1\n",
    "h = 0.5\n",
    "\n",
    "# Invoke the Euler method to solve the IVP\n",
    "t, y = euler(f, tspan, y0, h)\n",
    "\n",
    "# Output solution table\n",
    "print(' t    Euler   Exact\\n' + '-' * 20)\n",
    "for n in range(len(t)):\n",
    "    print('{:3.2f} {:7.4f} {:7.4f}'.format(t[n], y[n], exact_sol(t[n])))\n",
    "\n",
    "# Plot numerical and exact solutions\n",
    "fig, ax = plt.subplots()\n",
    "\n",
    "t1 = np.linspace(tspan[0], tspan[1], 100)\n",
    "ax.plot(t1, exact_sol(t1), 'k-', label='Exact solution')\n",
    "ax.plot(t, y, 'bo-', label='Euler method')\n",
    "\n",
    "ax.set_title(\"Solution to the IVP $y'=\\sin^2(t)y$, $y(0) = 1$\")\n",
    "ax.set_xlabel('$t$', fontsize=12)\n",
    "ax.set_ylabel('$y(t)$', fontsize=12)\n",
    "ax.legend()\n",
    "\n",
    "plt.show()"
   ]
  },
  {
   "cell_type": "markdown",
   "metadata": {},
   "source": [
    "Here we can see that the solution using the Euler method deviates from the exact solution. This is because the Euler method is a first-order method and the truncation errors at each step accumulate as we step through the solution. One way to improve our solution is to use a smaller step length.\n",
    "\n",
    "\n",
    "#### Example 3\n",
    "Repeat the solution of the IVP in example 2 using a step length of $h=0.1$ and compare the solution with the exact solution and the one obtained using $h=0.5$."
   ]
  },
  {
   "cell_type": "code",
   "execution_count": 4,
   "metadata": {
    "execution": {
     "iopub.execute_input": "2020-08-19T08:52:35.817366Z",
     "iopub.status.busy": "2020-08-19T08:52:35.816420Z",
     "iopub.status.idle": "2020-08-19T08:52:36.257857Z",
     "shell.execute_reply": "2020-08-19T08:52:36.258395Z"
    }
   },
   "outputs": [
    {
     "name": "stdout",
     "output_type": "stream",
     "text": [
      " t    h=0.5   h=0.1   Exact\n",
      "----------------------------\n",
      "0.00  1.0000  1.0000  1.0000\n",
      "0.50  1.0000  1.0291  1.0404\n",
      "1.00  1.1149  1.2626  1.3135\n",
      "1.50  1.5096  1.9018  2.0436\n",
      "2.00  2.2607  3.0133  3.2845\n",
      "2.50  3.1953  4.1223  4.4359\n",
      "3.00  3.7675  4.5394  4.8059\n",
      "3.50  3.8050  4.5919  4.8830\n",
      "4.00  4.0391  5.2940  5.7699\n",
      "4.50  5.1958  7.5957  8.5589\n",
      "5.00  7.6783 12.1225 13.9573\n"
     ]
    },
    {
     "data": {
      "image/png": "[encoded data removed]",
      "text/plain": [
       "<Figure size 432x288 with 1 Axes>"
      ]
     },
     "metadata": {
      "filenames": {
       "image/png": "/Volumes/DataHD/jon/OneDrive - MMU/2020_2021/ODEs/Python_book/_build/jupyter_execute/1_initial_value_problems_11_1.png"
      },
      "needs_background": "light"
     },
     "output_type": "display_data"
    }
   ],
   "source": [
    "# Invoke the Euler method to solve IVP using a step length of h = 0.1\n",
    "t1, y1 = euler(f, tspan, y0, 0.5)\n",
    "t2, y2 = euler(f, tspan, y0, 0.1)\n",
    "\n",
    "# Output solution table\n",
    "print(' t    h=0.5   h=0.1   Exact\\n' + '-' * 28)\n",
    "for n in range(len(t)):\n",
    "    print('{:3.2f} {:7.4f} {:7.4f} {:7.4f}'\\\n",
    "          .format(t1[n], y1[n], y2[5 * n], exact_sol(t[n])))\n",
    "\n",
    "# Plot numerical and exact solutions\n",
    "fig, ax = plt.subplots()\n",
    "\n",
    "ax.plot(t2, exact_sol(t2), 'k-', label='Exact solution')\n",
    "ax.plot(t1, y1, 'bo-', label='Euler method $(h=0.5)$')\n",
    "ax.plot(t2, y2, 'ro-', label='Euler method $(h=0.1)$')\n",
    "\n",
    "ax.set_title(\"Solution to the IVP $y'=\\sin^2(t)y$, $y(0) = 1$\")\n",
    "ax.set_xlabel('$t$')\n",
    "ax.set_ylabel('$y(t)$')\n",
    "ax.legend()\n",
    "\n",
    "plt.show()"
   ]
  },
  {
   "cell_type": "markdown",
   "metadata": {},
   "source": [
    "Here we can see that although using a smaller step length has increased the accuracy of the solution it still does not match the exact solution. The Euler method is easy to derive and apply but is not very accurate. \n",
    "\n",
    "The derivation of more accurate methods is covered in Runge-Kutta methods."
   ]
  },
  {
   "cell_type": "markdown",
   "metadata": {},
   "source": [
    "---\n",
    "## Solving higher-order ordinary differential equations\n",
    "\n",
    "The numerical methods that are applied to calculate the solutions to ODEs can only be applied to first-order ODEs. To apply them to higher-order ODEs we first need to rewrite them as a system of first-order ODEs.\n",
    "\n",
    "Consider the $N$th-order ODE \n",
    "\n",
    "$$y^{(N)} = f(t, y, y', y'', \\ldots, y^{(N-1)}).$$\n",
    "\n",
    "If we let $y_1=y$, $y_2 = y'$, $y_3 = y''$ and so on up to $y_N = y^{(N-1)}$ then we have\n",
    "\n",
    "$$\n",
    "\\begin{aligned}\n",
    "    y_1' &= y_2, \\\\\n",
    "    y_2' &= y_3, \\\\\n",
    "    & \\vdots \\\\\n",
    "    y_N' &= f(t, y_1, y_2, y_3, \\ldots , y_N).\n",
    "\\end{aligned}\n",
    "$$\n",
    "\n",
    "This is a system of $N$ first-order ODEs. We can apply our numerical methods for solving ODEs to each equation in the system to give an equivalent solution to the $n$th-order ODE."
   ]
  },
  {
   "cell_type": "markdown",
   "metadata": {},
   "source": [
    "#### Example 4\n",
    "\n",
    "Rewrite the following third-order ODE as a system of three first-order ODEs.\n",
    "\n",
    "$$ y''' + yy'' - 2y' + tyy'' - 10 = 0$$\n",
    "\n",
    "Let $y_1 = y$, $y_2 = y'$, $y_3 = y''$ then we can rewrite this ODE using\n",
    "\n",
    "$$\n",
    "\\begin{aligned}\n",
    "    y_1' &= y_2, \\\\\n",
    "    y_2' &= y_3, \\\\\n",
    "    y_3' &= -y_1y_3 + 2y_2 - ty_1y_2 + 10.\n",
    "\\end{aligned}\n",
    "$$"
   ]
  },
  {
   "cell_type": "markdown",
   "metadata": {},
   "source": [
    "### Solving systems of ordinary differential equations\n",
    "\n",
    "Consider a system of $N$ first-order ODEs is written in the form\n",
    "\n",
    "$$\n",
    "\\begin{aligned}\n",
    "    y_1' &= f_1(t, y_1), \\\\\n",
    "    y_2' &= f_2(t, y_2), \\\\\n",
    "    & \\vdots \\\\\n",
    "    y_N' &= f_N(t, y_N).\n",
    "\\end{aligned}\n",
    "$$\n",
    "\n",
    "Let $\\mathbf{y} = \\pmatrix{y_1 \\\\ y_2 \\\\ \\vdots \\\\ y_N}$ and $F(t, \\mathbf{y}) = \\pmatrix{f_1(t, y_1) \\\\ f_2(t, y_2) \\\\ \\vdots \\\\ f_N(t, y_N)}$ then we can write the system in vector form\n",
    "\n",
    "$$\\mathbf{y}' = F(t, \\mathbf{y}).$$\n",
    "\n",
    "Therefore Euler method for solving this ODE in vector form is\n",
    "\n",
    "$$ \\mathbf{y}_{n+1} = \\mathbf{y}_n + hF(t, \\mathbf{y}) + O(h^2).$$"
   ]
  },
  {
   "cell_type": "markdown",
   "metadata": {},
   "source": [
    "#### Example 5\n",
    "\n",
    "Calculate two steps of the Euler method used to solve the following IVP\n",
    "\n",
    "$$\n",
    "    y'' + y = 0, \\qquad t \\in[0, 10], \\qquad y(0) = 2, \\qquad y'(0) = 0.\n",
    "$$\n",
    "\n",
    "using a step length of $h=0.1$.\n",
    "\n",
    "First we need to rewrite the second-order ODE as two first-order ODEs. Let $y_1=y$ and $y_2=y'$ then\n",
    "\n",
    "$$\n",
    "\\begin{aligned}\n",
    "    y_1' &= y_2, & y_1(0) = 2,\\\\\n",
    "    y_2' &= -y_1, & y_2(0) = 0,\n",
    "\\end{aligned}\n",
    "$$\n",
    "\n",
    "and we have\n",
    "\n",
    "$$\n",
    "\\begin{aligned}\n",
    "    \\mathbf{y} &= \\pmatrix{y_1 \\\\ y_2}, &\n",
    "    F(t, \\mathbf{y}) &= \\pmatrix{ y_2 \\\\ -y_1}.\n",
    "\\end{aligned}\n",
    "$$\n",
    "\n",
    "Calculating the first two steps of the Euler method:\n",
    "\n",
    "$$\n",
    "\\begin{aligned}\n",
    "    \\mathbf{y}_1 &= \\mathbf{y}_0 + hF(t_0, \\mathbf{y}_0)\n",
    "    = \\pmatrix{2 \\\\ 0} + 0.1 \\pmatrix{ 0 \\\\ -2 }\n",
    "    = \\pmatrix{2 \\\\ -0.2}, \\\\\n",
    "    \\mathbf{y}_2 &= \\mathbf{y}_1 + hF(t_1, \\mathbf{y}_1) \n",
    "    = \\pmatrix{2 \\\\ -0.2} + 0.1 \\pmatrix{-0.2 \\\\ -2} \n",
    "    = \\pmatrix{1.98 \\\\ -0.4}.\n",
    "\\end{aligned}\n",
    "$$"
   ]
  },
  {
   "cell_type": "markdown",
   "metadata": {},
   "source": [
    "#### Example 6\n",
    "\n",
    "Calculate the solution of the IVP from example 5 over the whole domain $t\\in [0,10]$ using the Euler method with a step length of $h=0.1$ and compare it to the exact solution given by\n",
    "\n",
    "$$y = 2\\cos(t).$$\n",
    "\n",
    "The functions below defines the right-hand side of the ODE and the exact solution to the IVP."
   ]
  },
  {
   "cell_type": "code",
   "execution_count": 5,
   "metadata": {
    "execution": {
     "iopub.execute_input": "2020-08-19T08:52:36.263650Z",
     "iopub.status.busy": "2020-08-19T08:52:36.263052Z",
     "iopub.status.idle": "2020-08-19T08:52:36.265002Z",
     "shell.execute_reply": "2020-08-19T08:52:36.265567Z"
    }
   },
   "outputs": [],
   "source": [
    "def f(t, y):\n",
    "    dy = np.zeros(y.shape)\n",
    "    dy[0] = y[1]\n",
    "    dy[1] = -y[0]\n",
    "    return dy\n",
    "\n",
    "def exact_sol(t):\n",
    "    return 2 * np.cos(t)"
   ]
  },
  {
   "cell_type": "markdown",
   "metadata": {},
   "source": [
    "The code below defines a function called `euler2` that solves an IVP defined using a system of ODEs. This is very similar to the [`euler`](#euler) function defined earlier with the exception that the `y` array has $N$ columns instead of just 1."
   ]
  },
  {
   "cell_type": "code",
   "execution_count": 6,
   "metadata": {
    "execution": {
     "iopub.execute_input": "2020-08-19T08:52:36.272799Z",
     "iopub.status.busy": "2020-08-19T08:52:36.271958Z",
     "iopub.status.idle": "2020-08-19T08:52:36.273915Z",
     "shell.execute_reply": "2020-08-19T08:52:36.274388Z"
    }
   },
   "outputs": [],
   "source": [
    "def euler2(f, tspan, y0, h):\n",
    "    '''\n",
    "    Calculates the solution to an IVP expressed using a system\n",
    "    of ODEs using the Euler method\n",
    "    '''\n",
    "    # Initialise solution arrays\n",
    "    nsteps = int((tspan[1] - tspan[0]) / h)\n",
    "    t = np.zeros(nsteps + 1)\n",
    "    y = np.zeros((nsteps + 1, len(y0)))\n",
    "    t[0] = tspan[0]\n",
    "    y[0, :] = y0\n",
    "\n",
    "    # Solver loop\n",
    "    for n in range(nsteps):\n",
    "        y[n + 1, :] = y[n, :] + h * f(t[n], y[n, :])\n",
    "        t[n + 1] = t[n] + h\n",
    "\n",
    "    return t, y"
   ]
  },
  {
   "cell_type": "markdown",
   "metadata": {},
   "source": [
    "The program below invokes the Euler method to solve this IVP."
   ]
  },
  {
   "cell_type": "code",
   "execution_count": 7,
   "metadata": {
    "execution": {
     "iopub.execute_input": "2020-08-19T08:52:36.309413Z",
     "iopub.status.busy": "2020-08-19T08:52:36.281500Z",
     "iopub.status.idle": "2020-08-19T08:52:36.747616Z",
     "shell.execute_reply": "2020-08-19T08:52:36.747158Z"
    }
   },
   "outputs": [
    {
     "name": "stdout",
     "output_type": "stream",
     "text": [
      "  t     Euler    Exact\n",
      "-----------------------\n",
      " 0.00   2.0000   2.0000\n",
      " 0.50   1.8010   1.7552\n",
      " 1.00   1.1416   1.0806\n",
      " 1.50   0.1631   0.1415\n",
      " 2.00  -0.9060  -0.8323\n",
      " 2.50  -1.8032  -1.6023\n",
      " 3.00  -2.2953  -1.9800\n",
      " 3.50  -2.2387  -1.8729\n",
      " 4.00  -1.6195  -1.3073\n",
      " 4.50  -0.5638  -0.4216\n",
      " 5.00   0.6867   0.5673\n",
      " 5.50   1.8293   1.4173\n",
      " 6.00   2.5728   1.9203\n",
      " 6.50   2.7111   1.9532\n",
      " 7.00   2.1786   1.5078\n",
      " 7.50   1.0742   0.6933\n",
      " 8.00  -0.3550  -0.2910\n",
      " 8.50  -1.7684  -1.2040\n",
      " 9.00  -2.8118  -1.8223\n",
      " 9.50  -3.2054  -1.9943\n",
      "10.00  -2.8177  -1.6781\n"
     ]
    },
    {
     "data": {
      "image/png": "[encoded data removed]",
      "text/plain": [
       "<Figure size 432x288 with 1 Axes>"
      ]
     },
     "metadata": {
      "filenames": {
       "image/png": "/Volumes/DataHD/jon/OneDrive - MMU/2020_2021/ODEs/Python_book/_build/jupyter_execute/1_initial_value_problems_22_1.png"
      },
      "needs_background": "light"
     },
     "output_type": "display_data"
    }
   ],
   "source": [
    "# Define IVP parameters\n",
    "tspan = [0, 10]\n",
    "y0 = [2, 0]\n",
    "h = 0.1\n",
    "\n",
    "# Solve IVP using the Euler method\n",
    "t, y = euler2(f, tspan, y0, h)\n",
    "\n",
    "# Output solution table\n",
    "print('  t     Euler    Exact\\n' + '-' * 23)\n",
    "for n in range(0, len(t), 5):\n",
    "    print('{:5.2f} {:8.4f} {:8.4f}'.format(t[n], y[n,0], exact_sol(t[n])))\n",
    "\n",
    "# Plot solution\n",
    "fig, ax = plt.subplots()\n",
    "\n",
    "ax.plot(t, exact_sol(t), 'k-', label='Exact')\n",
    "ax.plot(t, y[:,0], 'bo-', label='Euler')\n",
    "ax.set_title(\"Solutions to the IVP $y''+y=0$, $y(0)=2$, $y'(0)=0$\")\n",
    "ax.set_xlabel('$t$', fontsize=12)\n",
    "ax.set_ylabel('$y(t)$', fontsize=12)\n",
    "ax.legend()\n",
    "\n",
    "plt.show()"
   ]
  },
  {
   "cell_type": "markdown",
   "metadata": {},
   "source": [
    "Here we can see that the Euler method solution is deviating away from the exact solution. Once again this is a result of the lower order accuracy of the Euler method."
   ]
  },
  {
   "cell_type": "markdown",
   "metadata": {},
   "source": [
    "---\n",
    "## Summary\n",
    "\n",
    "- An initial value problem is expressed as an ODE where the solution at the lower bound of the domain is known.\n",
    "- The Euler method is derived by truncating the Taylor series after the first-order term. It advances the solution over a small step of length $h$ using known values of $t_n$ and $y_n$ to calculate the solution at $y_{n+1}=y(t_n + h)$.\n",
    "- The Euler method is only first-order accurate so the solutions tend to be inaccurate unless using a very small value of $h$.\n",
    "- Higher-order ODEs can be rewritten as systems of first-order ODEs which can be solved using numerical solvers."
   ]
  },
  {
   "cell_type": "markdown",
   "metadata": {},
   "source": [
    "---\n",
    "## Exercises\n",
    "\n",
    "1. Using a pen and calculator (i.e., not Python), solve the following IVP using the Euler method with step length $h=0.4$. Write down your solution correct to 4 decimal places\n",
    "\n",
    "    $$y' = ty, \\qquad t \\in [0, 2], \\qquad y(0) = 1.$$\n",
    "\n",
    "2. Reproduce your solutions to question 1 using Python.\n",
    "\n",
    "3. The exact solution to the IVP in question 1 is $y=e^{t^2/2}$. Produce a plot of the Euler solution from question 2 and the exact solution on the same set of axes."
   ]
  }
 ],
 "metadata": {
  "kernelspec": {
   "display_name": "Python 3",
   "language": "python",
   "name": "python3"
  },
  "language_info": {
   "codemirror_mode": {
    "name": "ipython",
    "version": 3
   },
   "file_extension": ".py",
   "mimetype": "text/x-python",
   "name": "python",
   "nbconvert_exporter": "python",
   "pygments_lexer": "ipython3",
   "version": "3.7.4"
  }
 },
 "nbformat": 4,
 "nbformat_minor": 4
}