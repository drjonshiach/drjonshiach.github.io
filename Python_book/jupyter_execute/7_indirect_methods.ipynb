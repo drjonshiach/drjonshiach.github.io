{
 "cells": [
  {
   "cell_type": "markdown",
   "metadata": {},
   "source": [
    "# Indirect Methods for Solving Systems of Linear Equations\n",
    "\n",
    "#### Learning Outcomes\n",
    "On successful completion of this page readers will be able to:\n",
    "\n",
    "- Understand the concept of an indirect method when used to solve a system of linear equations.\n",
    "- Apply the Jacobi, Gauss-Seidel and SOR methods to solve a linear system.\n",
    "- Use the residual to determine the accuracy of the current estimate of the solution to the linear system.\n",
    "- Determine whether an indirect method is convergent for a particular linear system and analyse the theoretical rate of convergence for indirect methods.\n",
    "\n",
    "## Indirect methods\n",
    "\n",
    "Indirect methods for solving systems of linear equations use an iterative approach to repeatedly update estimates of the exact solution to the linear system. They are called indirect methods since multiple applications of the method is required to calculate a solution unlike direct methods such as [Gaussian elimination](https://en.wikipedia.org/wiki/Gaussian_elimination) and [LU decomposition](https://en.wikipedia.org/wiki/LU_decomposition) which require a single application to calculate the solution. However, direct methods are inefficient for large systems of equations for which we tend to using indirect methods instead. \n",
    "\n",
    "An indirect method for solving a system of linear equations of the form $A\\mathbf{x}=\\mathbf{b}$ is\n",
    "\n",
    "$$\\mathbf{x}^{k+1} = T \\mathbf{x}^k + \\mathbf{c},$$\n",
    "\n",
    "where $\\mathbf{x}^k$ is the current estimate of $\\mathbf{x}$, $\\mathbf{x}^{k+1}$ is the improved estimate of $\\mathbf{x}$, $T$ is an **iteration matrix** and $\\mathbf{c}$ is some vector. This equation is iterated updating the values of the estimates such that $\\mathbf{x}^{(k)}$ as $k\\to \\infty$. Note that unlike direct methods which will calculate the exact solution, indirect only calculate an estimate (albeit very close) of the exact solution. "
   ]
  },
  {
   "cell_type": "markdown",
   "metadata": {},
   "source": [
    "## The Jacobi method\n",
    "\n",
    "The [Jacobi method](https://en.wikipedia.org/wiki/Jacobi_method) is the simplest indirect method. Splitting the coefficient matrix $A$ into the of elements from the lower triangular, diagonal and upper triangular parts of $A$ to form matrices $L$, $D$ and $U$ such that $A = D + L + U$, e.g., \n",
    "\n",
    "$$\n",
    "    L = \\pmatrix{ 0 & 0 & \\cdots & 0 \\cr a_{21} & 0 & \\ddots & \\vdots \\cr \\vdots & \\ddots & \\ddots & 0 \\cr a_{n1} & \\cdots & a_{n,n-1} & 0}, \\qquad\n",
    "    D = \\pmatrix{ a_{11} & 0 & \\cdots & 0 \\cr 0 & a_{22} & \\ddots & \\vdots \\cr \\vdots &\\ddots & \\ddots & 0 \\cr 0 & \\cdots & 0 & a_{nn}}, \\qquad\n",
    "    U = \\pmatrix{ 0 & a_{12} & \\cdots & a_{1n} \\cr 0 & 0 & \\ddots & \\vdots \\cr \\vdots &\\ddots & \\ddots & a_{n-1,n} & \\cr 0 & \\cdots & 0 & 0}.  \n",
    "$$\n",
    "\n",
    "Rewriting the linear system $A\\mathbf{x}=\\mathbf{b}$ using $D$, $L$ and $U$ gives\n",
    "\n",
    "$$\n",
    "(D + L + U) \\mathbf{x} = \\mathbf{b}\n",
    "$$\n",
    "\n",
    "which can be rearranged to\n",
    "\n",
    "```{math}\n",
    ":label: jacobi_x\n",
    "\\mathbf{x} = D^{-1}(\\mathbf{b} - (L+U)\\mathbf{x}).\n",
    "```\n",
    "\n",
    "Let the $\\mathbf{x}$ on the left-hand side be $\\mathbf{x}^{(k+1)}$ and the $\\mathbf{x}$ on the right-hand side be $\\mathbf{x}^{(k)}$ then writing this out for each element we have\n",
    "\n",
    "```{math}\n",
    ":label: jacobi\n",
    "x_i^{(k+1)} = \\frac{1}{a_{ii}} \\left( b_i - \\sum_{j=1,j\\neq i}^N a_{ij} x_j^{(k)}\\right), \\qquad i = 1,2, \\ldots, n. \n",
    "```"
   ]
  },
  {
   "cell_type": "markdown",
   "metadata": {},
   "source": [
    "### The residual\n",
    "\n",
    "The Jacobi method is applied by iterating equation (2) until the solution $\\mathbf{x}^{(k+1)}$ is accurate enough for our needs. Since we do not know what the exact solution is we can quantity the accuracy of an estimate by using the **residual** which is defined as\n",
    "\n",
    "```{math}\n",
    ":label: residual\n",
    "\\mathbf{r} = \\mathbf{b} - A \\mathbf{x}^{(k)},\n",
    "```\n",
    "\n",
    "so that as $\\mathbf{x}^{(k)} \\to \\mathbf{x}$, $\\mathbf{r} \\to \\mathbf{0}$. The convergence criteria used is\n",
    "\n",
    "$$\\|\\mathbf{r}\\| < tol,$$\n",
    "\n",
    "where $tol$ is some small number. The smaller $tol$ is, the closer $\\mathbf{x}^{(k)}$ is to the exact solution but this will require more iterations. In practice a compromise is made between the accuracy required and the computational resources available. Typical values of $tol$ are around $10^{-4}$ or maybe even $10^{-6}$."
   ]
  },
  {
   "cell_type": "markdown",
   "metadata": {},
   "source": [
    "#### Example 1\n",
    "\n",
    "Calculate the first iteration of the Jacobi method to solve the following system of linear equations and calculate the norm of the residual. \n",
    "\n",
    "$$ \\begin{aligned}\n",
    "    4x_1 + 3x_2 &= -2, \\\\\n",
    "    3x_1 + 4x_2 - x_3 &= -8, \\\\\n",
    "    -x_2 + 4x_3 &= 14.\n",
    "\\end{aligned} $$\n",
    "\n",
    "Using equation {eq}`jacobi` the Jacobi iterations are\n",
    "\n",
    "$$ \\begin{aligned}\n",
    "    x_1^{(k+1)} &= \\frac{1}{4}(-2 - 3x_2^{(k)}), \\\\\n",
    "    x_2^{(k+1)} &= \\frac{1}{4}(-8 - 3x_1^{(k)} + x_3^{(k)}), \\\\\n",
    "    x_3^{(k+1)} &= \\frac{1}{4}(14 + x_2^{(k)}).\n",
    "\\end{aligned} $$\n",
    "\n",
    "Using starting values of $\\mathbf{x}^{(0)} = (0, 0, 0)^T$ the first iteration is\n",
    "\n",
    "$$ \\begin{aligned}\n",
    "    x_1^{(1)} &= \\frac{1}{4}(-2 - 3(0)) = -0.5, \\\\\n",
    "    x_2^{(1)} &= \\frac{1}{4}(-8 - 3(0) + 0) = -2, \\\\\n",
    "    x_3^{(1)} &= \\frac{1}{4}(14 + 0) = 3.5.\n",
    "\\end{aligned} $$\n",
    "\n",
    "Calculate the residual using equation {eq}`residual`\n",
    "\n",
    "$$\\mathbf{r}^{(1)} = \\mathbf{b} - A \\mathbf{x}^{(1)} \n",
    "= \\pmatrix{-2 \\cr -8 \\cr 14}  - \n",
    "\\pmatrix{4 & 3 & 0 \\cr 3 & 4 & -1 \\cr 0 & -1 & 4} \n",
    "\\pmatrix{-0.5 \\cr -2 \\cr 3} = \n",
    "\\pmatrix{ 6 \\cr 5 \\cr -2 },$$\n",
    "\n",
    "and the norm of the residual is $\\|\\mathbf{r}^{(1)}\\|=\\sqrt{6^2 + 5^2 + (-2)^2} = 8.06226$."
   ]
  },
  {
   "cell_type": "markdown",
   "metadata": {},
   "source": [
    "#### Example 2\n",
    "\n",
    "Write a MATLAB program to solve the system of linear equations from example 1 using the Jacobi method ceasing iterations when $\\|\\mathbf{r}\\| < 10^{-4}$.\n",
    "\n",
    "The function called `jacobi` below solves a linear system of equations defined by the arrays `A` and `b`. Iterations cease when $\\|\\mathbf{r}\\|<tol$ or `maxiter` is exceeded."
   ]
  },
  {
   "cell_type": "code",
   "execution_count": 1,
   "metadata": {
    "execution": {
     "iopub.execute_input": "2020-08-18T16:27:53.973627Z",
     "iopub.status.busy": "2020-08-18T16:27:53.972845Z",
     "iopub.status.idle": "2020-08-18T16:27:54.039112Z",
     "shell.execute_reply": "2020-08-18T16:27:54.039560Z"
    }
   },
   "outputs": [],
   "source": [
    "import numpy as np\n",
    "\n",
    "def jacobi(A, b, maxiter, tol):\n",
    "    '''\n",
    "    Calculates the solution to the system of linear equations Ax = b using\n",
    "    the Jacobi method\n",
    "    '''\n",
    "    # Initialise solution array\n",
    "    N = len(b)\n",
    "    x = np.zeros((maxiter + 1, N))\n",
    "    \n",
    "    # Iteration loop\n",
    "    for k in range(maxiter):\n",
    "        \n",
    "        # Calculate Jacobi method\n",
    "        for i in range(N):\n",
    "            \n",
    "            # Calculate sum\n",
    "            for j in range(N):\n",
    "                if i != j:\n",
    "                    x[k+1,i] = x[k+1,i] + A[i,j] * x[k,j]\n",
    "                    \n",
    "            # Calculate new estimate of x_i\n",
    "            x[k+1,i] = (b[i] - x[k+1,i]) / A[i,i]\n",
    "            \n",
    "        # Calculate the norm of the residual\n",
    "        r = np.linalg.norm(b - np.matmul(A, x[k+1,:]))\n",
    "        \n",
    "        # Check for convergence\n",
    "        if r < tol:\n",
    "            break\n",
    "    \n",
    "    return x[:k+2, :]"
   ]
  },
  {
   "cell_type": "markdown",
   "metadata": {},
   "source": [
    "The program below uses the function jacobi to solve the system of linear equations from example 1."
   ]
  },
  {
   "cell_type": "code",
   "execution_count": 2,
   "metadata": {
    "execution": {
     "iopub.execute_input": "2020-08-18T16:27:54.052217Z",
     "iopub.status.busy": "2020-08-18T16:27:54.051552Z",
     "iopub.status.idle": "2020-08-18T16:27:54.058462Z",
     "shell.execute_reply": "2020-08-18T16:27:54.058924Z"
    }
   },
   "outputs": [
    {
     "name": "stdout",
     "output_type": "stream",
     "text": [
      "  k      x_0       x_1       x_2     ||r||\n",
      "--------------------------------------------\n",
      "   0   0.00000   0.00000   0.00000  16.24808\n",
      "   1  -0.50000  -2.00000   3.50000   8.06226\n",
      "   2   1.00000  -0.75000   3.00000   6.37377\n",
      "   3   0.06250  -2.00000   3.31250   5.03891\n",
      "   4   1.00000  -1.21875   3.00000   3.98361\n",
      "   5   0.41406  -2.00000   3.19531   3.14932\n",
      "   6   1.00000  -1.51172   3.00000   2.48976\n",
      "   7   0.63379  -2.00000   3.12207   1.96832\n",
      "   8   1.00000  -1.69482   3.00000   1.55610\n",
      "   9   0.77112  -2.00000   3.07629   1.23020\n",
      "  10   1.00000  -1.80927   3.00000   0.97256\n",
      "  11   0.85695  -2.00000   3.04768   0.76888\n",
      "  12   1.00000  -1.88079   3.00000   0.60785\n",
      "  13   0.91059  -2.00000   3.02980   0.48055\n",
      "  14   1.00000  -1.92549   3.00000   0.37991\n",
      "  15   0.94412  -2.00000   3.01863   0.30034\n",
      "  16   1.00000  -1.95343   3.00000   0.23744\n",
      "  17   0.96508  -2.00000   3.01164   0.18771\n",
      "  18   1.00000  -1.97090   3.00000   0.14840\n",
      "  19   0.97817  -2.00000   3.00728   0.11732\n",
      "  20   1.00000  -1.98181   3.00000   0.09275\n",
      "  21   0.98636  -2.00000   3.00455   0.07333\n",
      "  22   1.00000  -1.98863   3.00000   0.05797\n",
      "  23   0.99147  -2.00000   3.00284   0.04583\n",
      "  24   1.00000  -1.99289   3.00000   0.03623\n",
      "  25   0.99467  -2.00000   3.00178   0.02864\n",
      "  26   1.00000  -1.99556   3.00000   0.02264\n",
      "  27   0.99667  -2.00000   3.00111   0.01790\n",
      "  28   1.00000  -1.99722   3.00000   0.01415\n",
      "  29   0.99792  -2.00000   3.00069   0.01119\n",
      "  30   1.00000  -1.99827   3.00000   0.00885\n",
      "  31   0.99870  -2.00000   3.00043   0.00699\n",
      "  32   1.00000  -1.99892   3.00000   0.00553\n",
      "  33   0.99919  -2.00000   3.00027   0.00437\n",
      "  34   1.00000  -1.99932   3.00000   0.00346\n",
      "  35   0.99949  -2.00000   3.00017   0.00273\n",
      "  36   1.00000  -1.99958   3.00000   0.00216\n",
      "  37   0.99968  -2.00000   3.00011   0.00171\n",
      "  38   1.00000  -1.99974   3.00000   0.00135\n",
      "  39   0.99980  -2.00000   3.00007   0.00107\n",
      "  40   1.00000  -1.99983   3.00000   0.00084\n",
      "  41   0.99988  -2.00000   3.00004   0.00067\n",
      "  42   1.00000  -1.99990   3.00000   0.00053\n",
      "  43   0.99992  -2.00000   3.00003   0.00042\n",
      "  44   1.00000  -1.99994   3.00000   0.00033\n",
      "  45   0.99995  -2.00000   3.00002   0.00026\n",
      "  46   1.00000  -1.99996   3.00000   0.00021\n",
      "  47   0.99997  -2.00000   3.00001   0.00016\n",
      "  48   1.00000  -1.99997   3.00000   0.00013\n",
      "  49   0.99998  -2.00000   3.00001   0.00010\n",
      "  50   1.00000  -1.99998   3.00000   0.00008\n"
     ]
    }
   ],
   "source": [
    "def solution_table(x, A, b):\n",
    "    '''\n",
    "    Prints a formatted table displaying the iterations values of an\n",
    "    indirect method\n",
    "    '''\n",
    "    N = len(b)\n",
    "    print('  k', end='')\n",
    "    for i in range(N):\n",
    "        print('      x_{} '.format(i), end='')\n",
    "    print('    ||r||\\n{}'.format('-' * (4 + (N + 1) * 10)))\n",
    "    for k in range(x.shape[0]):\n",
    "        print('{:4d}'.format(k), end='')\n",
    "        for i in range(N):\n",
    "            print('{:10.5f}'.format(x[k,i]), end='')\n",
    "        print('{:10.5f}'.format(np.linalg.norm(b - np.matmul(A, x[k,:]))))\n",
    "\n",
    "\n",
    "# Define linear system\n",
    "A = np.array([[ 4, 3, 0 ],\n",
    "              [ 3, 4, -1 ],\n",
    "              [ 0, -1, 4 ]])\n",
    "b = np.array([ -2, -8, 14 ])\n",
    "\n",
    "# Solve linear system using the Jacobi method\n",
    "x = jacobi(A, b, 100, 1e-4)\n",
    "\n",
    "# Output solution table\n",
    "solution_table(x, A, b)"
   ]
  },
  {
   "cell_type": "markdown",
   "metadata": {},
   "source": [
    "So the Jacobi method took 50 iterations to converge to the solution $x_1=1.0000$, $x_2 = -2.0000$ and $x_3 = 3.0000$ correct to 4 decimal places."
   ]
  },
  {
   "cell_type": "markdown",
   "metadata": {},
   "source": [
    "---\n",
    "## The Gauss-Seidel method\n",
    "\n",
    "The speed of convergence for the Jacobi method can be improved by using the values of $x_j^{(k+1)}$ where $j<i$ to calculate $x_i^{(k+1)}$. This leads to the [Gauss-Seidel method](https://en.wikipedia.org/wiki/Gauss%E2%80%93Seidel_method). Writing the coefficient matrix of a system of linear equations $A\\mathbf{x}=\\mathbf{b}$ as $A = L + D + U$\n",
    "\n",
    "$$\n",
    "\\begin{aligned}\n",
    "(L + D + U)\\mathbf{x} &= \\mathbf{b} \\\\\n",
    "D\\mathbf{x} &= \\mathbf{b} - L\\mathbf{x} - U\\mathbf{x} \\\\\n",
    "\\mathbf{x} &= D^{-1}(\\mathbf{b} - L\\mathbf{x} - U\\mathbf{x}).\n",
    "\\end{aligned}\n",
    "$$\n",
    "\n",
    "Since $L$ is a lower triangular matrix the values of $x_i^{(k+1)}$ can be calculated sequentially using forward substitution so the iterative form of the Gauss-Seidel method is\n",
    "\n",
    "```{math}\n",
    ":label: gauss-seidel\n",
    "x_i^{(k+1)} = \\frac{1}{a_{ii}} \\left(b_i - \\sum_{j=1}^{i-1} a_{ij}x_j^{(k+1)} - \\sum_{j=i+1}^n a_{ij} x_j^{(k)}\\right), \\qquad  i = 1, 2, \\ldots, n.\n",
    "```"
   ]
  },
  {
   "cell_type": "markdown",
   "metadata": {},
   "source": [
    "#### Example 3\n",
    "\n",
    "Calculate the first iteration of the Gauss-Seidel method and the norm of the residual for the system of linear equations from example 1\n",
    "\n",
    "$$ \\begin{aligned}\n",
    "4x_1 + 3x_2 &= -2, \\\\\n",
    "3x_1 + 4x_2 - x_3 &= -8, \\\\\n",
    "-x_2 + 4x_3 &= 14.\n",
    "\\end{aligned} $$\n",
    "\n",
    "Using equation [(4)](#gauss-seidel) and the Gauss-Seidel iterations are\n",
    "\n",
    "$$ \\begin{aligned}\n",
    "x_1^{(k+1)} &= \\frac{1}{4}(-2 - 3x_2^{(k)}),\\\\\n",
    "x_2^{(k+1)} &= \\frac{1}{4}(-8 - 3x_1^{(k+1)} + x_3^{(k)}), \\\\\n",
    "x_3^{(k+1)} &= \\frac{1}{4}(14 + x_2^{(k+1)}).\n",
    "\\end{aligned} $$\n",
    "\n",
    "Using starting values of $\\mathbf{x}^{(0)} = (0, 0, 0)^T$ the first iteration is\n",
    "\n",
    "$$ \\begin{aligned}\n",
    "x_1^{(1)} &= \\frac{1}{4}(-2-3(0)) = -0.5, \\\\\n",
    "x_2^{(1)} &= \\frac{1}{4}(-8 - 3(-0.5) + 0) = -1.625 \\\\\n",
    "x_3^{(1)} &= \\frac{1}{4}(14 - 1.625) = 3.09375. \n",
    "\\end{aligned} $$\n",
    "\n",
    "Calculate the residual using equation {eq}`residual`\n",
    "\n",
    "$$\\mathbf{r}^{(1)} = \\mathbf{b} - A \\mathbf{x}^{(1)} = \n",
    "\\pmatrix{ -2 \\cr -8 \\cr 14} - \\pmatrix{4 & 3 & 0 \\cr 3 & 4 & -1 \\cr 0 & -1 & 4}\\pmatrix{-0.5 \\cr -1.625 \\cr 3.09375} = \\pmatrix{4.875 \\cr 3.09375 \\cr 0},$$\n",
    "\n",
    "and the norm of the residual is $\\|\\mathbf{r}^{(1)}\\|=\\sqrt{4.875^2 + 3.09375^2 + 0^2} = 5.77381$."
   ]
  },
  {
   "cell_type": "markdown",
   "metadata": {},
   "source": [
    "#### Example 4\n",
    "\n",
    "Write a Python program to solve the system of linear equations from example 1 using the Gauss-Seidel method.\n",
    "\n",
    "The function called `gauss_seidel` defined below solves a linear system of equations defined by the arrays `A` and `b`. Iterations cease when $\\|\\mathbf{r}\\|<tol$ or `maxiter` is exceeded."
   ]
  },
  {
   "cell_type": "code",
   "execution_count": 3,
   "metadata": {
    "execution": {
     "iopub.execute_input": "2020-08-18T16:27:54.067237Z",
     "iopub.status.busy": "2020-08-18T16:27:54.066345Z",
     "iopub.status.idle": "2020-08-18T16:27:54.068838Z",
     "shell.execute_reply": "2020-08-18T16:27:54.069186Z"
    }
   },
   "outputs": [],
   "source": [
    "def gauss_seidel(A, b, maxiter, tol):\n",
    "    '''\n",
    "    Calculates the solution to the system of linear equations Ax = b using\n",
    "    the Gauss-Seidel method\n",
    "    '''\n",
    "    # Initialise solution array\n",
    "    N = len(b)\n",
    "    x = np.zeros((maxiter + 1, N))\n",
    "    \n",
    "    # Iterationa loop\n",
    "    for k in range(maxiter):\n",
    "        \n",
    "        # Calculate Gauss-Seidel method\n",
    "        for i in range(N):\n",
    "            \n",
    "            # Calculate sum\n",
    "            for j in range(N):\n",
    "                if j < i:\n",
    "                    x[k+1,i] = x[k+1,i] + A[i,j] * x[k+1,j]\n",
    "                elif j > i:\n",
    "                    x[k+1,i] = x[k+1,i] + A[i,j] * x[k, j]\n",
    "            \n",
    "            # Calculate new estimate of x_i\n",
    "            x[k+1,i] = (b[i] - x[k+1,i]) / A[i,i]\n",
    "        \n",
    "        # Calculate norm of the residual\n",
    "        r = np.linalg.norm(b - np.matmul(A, x[k+1,:]))\n",
    "        \n",
    "        # Check for convergence\n",
    "        if r < tol:\n",
    "            break\n",
    "    \n",
    "    return x[:k+2,:]"
   ]
  },
  {
   "cell_type": "markdown",
   "metadata": {},
   "source": [
    "The program below uses the function `gauss_seidel` to solve the system of linear equations from example 1."
   ]
  },
  {
   "cell_type": "code",
   "execution_count": 4,
   "metadata": {
    "execution": {
     "iopub.execute_input": "2020-08-18T16:27:54.075766Z",
     "iopub.status.busy": "2020-08-18T16:27:54.074839Z",
     "iopub.status.idle": "2020-08-18T16:27:54.079810Z",
     "shell.execute_reply": "2020-08-18T16:27:54.080257Z"
    }
   },
   "outputs": [
    {
     "name": "stdout",
     "output_type": "stream",
     "text": [
      "  k      x_0       x_1       x_2     ||r||\n",
      "--------------------------------------------\n",
      "   0   0.00000   0.00000   0.00000  16.24808\n",
      "   1  -0.50000  -1.62500   3.09375   5.77381\n",
      "   2   0.71875  -1.76562   3.05859   0.42334\n",
      "   3   0.82422  -1.85352   3.03662   0.26459\n",
      "   4   0.89014  -1.90845   3.02289   0.16537\n",
      "   5   0.93134  -1.94278   3.01431   0.10335\n",
      "   6   0.95708  -1.96424   3.00894   0.06460\n",
      "   7   0.97318  -1.97765   3.00559   0.04037\n",
      "   8   0.98324  -1.98603   3.00349   0.02523\n",
      "   9   0.98952  -1.99127   3.00218   0.01577\n",
      "  10   0.99345  -1.99454   3.00136   0.00986\n",
      "  11   0.99591  -1.99659   3.00085   0.00616\n",
      "  12   0.99744  -1.99787   3.00053   0.00385\n",
      "  13   0.99840  -1.99867   3.00033   0.00241\n",
      "  14   0.99900  -1.99917   3.00021   0.00150\n",
      "  15   0.99938  -1.99948   3.00013   0.00094\n",
      "  16   0.99961  -1.99967   3.00008   0.00059\n",
      "  17   0.99976  -1.99980   3.00005   0.00037\n",
      "  18   0.99985  -1.99987   3.00003   0.00023\n",
      "  19   0.99990  -1.99992   3.00002   0.00014\n",
      "  20   0.99994  -1.99995   3.00001   0.00009\n"
     ]
    }
   ],
   "source": [
    "# Define linear system\n",
    "A = np.array([[ 4, 3, 0 ],\n",
    "              [ 3, 4, -1 ],\n",
    "              [ 0, -1, 4 ]])\n",
    "b = np.array([ -2, -8, 14 ])\n",
    "\n",
    "# Solve linear system using the Gauss-Seidel method\n",
    "x = gauss_seidel(A, b, 100, 1e-4)\n",
    "\n",
    "# Output solution table\n",
    "solution_table(x, A, b)"
   ]
  },
  {
   "cell_type": "markdown",
   "metadata": {},
   "source": [
    "Note that the Gauss-Seidel method took 20 iterations to achieve convergence to $tol=10^{-4}$ whereas the Jacobi method took 50 iterations to achieve the same accuracy. "
   ]
  },
  {
   "cell_type": "markdown",
   "metadata": {},
   "source": [
    "---\n",
    "## Convergence of direct methods\n",
    "\n",
    "We have seen that both the Jacobi and Gauss-Seidel method converge to the solution to the example system of linear equations and that the Gauss-Seidel method converges at a faster rate. Direct methods will not be convergent for all linear systems and we tell if a method will be convergent using the theorem below\n",
    "\n",
    "We can examine the convergence of an indirect method by considering the iteration of the error vector $\\mathbf{e}^{(k)}$\n",
    "\n",
    "if $\\mathbf{v}_i$ are the [eigenvectors](https://en.wikipedia.org/wiki/Eigenvalues_and_eigenvectors) of the iteration matrix $T$ with corresponding [eigenvalues](https://en.wikipedia.org/wiki/Eigenvalues_and_eigenvectors) $\\lambda_i$ then for the first error we can write\n",
    "\n",
    "$$\\mathbf{e}^{(0)} = \\alpha_1 \\mathbf{v}_1 + \\alpha_2 \\mathbf{v}_2 + \\cdots + \\alpha_n \\mathbf{v}_n = \\sum_{i=1}^n \\alpha_i \\mathbf{v}_i.$$\n",
    "\n",
    "where $\\alpha_i$ are scalars. Applying an iteration matrix to $\\mathbf{e}^{(k)}$\n",
    "\n",
    "$$ \\begin{aligned}\n",
    "\\mathbf{e}^{(1)} &= T \\mathbf{e}^{(0)} = T\\left( \\sum_{i=1}^n \\alpha_i \\mathbf{v}_i\\right) = \\sum_{i=1}^n \\alpha_i T \\mathbf{v}_i = \\sum_{i=1}^n \\alpha_i \\lambda_i \\mathbf{v}_i, \\\\\n",
    "\\mathbf{e}^{(2)} &= T \\mathbf{e}^{(1)} =  T\\left( \\sum_{i=1}^n \\alpha_i \\lambda_i \\mathbf{v}_i\\right) = \\sum_{i=1}^n \\alpha_i \\lambda_i T \\mathbf{v}_i = \\sum_{i=1}^n \\alpha_i \\lambda_i^2 \\mathbf{v}_i, \\\\\n",
    "&\\vdots \\\\\n",
    "\\mathbf{e}^{(k+1)} &= \\sum_{i=1}^n \\alpha_i \\lambda_i^k \\mathbf{v}_i.\n",
    "\\end{aligned} $$\n",
    "\n",
    "If $\\|\\lambda_1\\|>\\lambda_i$ for $i=2,3, \\ldots, n$ then\n",
    "\n",
    "$$\\mathbf{e}^{(k+1)} = \\alpha_1 \\lambda_1^{k+1} \\mathbf{v}_1 + \\sum_{i=2}^n \\alpha_i \\lambda_i^{k+1} \\mathbf{v}_i = \\lambda_1^{k+1} \\left( \\alpha_1\\mathbf{v}_1 + \\sum_{i=2}^n \\alpha_i\\mathbf{v}_i \\left(\\frac{\\lambda_i}{\\lambda_1}\\right)^{(k+1)}\\right),$$\n",
    "\n",
    "and since $\\left(\\dfrac{\\lambda_i}{\\lambda_1}\\right)^{(k+1)}$ so\n",
    "\n",
    "$$\\lim_{k\\to \\infty} \\mathbf{e}^{(k+1)} = \\alpha_1 \\lambda_1^{(k+1)} \\mathbf{v}_1.$$\n",
    "\n",
    "This means that the error varies by a factor of $\\lambda_1^{(k+1)}$ where $\\lambda_1$ is the largest eigenvalue of $T$ which is also known as the [spectral radius](https://en.wikipedia.org/wiki/Spectral_radius) and denoted by $\\rho(T)$. The spectral radius gives us the following information about an indirect method\n",
    "\n",
    "- If $\\rho(T) > 1$ then the errors will increase over each iteration, therefore for an indirect method to converge to the solution we require $\\rho(T)<1$. \n",
    "- The smaller the value of $\\rho(T)$ the faster the errors will tend to zero. "
   ]
  },
  {
   "cell_type": "markdown",
   "metadata": {},
   "source": [
    "#### Example 5\n",
    "\n",
    "Show that the Jacobi and Gauss-Seidel methods are convergent of the system of linear equations from example 1.\n",
    "\n",
    "Recall that the matrix form of the Jacobi method is equation {eq}`jacobi_x`\n",
    "\n",
    "$$\\mathbf{x}^{(k+1)} = D^{-1}(\\mathbf{b} - (L + U)\\mathbf{x}^{(k)}) = -D^{-1}(L+U)\\mathbf{x}^{(k)} + D^{-1}\\mathbf{b},$$\n",
    "\n",
    "so the iteration matrix for the Jacobi method is\n",
    "\n",
    "```{math}\n",
    ":label: T_J\n",
    "T_J = -D^{-1}(L+U).\n",
    "```\n",
    "\n",
    "The iteration matrix for the Gauss-Seidel method can be found by rearranging $(L+D+U)\\mathbf{x} = \\mathbf{b}$\n",
    "\n",
    "$$ \\begin{aligned}\n",
    "(L + D + U) \\mathbf{x} &= \\mathbf{b} \\\\\n",
    "(L + D)\\mathbf{x} &= \\mathbf{b} - U \\mathbf{x} \\\\\n",
    "\\mathbf{x} &= -(L+D)^{-1}U\\mathbf{x}  + (L+D)^{-1}\\mathbf{x},\n",
    "\\end{aligned} $$\n",
    "\n",
    "So the Gauss-Seidel method is\n",
    "\n",
    "$$\\mathbf{x}^{(k+1)} = -(L+D)^{-1} U \\mathbf{x}^{(k)} + (L+D)^{-1} \\mathbf{x}^{(k+1)},$$\n",
    "\n",
    "and the iteration matrix for the Gauss-Seidel method is\n",
    "\n",
    "```{math}\n",
    ":label: T_GS\n",
    "T_{GS} = -(L+D)^{-1} U.\n",
    "```\n",
    "\n",
    "The code below calculates the spectral radius of $T_J$ and $T_{GS}$ ."
   ]
  },
  {
   "cell_type": "code",
   "execution_count": 5,
   "metadata": {
    "execution": {
     "iopub.execute_input": "2020-08-18T16:27:54.088135Z",
     "iopub.status.busy": "2020-08-18T16:27:54.087454Z",
     "iopub.status.idle": "2020-08-18T16:27:54.089706Z",
     "shell.execute_reply": "2020-08-18T16:27:54.090132Z"
    }
   },
   "outputs": [
    {
     "name": "stdout",
     "output_type": "stream",
     "text": [
      "rho(T_J) = 0.7906\n",
      "rho(T_GS) = 0.6250\n"
     ]
    }
   ],
   "source": [
    "def jacobi_iteration_matrix(L, D, U):\n",
    "    return np.matmul(np.linalg.inv(D), L + U)\n",
    "\n",
    "def gauss_seidel_iteration_matrix(L, D, U):\n",
    "    return np.matmul(np.linalg.inv(L + D), U)\n",
    "\n",
    "# Define coefficient matrix\n",
    "A = np.array([[ 4, 3, 0 ],\n",
    "              [ 3, 4, -1 ], \n",
    "              [ 0, -1, 4 ]])\n",
    "\n",
    "# Calculate L, D and U\n",
    "L = np.tril(A, -1)\n",
    "U = np.triu(A, 1)\n",
    "D = A - L - U\n",
    "\n",
    "# Calculate spectral radii of TJ and TGS\n",
    "val, vec = np.linalg.eig(jacobi_iteration_matrix(L, D, U))\n",
    "rho_TJ = max(abs(val))\n",
    "val, vec = np.linalg.eig(gauss_seidel_iteration_matrix(L, D, U))\n",
    "rho_TGS = max(abs(val))\n",
    "\n",
    "# Output results\n",
    "print('rho(T_J) = {:0.4f}\\nrho(T_GS) = {:0.4f}'.format(rho_TJ, rho_TGS))"
   ]
  },
  {
   "cell_type": "markdown",
   "metadata": {},
   "source": [
    "So $\\rho(T_J)=0.7906$ and $\\rho(T_{GS})=0.6250$ which are both less than 1 so both of these methods is convergent for this system. Furthermore, the Gauss-Seidel method will converge faster than the Jacobi method since it has a smaller spectral radius."
   ]
  },
  {
   "cell_type": "markdown",
   "metadata": {},
   "source": [
    "---\n",
    "## The Successive Over Relaxation (SOR) method\n",
    "\n",
    "The [Successive Over Relaxation (SOR) method](https://en.wikipedia.org/wiki/Successive_over-relaxation) improves on the convergence rate of the Gauss-Seidel method by applying a weighting factor to the updated estimates to increase (or decrease in the the case of oscillatory convergence) the affect of the change.\n",
    "\n",
    "Let $\\omega$ be a **relaxation parameter** in the range $[0,2]$ and $\\mathbf{x}_{GS}^{(k)}$ denote the Gauss-Seidel solution for iteration $k$ then the SOR method is\n",
    "\n",
    "$$\\mathbf{x}^{(k+1)} = (1 - \\omega)\\mathbf{x}^{(k)} + \\omega \\mathbf{x}_{GS}^{(k)}$$\n",
    "\n",
    "so the iterative scheme is \n",
    "\n",
    "$$\n",
    "\\begin{aligned}\n",
    "\\mathbf{x}^{(k+1)} &= (1 - \\omega) \\mathbf{x}^{(k)} + \\frac{\\omega}{a_{ii}}\\left( b_i - \\sum_{j=1}^{i-1} a_{ij} \\mathbf{x}_j^{(k+1)} - \\sum_{j=i+1}^n a_{ij}\\mathbf{x}_j^{(k)} \\right). && (7)\n",
    "\\end{aligned}\n",
    "$$\n",
    "\n",
    "When $\\omega<1$ the coefficient of the first term in equation (7) is multiplied by a number greater than 1 and the second term (which is the [Gauss-Seidel method](#gauss-seidel)) is multiplied by a number less than 1 therefore reducing the change in the value of the estimate from one iteration to the next. This will speed up the rate of convergence when the estimates oscillate about the exact solution.\n",
    "\n",
    "When $\\omega>1$ the coefficient of the first term is multiplied by a number less than 1 and the second term by a number greater than 1 therefore increasing the change in the estimates. This will speed up the rate of convergence when the estimates converge monotonically."
   ]
  },
  {
   "cell_type": "markdown",
   "metadata": {},
   "source": [
    "### Optimum value of the relaxation parameter\n",
    "\n",
    "The optimum value of $\\omega$ will be the one that minimises the spectral radius of the iteration matrix. The iteration matrix for the SOR method is derived by writing the coefficient matrix of the linear system $A\\mathbf{x} = \\mathbf{b}$ using\n",
    "\n",
    "$$A = L + \\left(1 - \\frac{1}{\\omega}\\right)D + \\frac{1}{\\omega}D + U.$$\n",
    "\n",
    "Substituting into the linear system and rearranging \n",
    "\n",
    "$$\n",
    "\\begin{aligned}\n",
    "\\left( L + \\left( 1 - \\frac{1}{\\omega}\\right)D + \\frac{1}{\\omega}D + U\\right) \\mathbf{x} &= \\mathbf{b} \\\\\n",
    "(D + \\omega L) \\mathbf{x} + ((\\omega - 1) D + \\omega U) \\mathbf{x} &= \\omega \\mathbf{b} \\\\\n",
    "(D + \\omega L) \\mathbf{x} &= ((1 - \\omega)D - \\omega U) \\mathbf{x} +  \\omega \\mathbf{b} \\\\\n",
    "\\mathbf{x} &= (D + \\omega L)^{-1}((1 - \\omega)D-\\omega U)\\mathbf{x} + (D + \\omega L)^{-1}\\omega \\mathbf{b}.\n",
    "\\end{aligned}\n",
    "$$\n",
    "\n",
    "So the matrix form of the SOR method is\n",
    "\n",
    "$$\\mathbf{x}^{(k+1)} = (D + \\omega L)^{-1}((1 - \\omega)D-\\omega U)\\mathbf{x}^{(k)} + (D + \\omega L)^{-1}\\omega \\mathbf{b},$$\n",
    "\n",
    "and the iteration matrix is\n",
    "\n",
    "```{math}\n",
    ":label: T_SOR\n",
    "T_{SOR} = (D + \\omega L)^{-1}((1 - \\omega) D - \\omega U).\n",
    "```\n",
    "\n",
    "Equation {eq}`T_SOR` is a function of $\\omega$ so the spectral radius of $T_{SOR}$ will depend on $\\omega$. "
   ]
  },
  {
   "cell_type": "markdown",
   "metadata": {},
   "source": [
    "#### Example 6\n",
    "\n",
    "Determine the optimum relaxation parameter for the SOR when applied to the linear system from example 1.\n",
    "\n",
    "The code below calculates the spectral radius of the SOR method for a range of $\\omega$ values and plots them."
   ]
  },
  {
   "cell_type": "code",
   "execution_count": 6,
   "metadata": {
    "execution": {
     "iopub.execute_input": "2020-08-18T16:27:54.102476Z",
     "iopub.status.busy": "2020-08-18T16:27:54.101737Z",
     "iopub.status.idle": "2020-08-18T16:27:56.587206Z",
     "shell.execute_reply": "2020-08-18T16:27:56.587649Z"
    }
   },
   "outputs": [
    {
     "data": {
      "image/png": "[encoded data removed]",
      "text/plain": [
       "<Figure size 432x288 with 1 Axes>"
      ]
     },
     "metadata": {
      "filenames": {
       "image/png": "/Volumes/DataHD/jon/OneDrive - MMU/2020_2021/ODEs/Python_book/_build/jupyter_execute/7_indirect_methods_23_0.png"
      },
      "needs_background": "light"
     },
     "output_type": "display_data"
    }
   ],
   "source": [
    "%matplotlib inline\n",
    "import matplotlib.pyplot as plt\n",
    "from matplotlib import rc\n",
    "rc('text', usetex=True)\n",
    "\n",
    "def sor_iteration_matrix(L, D, U, omega):\n",
    "    return np.matmul(np.linalg.inv(D + omega * L), ((1 - omega) * D - omega * U))\n",
    "\n",
    "# Define coefficient matrix\n",
    "A = np.array([[ 4, 3, -1 ],\n",
    "              [ 3, 4, -1 ], \n",
    "              [ -1, -1, 4 ]])\n",
    "\n",
    "# Calculate L, D and U\n",
    "L = np.tril(A, -1)\n",
    "U = np.triu(A, 1)\n",
    "D = A - L - U\n",
    "\n",
    "# Calculate spectral radius for a range of omega values\n",
    "omega = np.linspace(0, 2, 101)\n",
    "rho_TSOR = np.zeros(omega.shape)\n",
    "for i in range(len(omega)):\n",
    "    val, vec = np.linalg.eig(sor_iteration_matrix(L, D, U, omega[i]))\n",
    "    rho_TSOR[i] = max(abs(val));\n",
    "\n",
    "# Plot spectral radius against omega\n",
    "fig, ax = plt.subplots()\n",
    "\n",
    "ax.plot(omega, rho_TSOR)\n",
    "\n",
    "ax.set_xlabel('$\\omega$', fontsize=12)\n",
    "ax.set_ylabel('$\\\\rho(T_{SOR})$', fontsize=12)\n",
    "\n",
    "plt.show()"
   ]
  },
  {
   "cell_type": "markdown",
   "metadata": {},
   "source": [
    "The value of $\\rho(T_{SOR})$ is a minimum when $\\omega \\approx 1.2$ so this is the optimum value.\n",
    "\n",
    "```{admonition} **Theorem:** Optimum relaxation parameter\n",
    ":class: tip\n",
    "If a system of linear equations of the form $A\\mathbf{x}=\\mathbf{b}$ has a positive definite coefficient matrix $A$ with all real eigenvalues then the optimum relaxation parameter for the SOR method can be calculated using\n",
    "\n",
    "$$\\omega_{opt} = 1 + \\left(\\frac{\\rho(T_J)}{1 + \\sqrt{1 - \\rho(T_J)^2}}\\right)^2,$$\n",
    "\n",
    "where $T_J$ is the iteration matrix for the Jacobi method (equation {eq}`T_J`).\n",
    "```"
   ]
  },
  {
   "cell_type": "markdown",
   "metadata": {},
   "source": [
    "#### Example 7\n",
    "\n",
    "Determine the optimum value of the relaxation parameter $\\omega$ for the linear system from example 1.\n",
    "\n",
    "Checking that $A$ is positive definite"
   ]
  },
  {
   "cell_type": "code",
   "execution_count": 7,
   "metadata": {
    "execution": {
     "iopub.execute_input": "2020-08-18T16:27:56.593554Z",
     "iopub.status.busy": "2020-08-18T16:27:56.592950Z",
     "iopub.status.idle": "2020-08-18T16:27:56.595308Z",
     "shell.execute_reply": "2020-08-18T16:27:56.595751Z"
    }
   },
   "outputs": [
    {
     "name": "stdout",
     "output_type": "stream",
     "text": [
      "lambda_1 = 7.5616\n",
      "lambda_2 = 1.0000\n",
      "lambda_3 = 3.4384\n"
     ]
    }
   ],
   "source": [
    "A = np.array([[ 4, 3, -1 ],\n",
    "              [ 3, 4, -1 ],\n",
    "              [ -1, -1, 4 ]])\n",
    "val, vec = np.linalg.eig(A)\n",
    "print('lambda_1 = {:0.4f}\\nlambda_2 = {:0.4f}\\nlambda_3 = {:0.4f}'\\\n",
    "      .format(val[0], val[1], val[2]))"
   ]
  },
  {
   "cell_type": "markdown",
   "metadata": {},
   "source": [
    "So $\\lambda_1=7.5616$, $\\lambda_2=1$ and $\\lambda_3=3.4384$ which are all real and $A$ is symmetric so $A$ is a positive definite matrix.\n",
    "\n",
    "We saw in example 6] that $\\rho(T_J) = 0.7906$, so the optimum value of $\\omega$ is\n",
    "\n",
    "$$\\omega_{opt} = 1 + \\left(\\frac{0.7906}{1 + \\sqrt{1 - 0.7906^2}}\\right)^2 = 1.2404.$$"
   ]
  },
  {
   "cell_type": "markdown",
   "metadata": {},
   "source": [
    "#### Example 8\n",
    "\n",
    "Calculate the first iteration of the SOR method using $\\omega=1.24$ and the norm of the residual for the system of linear equations from example 1.\n",
    "\n",
    "$$ \\begin{aligned}\n",
    "4x_1 + 3x_2 &= -2, \\\\\n",
    "3x_1 + 4x_2 - x_3 &= -8, \\\\\n",
    "-x_2 + 4x_3 &= 14.\n",
    "\\end{aligned} $$\n",
    "\n",
    "The SOR iterations are\n",
    "\n",
    "$$ \\begin{aligned}\n",
    "x_1^{(k+1)} &= (1 - 1.24)x_1^{(k)} +  \\frac{1.24}{4}(-2 - 3x_2^{(k)}),\\\\\n",
    "x_2^{(k+1)} &= (1 - 1.24)x_2^{(k)} + \\frac{1.24}{4}(-8 - 3x_1^{(k+1)} + x_3^{(k)}), \\\\\n",
    "x_3^{(k+1)} &= (1 - 1.24)x_3^{(k)} + \\frac{1.24}{4}(14 + x_2^{(k+1)}).\n",
    "\\end{aligned} $$\n",
    "\n",
    "Using starting values of $\\mathbf{x}^{(0)} = (0, 0, 0)^T$ the first iteration is\n",
    "\n",
    "$$ \\begin{aligned}\n",
    "x_1^{(k+1)} &= (1 - 1.24)(0) +  \\frac{1.24}{4}(-2 - 3(0)) = -0.62,\\\\\n",
    "x_2^{(k+1)} &= (1 - 1.24)(0) + \\frac{1.24}{4}(-8 - 3(-0.62) + 0) = -1.9034, \\\\\n",
    "x_3^{(k+1)} &= (1 - 1.24)(0) + \\frac{1.24}{4}(14 - 1.9034) = 3.74995.\n",
    "\\end{aligned} $$\n",
    "\n",
    "Calculate the residual\n",
    "\n",
    "$$\\mathbf{r}^{(1)} = \\mathbf{b} - A \\mathbf{x}^{(1)} = \n",
    "\\pmatrix{ -2 \\cr -8 \\cr 14} - \n",
    "\\pmatrix{4 & 3 & 0 \\cr 3 & 4 & -1 \\cr 0 & -1 & 4}\n",
    "\\pmatrix{-0.62 \\cr -1.9034 \\cr 3.74995} = \n",
    "\\pmatrix{6.1902 \\cr 5.2235 \\cr -2.9032},$$\n",
    "\n",
    "and the norm of the residual is $\\|\\mathbf{r}^{(1)}\\|=\\sqrt{6.1902^2 + 5.2235^2 + (-2.9032)^2} = 8.60421$."
   ]
  },
  {
   "cell_type": "markdown",
   "metadata": {},
   "source": [
    "#### Example 9\n",
    "\n",
    "Write a Python program to solve the system of linear equations from example 1 using the SOR method with $\\omega=1.24$.\n",
    "\n",
    "The function called `sor` below solves a linear system of equations defined by the arrays `A` and `b` using the SOR method. Iterations cease when $\\|\\mathbf{r}\\|<tol$ or `maxiter` is exceeded."
   ]
  },
  {
   "cell_type": "code",
   "execution_count": 8,
   "metadata": {
    "execution": {
     "iopub.execute_input": "2020-08-18T16:27:56.604212Z",
     "iopub.status.busy": "2020-08-18T16:27:56.603572Z",
     "iopub.status.idle": "2020-08-18T16:27:56.605677Z",
     "shell.execute_reply": "2020-08-18T16:27:56.606126Z"
    }
   },
   "outputs": [],
   "source": [
    "def sor(A, b, omega, maxiter, tol):\n",
    "    '''\n",
    "    Calculates the solution to the system of linear equations Ax = b using the SOR method\n",
    "    '''\n",
    "    # Initialise solution array\n",
    "    N = len(b)\n",
    "    x = np.zeros((maxiter + 1, N))\n",
    "    \n",
    "    # Iteration loop\n",
    "    for k in range(maxiter):\n",
    "        \n",
    "        # Calculate SOR method\n",
    "        for i in range(N):\n",
    "            \n",
    "            # Calculate sum\n",
    "            for j in range(N):\n",
    "                if j < i:\n",
    "                    x[k+1,i] = x[k+1,i] + A[i,j] * x[k+1,j]\n",
    "                elif j > i:\n",
    "                    x[k+1,i] = x[k+1,i] + A[i,j] * x[k,j]\n",
    "            \n",
    "            # Calculate new estimate of x_i\n",
    "            x[k+1,i] = (1 - omega) * x[k,i] + omega * (b[i] - x[k+1,i]) / A[i,i]\n",
    "        \n",
    "        # Calculate the norm of the residual\n",
    "        r = np.linalg.norm(b - np.matmul(A, x[k+1,:]))\n",
    "\n",
    "        # Check for convergence\n",
    "        if r < tol:\n",
    "            break\n",
    "    \n",
    "    return x[:k+2,:]"
   ]
  },
  {
   "cell_type": "markdown",
   "metadata": {},
   "source": [
    "The program below uses the function `sor` to solve the system of linear equations from example 1."
   ]
  },
  {
   "cell_type": "code",
   "execution_count": 9,
   "metadata": {
    "execution": {
     "iopub.execute_input": "2020-08-18T16:27:56.612902Z",
     "iopub.status.busy": "2020-08-18T16:27:56.611866Z",
     "iopub.status.idle": "2020-08-18T16:27:56.615013Z",
     "shell.execute_reply": "2020-08-18T16:27:56.615466Z"
    }
   },
   "outputs": [
    {
     "name": "stdout",
     "output_type": "stream",
     "text": [
      "  k      x_0       x_1       x_2     ||r||\n",
      "--------------------------------------------\n",
      "   0   0.00000   0.00000   0.00000  16.24808\n",
      "   1  -0.62000  -1.90340   3.74995   8.60421\n",
      "   2   1.29896  -2.06874   2.79870   1.48306\n",
      "   3   0.99217  -2.03863   3.03634   0.31850\n",
      "   4   1.03780  -2.01462   2.98675   0.13283\n",
      "   5   1.00452  -2.00481   3.00169   0.01419\n",
      "   6   1.00338  -2.00147   2.99914   0.01066\n",
      "   7   1.00055  -2.00043   3.00007   0.00118\n",
      "   8   1.00027  -2.00012   2.99994   0.00080\n",
      "   9   1.00005  -2.00003   3.00000   0.00011\n",
      "  10   1.00002  -2.00001   3.00000   0.00006\n"
     ]
    }
   ],
   "source": [
    "# Define linear system\n",
    "A = np.array([[ 4, 3, 0 ],\n",
    "              [ 3, 4, -1 ],\n",
    "              [ 0, -1, 4 ]])\n",
    "b = np.array([ -2, -8, 14 ])\n",
    "\n",
    "# Solve linear system using the SOR method\n",
    "x = sor(A, b, 1.24, 100, 1e-4)\n",
    "\n",
    "# Output solution table\n",
    "solution_table(x, A, b)"
   ]
  },
  {
   "cell_type": "markdown",
   "metadata": {},
   "source": [
    "Note that the SOR method took 10 iterations to achieve convergence to $tol=10^{-4}$ whereas the Gauss-Seidel and Jacobi methods took 20 and 50 iterations respectively to achieve the same accuracy."
   ]
  },
  {
   "cell_type": "markdown",
   "metadata": {},
   "source": [
    "---\n",
    "## Summary\n",
    "\n",
    "- Indirect methods use an iterative approach to improve an estimate of the solution to a system of linear equations. The methods are iterated until the estimates have achieved the required accuracy.\n",
    "- The Jacobi method uses information from the previous iteration only to update the estimates.\n",
    "- The Gauss-Seidel method uses values of estimates already calculated in a given iteration to update the estimates. This means that the Gauss-Seidel method will converge to a solution faster than the Jacobi method. \n",
    "- An indirect method will converge to the exact solution if the value of the spectral radius (the largest absolute eigenvalue) of the iteration matrix for a linear system is less than 1. \n",
    "- The smaller the value of the spectral radius, the faster the method will converge to the exact solution.\n",
    "- The SOR method uses a relaxation parameter to adjust how much estimates will change over a single iteration. The value of the relaxation parameter is chosen to minimise the spectral radius. "
   ]
  },
  {
   "cell_type": "markdown",
   "metadata": {},
   "source": [
    "---\n",
    "## Exercises\n",
    "\n",
    "1. Using a pen and calculator, calculate the first 2 iterations of the Jacobi method for solving the system of linear equations below. Use starting values of $x_i^{(0)}=0$ and work to 4 decimal places.\n",
    "\n",
    "    $$\n",
    "\\begin{aligned}\n",
    "4x_1 + x_2 - x_3 + x_4 &= 14 ,\\\\\n",
    "x_1 + 4x_2 - x_3 - x_4 &= 10, \\\\\n",
    "-x_1 -x_2 + 5x_3 + x_4 &= -15, \\\\\n",
    "x_1 - x_2 + x_3 + 3x_4 &= 3.\n",
    "\\end{aligned}\n",
    "$$\n",
    "\n",
    "\n",
    "2. Repeat question 1 using the Gauss-Seidel method.\n",
    "3. Repeat question 1 using the SOR method using the optimum value for the relaxation parameter (use Python to determine the spectral radius of $T_J$).\n",
    "\n",
    "4. Which method would you expect to converge to the solution with the fewest iterations? What quantitative evidence do you have to support your conclusion?\n",
    "\n",
    "5. Write a Python program to calculate the solution to questions 1 to 3 using $tol=10^{-5}$.\n",
    "\n",
    "6. A linear system has the following coefficient matrix. What is the largest value that  can be in order for the Jacobi method to be convergent?\n",
    "\n",
    "    $$A = \\pmatrix{ 2 & 1 \\cr \\alpha & 2}$$\n",
    "\n",
    "\n",
    "7. A linear system has the following coefficient matrix. Is the Jacobi method convergent for this system? If not, can the system be altered so that the Jacobi method is convergent?\n",
    "\n",
    "    $$A = \\pmatrix{1 & 3 & 1 \\cr 2 & 1 & 0 \\cr 1 & 1 & 4}$$"
   ]
  }
 ],
 "metadata": {
  "kernelspec": {
   "display_name": "Python 3",
   "language": "python",
   "name": "python3"
  },
  "language_info": {
   "codemirror_mode": {
    "name": "ipython",
    "version": 3
   },
   "file_extension": ".py",
   "mimetype": "text/x-python",
   "name": "python",
   "nbconvert_exporter": "python",
   "pygments_lexer": "ipython3",
   "version": "3.7.4"
  }
 },
 "nbformat": 4,
 "nbformat_minor": 4
}