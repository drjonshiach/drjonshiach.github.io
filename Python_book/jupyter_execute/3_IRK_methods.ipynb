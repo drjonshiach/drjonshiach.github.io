{
 "cells": [
  {
   "cell_type": "markdown",
   "metadata": {},
   "source": [
    "# Implicit Runge-Kutta Methods\n",
    "\n",
    "#### Learning outcomes\n",
    "\n",
    "On successful completion of this page readers will be able to:\n",
    "\n",
    "- [Determine the order](#Dermining-the-order-of-an-implicit-Runge-Kutta-method) of an implicit Runge-Kutta method;\n",
    "- Derive [Gauss-Legendre](#Gauss-Legendre-methods), [Radau](#Radau-methods), [DIRK](#Diagonally-implicit-Runge-Kutta-methods) and [SDIRK](#Singly-diagonally-implicit-Runge-Kutta-methods) implicit Runge-Kutta methods;\n",
    "- [Apply implicit Runge-Kutta methods to solve initial value problems](#Implementation-of-implicit-Runge-Kutta-methods)."
   ]
  },
  {
   "cell_type": "markdown",
   "metadata": {},
   "source": [
    "**Implicit Runge-Kutta** (IRK) methods and **Explicit Runge-Kutta** (ERK) methods are the two main types of the family of Runge-Kutta methods. ERK methods are straightforward to apply to solve an ordinary differential equation but are not suitable for **stiff** systems. This is why we need to also consider IRK methods. \n",
    "\n",
    "The general form of an IRK method to solve a first-order ODE $y'=f(t, y)$\n",
    "\n",
    "$$\n",
    "\\begin{aligned}\n",
    "    y_{n+1} &= y_n + h\\sum_{i=1}^s b_i k_i, \\\\\n",
    "    k_i &= f(t_n + c_ih, y_n + h\\sum_{j=1}^s a_{ij}k_j).\n",
    "\\end{aligned}\n",
    "$$\n",
    "\n",
    "Here $y_n = y(t_n)$ is the solution at a discrete point in the domain $t_n$, $y_{n+1} = y(t_n + h)$ is the solution at some small step $h$ along the domain, $a_{ij}$, $b_i$ and $c_i$ are coefficients that define a particular method and $k_i$ are intermediate **stage values** used to calculate $y_{n+1}$.\n",
    "\n",
    "It is common to represent the $a_{ij}$, $b_i$ and $c_i$ coefficients in a **Butcher tableau**\n",
    "\n",
    "$$\\begin{array}{c|cccc}\n",
    "c_1 & a_{11} & a_{12} & \\cdots & a_{1s} \\\\\n",
    "c_2 & a_{21} & a_{22} & \\cdots & a_{2s} \\\\\n",
    "\\vdots & \\vdots & \\vdots & \\ddots & \\vdots \\\\\n",
    "c_s & a_{s1} & a_{s2} & \\cdots & a_{ss} \\\\ \\hline\n",
    "& b_1 & b_2 & \\cdots & b_s\n",
    "\\end{array}$$\n",
    "\n",
    "Note that the $A$ matrix of an IRK method has non-zero elements in the upper triangular region and on the main diagonal whereas the $A$ method for an ERK method only has non-zero elements in the lower triangular region."
   ]
  },
  {
   "cell_type": "markdown",
   "metadata": {},
   "source": [
    "## Determining the order of an implicit Runge-Kutta method\n",
    "\n",
    "<a id=\"order_conditions\"></a>\n",
    "One of the differences between IRK and ERK methods is that an IRK method can achieve the same accuracy as an ERK method but using fewer stages. To determine the order of an IRK method we need to consider the **order conditions** that govern the values of $A$, $\\mathbf{b}$ and $\\mathbf{c}$ which are\n",
    "\n",
    "```{math}\n",
    ":label: B(k)\n",
    "B(k): \\qquad \\sum_{i=1}^s b_ic_i^{j-1} = \\frac{1}{j}, \\qquad j = 1, 2, \\ldots, k\n",
    "```\n",
    "\n",
    "```{math}\n",
    ":label: C(k)\n",
    "C(k): \\qquad \\sum_{j=1}^s a_{ij}c_j^{\\ell-1} = \\frac{1}{\\ell}c_i^{\\ell}, \\qquad i = 1, 2, \\ldots s, \\qquad \\ell = 1, 2, \\ldots , k,\n",
    "```\n",
    "\n",
    "```{math}\n",
    ":label: D(k)\n",
    "D(k): \\qquad \\sum_{i=1}^s b_ic_i^{\\ell-1} a_{ij} = \\frac{1}{\\ell} b_j (1 - c_j^\\ell), \\qquad j = 1, 2, \\ldots, s, \\qquad \\ell = 1, 2, \\ldots, k.\n",
    "```\n",
    "\n",
    "Let $G(k)$ represent a given IRK method has order $k$, then it can be shown that\n",
    "\n",
    "$$B(k) \\text{ and } C(\\lfloor \\tfrac{k}{2} \\rfloor) \\text{ and } D(\\lfloor \\tfrac{k}{2} \\rfloor) \\implies G(k).$$\n",
    "\n",
    "So to determine the order of an IRK method we need to find the highest value of $k$ for which equation {eq}`B(k)` is satisfied and which equations {eq}`C(k)` and {eq}`D(k)` are satisfied for $\\lfloor \\frac{k}{2} \\rfloor$ (i.e. the integer part of $\\frac{k}{2}$)."
   ]
  },
  {
   "cell_type": "markdown",
   "metadata": {},
   "source": [
    "#### Example 1\n",
    "\n",
    "Determine the order of the following IRK method\n",
    "\n",
    "$$\\begin{array}{c|cc}\n",
    "\\frac{1}{4} & \\frac{1}{4} & 0 \\\\\n",
    "\\frac{3}{4} & \\frac{1}{2} & \\frac{1}{4} \\\\ \\hline\n",
    "& \\frac{1}{2} & \\frac{1}{2}\n",
    "\\end{array} $$\n",
    "\n",
    "Checking the $B(k)$ order condition:\n",
    "\n",
    "$$\n",
    "\\begin{aligned}\n",
    "    j &= 1, & \\mathrm{LHS} &= b_1c_1^0 + b_2c_2^0 = \\frac{1}{2}\\cdot 1 + \\frac{1}{2}\\cdot 1  = 1, & \\mathrm{RHS} & = 1, \\\\\n",
    "    j &= 2, & \\mathrm{LHS} &= b_1c_1^1 + b_2c_2^1 = \\frac{1}{2} \\cdot \\frac{1}{4} + \\frac{1}{2} \\cdot \\frac{3}{4} = \\frac{1}{2}, & \\mathrm{RHS} &= \\frac{1}{2}, \\\\\n",
    "    j &= 3, & \\mathrm{LHS} &= b_1c_1^2 + b_2c_2^2 = \\frac{1}{2} \\cdot \\frac{1}{16} + \\frac{1}{2} \\cdot \\frac{9}{16} = \\frac{5}{16}, & \\mathrm{RHS} &= \\frac{1}{3}.\n",
    "\\end{aligned}\n",
    "$$\n",
    "\n",
    "So the $B(k)$ order condition is satisfied up to $k=j=2$. Now we need to check whether $C(k)$ order condition is satisfied up to $k = 1$.\n",
    "\n",
    "$$\n",
    "\\begin{aligned}\n",
    "    \\ell &= 1, & i &= 1, & \\mathrm{LHS} &= a_{11}c_1^0 + a_{12}c_2^0 = \\frac{1}{4} \\cdot 1 + 0 \\cdot 1 = \\frac{1}{4}, & \\mathrm{RHS} &= \\frac{1}{\\ell}c_1^\\ell = \\frac{1}{4}, \\\\\n",
    "    \\ell &= 1, & i &= 2, & \\mathrm{LHS} &= a_{21}c_1^0 + a_{22}c_2^0 = \\frac{1}{2} \\cdot 1 + \\frac{1}{4} \\cdot 1 = \\frac{3}{4}, & \\mathrm{RHS} &= \\frac{1}{\\ell}c_2^\\ell = \\frac{3}{4}\n",
    "\\end{aligned}\n",
    "$$\n",
    "\n",
    "So the $C(k)$ order condition is satisfied up to $k=1$. Now we need to check whether the $D(k)$ order condition is satisfied up to $k=1$\n",
    "\n",
    "$$\n",
    "\\begin{aligned}\n",
    "    \\ell &= 1, & j &= 1, & \\mathrm{LHS} &= b_1c_1^0a_{11} + b_2c_2^0 a_{21} = \\frac{1}{2} \\cdot 1 \\cdot \\frac{1}{4} + \\frac{1}{2} \\cdot 1 \\cdot \\frac{1}{2} = \\frac{3}{8}, \\\\\n",
    "    & & & & \\mathrm{RHS} &= \\frac{1}{\\ell}b_1(1 - c_1^\\ell) = \\frac{1}{2}\\left(1 - \\frac{1}{4}\\right) = \\frac{3}{8}, \\\\\n",
    "    \\ell &= 1, & j &= 2, & \\mathrm{LHS} &= b_1c_1^0a_{12} + b_2c_2^0a_{22} = \\frac{1}{2}\\cdot 1 \\cdot 0 + \\frac{1}{2} \\cdot 1 \\cdot \\frac{1}{4} = \\frac{1}{8}, \\\\\n",
    "    & & & & \\mathrm{RHS} &= \\frac{1}{\\ell}b_2(1 - c_2^\\ell) = \\frac{1}{2}\\left( 1 - \\frac{3}{4} \\right) = \\frac{1}{8}.\n",
    "\\end{aligned}\n",
    "$$\n",
    "\n",
    "So the $D(k)$ order condition is satisfied up to $k=1$. Therefore since $B(2)$, $C(1)$ and $D(1)$ are all satisfied this IRK method is order 2."
   ]
  },
  {
   "cell_type": "markdown",
   "metadata": {},
   "source": [
    "---\n",
    "## Deriving implicit Runge-Kutta methods\n",
    "\n",
    "### Gauss-Legendre methods\n",
    "\n",
    "[**Gauss-Legendre**](https://en.wikipedia.org/wiki/Gauss%E2%80%93Legendre_method) IRK methods are a family of methods that are derived using Gauss-Legendre quadrature. An $s$-stage Gauss-Legendre method has order $k=2s$. They are derived using [Legendre polynomials](https://en.wikipedia.org/wiki/Legendre_polynomials) which can take the form\n",
    "\n",
    "```{math}\n",
    ":label: P_n(t)\n",
    "P_n(t) = \\sum_{k=0}^n {n \\choose k}{n+k \\choose k}(t - 1)^k.\n",
    "```\n",
    "\n",
    "where ${n \\choose k}$ is the [Binomial coefficient](https://en.wikipedia.org/wiki/Binomial_coefficient). The values of the $c_i$ coefficients are the roots of $P_{s}(t)$, the values of the $b_i$ coefficients are chosen to satisfy the $B(k)$ condition and the $a_{ij}$ coefficients are chosen to satisfy the $C(\\lfloor \\frac{k}{2} \\rfloor)$ condition."
   ]
  },
  {
   "cell_type": "markdown",
   "metadata": {},
   "source": [
    "#### Example 2\n",
    "\n",
    "Derive a fourth-order Gauss-Legendre method.\n",
    "\n",
    "A fourth-order Gauss-Legendre method will have $s=2$ stages and the $c_i$ coefficients are chosen to satisfy $0 = P_{2}(t)$\n",
    "\n",
    "$$\n",
    "\\begin{aligned}\n",
    "    0 &= {2 \\choose 0}{2 \\choose 0}(t - 1)^0 + {2 \\choose 1}{3 \\choose 1}(t - 1)^1 + {2 \\choose 2}{4 \\choose 2}(t - 1)^2 \\\\\n",
    "    &= 1 + 6t - 6 + 6t^2 - 12t + 6 \\\\\n",
    "    &= 6t^2 - 6t + 1,\n",
    "\\end{aligned}\n",
    "$$\n",
    "\n",
    "therefore $c_1 = \\frac{1}{2} - \\frac{\\sqrt{3}}{6}$ and $c_2 = \\frac{1}{2} + \\frac{\\sqrt{3}}{6}$. The $b_i$ and $a_{ij}$ coefficients are chosen to satisfy the $B(4)$ and $C(2)$ order conditions respectively\n",
    "\n",
    "$$\n",
    "\\begin{aligned}\n",
    "    b_1 + b_2 &= 1, \\\\\n",
    "    b_1c_1 + b_2c_2 &= \\frac{1}{2}, \\\\\n",
    "    a_{11} + a_{12} &= c_1, \\\\\n",
    "    a_{21} + a_{22} &= c_2, \\\\\n",
    "    a_{11}c_1 + a_{12}c_2 &= \\frac{1}{2}c_1^2, \\\\\n",
    "    a_{21}c_1 + a_{22}c_2 &= \\frac{1}{2}c_2^2.\n",
    "\\end{aligned}\n",
    "$$\n",
    "\n",
    "The code below uses the [`solve`](https://docs.sympy.org/latest/modules/solvers/solvers.html) command from the `sympy` library to solve these order conditions for the coefficients $a_{ij}$ and $b_i$."
   ]
  },
  {
   "cell_type": "code",
   "execution_count": 1,
   "metadata": {
    "execution": {
     "iopub.execute_input": "2020-08-18T12:53:15.016741Z",
     "iopub.status.busy": "2020-08-18T12:53:15.015974Z",
     "iopub.status.idle": "2020-08-18T12:53:17.125864Z",
     "shell.execute_reply": "2020-08-18T12:53:17.126250Z"
    }
   },
   "outputs": [
    {
     "data": {
      "text/plain": [
       "{a11: 1/4,\n",
       " a12: 1/4 - sqrt(3)/6,\n",
       " a21: 1/4 + sqrt(3)/6,\n",
       " a22: 1/4,\n",
       " b1: 1/2,\n",
       " b2: 1/2}"
      ]
     },
     "execution_count": 1,
     "metadata": {},
     "output_type": "execute_result"
    }
   ],
   "source": [
    "from sympy import *\n",
    "\n",
    "# Define symbolic variables\n",
    "a11, a12, a21, a22, b1, b2, c1, c2, = symbols('a11, a12, a21, a22, b1, b2, c1, c2')\n",
    "c1 = Rational('1 / 2') - sqrt(3) / 6\n",
    "c2 = Rational('1 / 2') + sqrt(3) / 6\n",
    "\n",
    "# Define order conditions\n",
    "eqn1 = b1 + b2 - 1\n",
    "eqn2 = b1 * c1 + b2 * c2 - Rational('1 / 2')\n",
    "eqn3 = a11 + a12 - c1\n",
    "eqn4 = a21 + a22 - c2\n",
    "eqn5 = a11 * c1 + a12 * c2 - Rational('1 / 2') * c1**2\n",
    "eqn6 = a21 * c1 + a22 * c2 - Rational('1 / 2') * c2**2\n",
    "\n",
    "# Solve the order conditions\n",
    "solve((eqn1, eqn2, eqn3, eqn4, eqn5, eqn6))"
   ]
  },
  {
   "cell_type": "markdown",
   "metadata": {},
   "source": [
    "So $b_1 = \\frac{1}{2}$, $b_2 = \\frac{1}{2}$, $a_{11} = \\frac{1}{4}$, $a_{12} = \\frac{1}{4} - \\frac{\\sqrt{3}}{6}$, $a_{21} = \\frac{1}{4} + \\frac{\\sqrt{3}}{6}$ and $a_{22} = \\frac{1}{4}$. So the fourth-order Gauss-Legendre method is\n",
    "\n",
    "$$\\begin{array}{c|cc}\n",
    "\\frac{1}{2} - \\frac{\\sqrt{3}}{6} & \\frac{1}{4} & \\frac{1}{4} - \\frac{\\sqrt{3}}{6} \\\\\n",
    "\\frac{1}{2} + \\frac{\\sqrt{3}}{6} & \\frac{1}{4} + \\frac{\\sqrt{3}}{6} & \\frac{1}{4} \\\\ \\hline\n",
    "& \\frac{1}{2} & \\frac{1}{2}\n",
    "\\end{array}$$"
   ]
  },
  {
   "cell_type": "markdown",
   "metadata": {},
   "source": [
    "### Radau methods\n",
    "\n",
    "Gauss-Legendre methods give us maximal order for the number of stages, however sometimes it is better the sacrifice order to gain better stability properties (see [Stability of Runge-Kutta Methods](stability.ipynb)). An $s$-stage [**Radau**](https://en.wikipedia.org/wiki/List_of_Runge%E2%80%93Kutta_methods#Radau_methods) IRK method has order $k=2s-1$ and is A-stable. The are two types of Radau methods: Radau IA and Radau IIA.\n",
    "\n",
    "#### Radau IA: \n",
    "Let $c_1=0$ and the other $c_i$ coefficients are the roots of \n",
    "\n",
    "$$0 = P_s(t) + P_{s-1}(t)$$\n",
    "\n",
    "The coefficients $b_i$ are chosen to satisfy the $B(2s)$ order condition and the coefficients $a_{ij}$ are chosen to satisfy the $C(s)$ order condition.\n",
    "\n",
    "#### Radau IIA\n",
    "Let $c_2 = 1$ and the other $c_i$ coefficients are the roots of \n",
    "\n",
    "$$0=P_s(t) - P_{s-1}(t)$$\n",
    "\n",
    "The coefficients $b_i$ are chosen to satisfy the $B(2s)$ order condition and the coefficients $a_{ij}$ are chosen to satisfy the $C(s)$ order condition."
   ]
  },
  {
   "cell_type": "markdown",
   "metadata": {},
   "source": [
    "#### Example 3\n",
    "\n",
    "Derive a third-order Radau IA method.\n",
    "\n",
    "A $k=3$ order Radau IA method will have $s=2$ stages. Let $c_1=0$ then the value of $c_2$ is the root of $0 = P_2(t) + P_1(t)$\n",
    "\n",
    "\\begin{align*}\n",
    "    0 = (6t^2 - 6t + 1) + (2t - 1) = 6t^2 - 4t,\n",
    "\\end{align*}\n",
    "\n",
    "which is $c_2 = \\frac{2}{3}$. The values of $b_i$ and $a_{ij}$ need to satisfy the $B(4)$ and $C(2)$ order conditions respectively with $k=2$ (same as in [example 2](#Example-2))."
   ]
  },
  {
   "cell_type": "code",
   "execution_count": 2,
   "metadata": {
    "execution": {
     "iopub.execute_input": "2020-08-18T12:53:17.157338Z",
     "iopub.status.busy": "2020-08-18T12:53:17.156561Z",
     "iopub.status.idle": "2020-08-18T12:53:17.159710Z",
     "shell.execute_reply": "2020-08-18T12:53:17.160094Z"
    }
   },
   "outputs": [
    {
     "data": {
      "text/plain": [
       "{a11: 0, a12: 0, a21: 1/3, a22: 1/3, b1: 1/4, b2: 3/4}"
      ]
     },
     "execution_count": 2,
     "metadata": {},
     "output_type": "execute_result"
    }
   ],
   "source": [
    "# Define symbolic variables\n",
    "a11, a12, a21, a22, b1, b2, c1, c2, = symbols('a11, a12, a21, a22, b1, b2, c1, c2')\n",
    "c1 = 0\n",
    "c2 = Rational('2 / 3')\n",
    "\n",
    "# Define order conditions\n",
    "eqn1 = b1 + b2 - 1\n",
    "eqn2 = b1 * c1 + b2 * c2 - Rational('1 / 2')\n",
    "eqn3 = a11 + a12 - c1\n",
    "eqn4 = a21 + a22 - c2\n",
    "eqn5 = a11 * c1 + a12 * c2 - Rational('1 / 2') * c1**2\n",
    "eqn6 = a21 * c1 + a22 * c2 - Rational('1 / 2') * c2**2\n",
    "\n",
    "# Solve system\n",
    "solve((eqn1, eqn2, eqn3, eqn4, eqn5, eqn6))"
   ]
  },
  {
   "cell_type": "markdown",
   "metadata": {},
   "source": [
    "So $a_{11} = 0$, $a_{12} = 0$, $a_{21} = \\frac{1}{3}$,  $a_{22} = \\frac{1}{3}$, $b_1 = \\frac{1}{4}$ and $b_2 = \\frac{3}{4}$ and the third-order Radau IA method is \n",
    "\n",
    "$$\\begin{array}{c|cc}\n",
    "0 & 0 & 0 \\\\ \n",
    "\\frac{2}{3} & \\frac{1}{3} & \\frac{1}{3} \\\\ \\hline\n",
    "& \\frac{1}{4} & \\frac{3}{4}\n",
    "\\end{array}$$"
   ]
  },
  {
   "cell_type": "markdown",
   "metadata": {},
   "source": [
    "### Diagonally implicit Runge-Kutta methods\n",
    "\n",
    "[**Diagonally Implicit Runge-Kutta**](https://en.wikipedia.org/wiki/List_of_Runge%E2%80%93Kutta_methods#Diagonally_Implicit_Runge_Kutta_methods) (DIRK) methods are where the $A$ matrix is lower triangular with non-zero elements on the main diagonal, i.e.,\n",
    "\n",
    "$$\\begin{array}{c|cccc}\n",
    "c_1 & a_{11} \\\\\n",
    "c_2 & a_{21} & a_{22} \\\\\n",
    "\\vdots & \\vdots & \\vdots & \\ddots \\\\\n",
    "c_s & a_{s1} & a_{s2} & \\cdots & a_{ss} \\\\ \\hline\n",
    "& b_1 & b_2 & \\cdots & b_s\n",
    "\\end{array}$$\n",
    "\n",
    "The advantage of DIRK methods is that although the stage values $k_1, k_2, \\ldots, k_s$ are defined using implicit equations, the solutions to these can be obtained sequentially since the equation for $k_i$ does not include $k_{i+1}, k_{i+2}, \\ldots, k_s$.\n",
    "\n",
    "The coefficients of a $k$th-order DIRK method are chosen to satisfy the $B(k)$ and $C(\\lfloor \\frac{k}{2} \\rfloor)$ order conditions along with\n",
    "\n",
    "$$ \\mathbf{b}^T \\cdot A \\cdot \\mathbf{c} = \\frac{1}{k!}$$"
   ]
  },
  {
   "cell_type": "markdown",
   "metadata": {},
   "source": [
    "#### Example 4\n",
    "\n",
    "Derive a 2-stage third-order DIRK method.\n",
    "\n",
    "Since $k=3$ the order conditions are (remembering that $a_{12}=0$)\n",
    "\n",
    "$$\n",
    "\\begin{aligned}\n",
    "    b_1 + b_2 &= 1, \\\\\n",
    "    b_1c_1 + b_2c_2 &= \\frac{1}{2}, \\\\\n",
    "    b_1c_1^2 + b_2c_2^2 &= \\frac{1}{3}, \\\\\n",
    "    a_{11} &= c_1, \\\\\n",
    "    a_{21} + a_{22} &= c_2, \\\\\n",
    "    b_1a_{11}c_1 + b_2(a_{21}c_1 + a_{22}c_2) &= \\frac{1}{6}\n",
    "\\end{aligned}\n",
    "$$\n",
    "\n",
    "Here we have a system of 6 equations in 7 unknowns. Choosing $c_1=\\frac{1}{4}$ and solving for the other coefficients."
   ]
  },
  {
   "cell_type": "code",
   "execution_count": 3,
   "metadata": {
    "execution": {
     "iopub.execute_input": "2020-08-18T12:53:17.230893Z",
     "iopub.status.busy": "2020-08-18T12:53:17.205800Z",
     "iopub.status.idle": "2020-08-18T12:53:17.233806Z",
     "shell.execute_reply": "2020-08-18T12:53:17.234184Z"
    }
   },
   "outputs": [
    {
     "data": {
      "text/plain": [
       "[{a11: 1/4, a21: 2/3, a22: 1/6, b1: 4/7, b2: 3/7, c2: 5/6}]"
      ]
     },
     "execution_count": 3,
     "metadata": {},
     "output_type": "execute_result"
    }
   ],
   "source": [
    "# Define symbolic variables\n",
    "a11, a21, a22, b1, b2, c1, c2 = symbols('a11, a21, a22, b1, b2, c1, c2')\n",
    "c1 = Rational('1 / 4')\n",
    "\n",
    "# Define order conditions\n",
    "eqn1 = b1 + b2 - 1\n",
    "eqn2 = b1 * c1 + b2 * c2 - Rational('1 / 2')\n",
    "eqn3 = b1 * c1**2 + b2 * c2**2 - Rational('1 / 3')\n",
    "eqn4 = a11 - c1\n",
    "eqn5 = a21 + a22 - c2\n",
    "eqn6 = b1 * a11 * c1 + b2 * (a21 * c1 + a22 * c2) - Rational('1 / 6')\n",
    "\n",
    "# Solve for the coefficients\n",
    "solve((eqn1, eqn2, eqn3, eqn4, eqn5, eqn6))"
   ]
  },
  {
   "cell_type": "markdown",
   "metadata": {},
   "source": [
    "So $a_{11} = \\frac{1}{4}$, $a_{21} = \\frac{2}{3}$, $a_{22} = \\frac{1}{6}$, $b_1 = \\frac{4}{7}$, $b_2 = \\frac{3}{7}$ and $c_2 = \\frac{5}{6}$  so a third-order DIRK method is\n",
    "\n",
    "$$\\begin{array}{c|cc}\n",
    "\\frac{1}{4} & \\frac{1}{4} \\\\\n",
    "\\frac{5}{6} & \\frac{2}{3} & \\frac{1}{6}  \\\\ \\hline\n",
    "& \\frac{4}{7} & \\frac{3}{7}\n",
    "\\end{array}$$"
   ]
  },
  {
   "cell_type": "markdown",
   "metadata": {},
   "source": [
    "### Singly diagonally implicit Runge-Kutta methods\n",
    "\n",
    "**Singly Diagonally Implicit Runge-Kutta** (SDIRK) methods are a variation on DIRK method with the additional condition that the elements on the main diagonal have the same value (i.e., $a_{ii}=c_1$ by the row sum condition on the first row of $A$)\n",
    "\n",
    "$$\\begin{array}{c|cccc}\n",
    "c_1 & c_1 \\\\\n",
    "c_2 & a_{21} & c_1 \\\\\n",
    "\\vdots & \\vdots & \\vdots & \\ddots \\\\\n",
    "c_s & a_{s1} & a_{s2} & \\cdots & c_1 \\\\ \\hline\n",
    "& b_1 & b_2 & \\cdots & b_s\n",
    "\\end{array}$$\n",
    "\n",
    "The advantage that SDIRK methods is that they are A-stable for certain values of $c_1$.\n",
    "\n",
    "The derivation of an $k$th-order SDIRK method uses the $B(k)$, $C(\\lfloor \\frac{k}{2} \\rfloor)$ and $D(\\lfloor \\frac{k}{2} \\rfloor)$  order conditions."
   ]
  },
  {
   "cell_type": "markdown",
   "metadata": {},
   "source": [
    "#### Example 5\n",
    "\n",
    "Derive 2-stage third-order SDIRK method.\n",
    "\n",
    "Since $a_{11} = a_{22} = c_1$ the order conditions used in [example 4](#Example-4) become\n",
    "\n",
    "$$\n",
    "\\begin{aligned}\n",
    "    b_1 + b_2 &= 1, \\\\\n",
    "    b_1c_1 + b_2c_2 &= \\frac{1}{2}, \\\\\n",
    "    b_1c_1^2 + b_2c_2^2 &= \\frac{1}{3}, \\\\\n",
    "    a_{21} + c_1 &= c_2, \\\\\n",
    "    b_1c_1^2 + b_2(a_{21}c_1 + c_1c_2) &= \\frac{1}{6}\n",
    "\\end{aligned}\n",
    "$$\n",
    "\n",
    "Here we have 5 equations in 5 unknowns. Solving these order conditions:"
   ]
  },
  {
   "cell_type": "code",
   "execution_count": 4,
   "metadata": {
    "execution": {
     "iopub.execute_input": "2020-08-18T12:53:17.321653Z",
     "iopub.status.busy": "2020-08-18T12:53:17.278555Z",
     "iopub.status.idle": "2020-08-18T12:53:17.374452Z",
     "shell.execute_reply": "2020-08-18T12:53:17.375012Z"
    }
   },
   "outputs": [
    {
     "data": {
      "text/plain": [
       "[{a21: -sqrt(3)/3, b1: 1/2, b2: 1/2, c1: sqrt(3)/6 + 1/2, c2: 1/2 - sqrt(3)/6},\n",
       " {a21: sqrt(3)/3, b1: 1/2, b2: 1/2, c1: 1/2 - sqrt(3)/6, c2: sqrt(3)/6 + 1/2}]"
      ]
     },
     "execution_count": 4,
     "metadata": {},
     "output_type": "execute_result"
    }
   ],
   "source": [
    "# Define symbolic variables\n",
    "a21, b1, b2, c1, c2 = symbols('a21, b1, b2, c1, c2')\n",
    "\n",
    "# Define order conditions\n",
    "eqn1 = b1 + b2 - 1\n",
    "eqn2 = b1 * c1 + b2 * c2 - Rational('1 / 2')\n",
    "eqn3 = b1 * c1**2 + b2 * c2**2 - Rational('1 / 3')\n",
    "eqn4 = a21 + c1 - c2\n",
    "eqn5 = b1 * c1 * c1 + b2 * (a21 * c1 + c1 * c2) - Rational('1 / 6')\n",
    "\n",
    "# Solve for the coefficients\n",
    "solve((eqn1, eqn2, eqn3, eqn4, eqn5))"
   ]
  },
  {
   "cell_type": "markdown",
   "metadata": {},
   "source": [
    "So $a_{21} = \\mp \\frac{\\sqrt{3}}{3}$, $b_1 = \\frac{1}{2}$, $b_2 = \\frac{1}{2}$, $c_1 = \\frac{1}{2} \\pm \\frac{\\sqrt{3}}{6}$ $c_2 = \\mp \\frac{\\sqrt{3}}{6}$ and the third-order SDIRK method is \n",
    "\n",
    "$$\\begin{array}{c|cc}\n",
    "    \\frac{1}{2} \\pm \\frac{\\sqrt{3}}{6} & \\frac{1}{2} \\pm \\frac{\\sqrt{3}}{6} \\\\\n",
    "    \\frac{1}{2} \\mp \\frac{\\sqrt{3}}{6} & \\mp \\frac{\\sqrt{3}}{3} & \\frac{1}{2} \\pm \\frac{\\sqrt{3}}{6} \\\\ \\hline\n",
    "    & \\frac{1}{2} & \\frac{1}{2}\n",
    "\\end{array}$$"
   ]
  },
  {
   "cell_type": "markdown",
   "metadata": {},
   "source": [
    "---\n",
    "## Implementation of implicit Runge-Kutta methods\n",
    "\n",
    "Recall that the general form of an IRK method is\n",
    "\n",
    "$$\n",
    "\\begin{aligned}\n",
    "    y_{n+1} &= y_n + h\\sum_{i=1}^s b_i k_i, \\\\\n",
    "    k_i &= f(t_n + c_ih, y_n + h\\sum_{j=1}^s a_{ij}k_j).\n",
    "\\end{aligned}\n",
    "$$\n",
    "\n",
    "Let $Y_i = y_n + h\\displaystyle\\sum_{j=1}^s a_{ij}k_j$ then\n",
    "\n",
    "$$\n",
    "\\begin{aligned}\n",
    "    y_{n+1} &= y_n + h \\sum_{i=1}^s b_i f(t_n + c_ih, Y_i), \\\\\n",
    "    Y_i &= y_n + h \\sum_{j=1}^s a_{ij} f(t_n + c_jh, Y_j).\n",
    "\\end{aligned}\n",
    "$$\n",
    "\n",
    "Expanding the summation in the expression for $Y_i$ gives\n",
    "\n",
    "$$\n",
    "\\begin{aligned}\n",
    "    Y_1 &= y_n + h (a_{11} f(t_n + c_1h, Y_1) + a_{12} f(t_n + c_2h, Y_2) + \\cdots + a_{1s} f(t_n + c_sh, Y_s)), \\\\\n",
    "    Y_2 &= y_n + h (a_{21} f(t_n + c_1h, Y_1) + a_{22} f(t_n + c_2h, Y_2) + \\cdots + a_{2s} f(t_n + c_sh, Y_s)), \\\\\n",
    "    & \\vdots \\\\\n",
    "    Y_s &= y_n + h (a_{s1} f(t_n + c_1h, Y_1) + a_{s2} f(t_n + c_2h, Y_2) + \\cdots + a_{ss} f(t_n + c_sh, Y_s)).\n",
    "\\end{aligned}\n",
    "$$\n",
    "\n",
    "Let $Y = (Y_1, Y_2, \\ldots, Y_s)^T$ then we can write\n",
    "\n",
    "<a id=\"irk_vector\"></a>\n",
    "\n",
    "$$Y =  y_n + h A \\cdot f(t_n + \\mathbf{c}h, Y),$$\n",
    "\n",
    "and\n",
    "\n",
    "```{math}\n",
    ":label: irk_y_{n+1}\n",
    "y_{n+1} = y_n + h \\mathbf{b}^T \\cdot f( t_n + \\mathbf{c}h, Y).\n",
    "```\n",
    "\n",
    "Since the equation for the stage values $Y$ is an implicit equation we need to use an iterative method to solve this. The simplest iterative method is the <a id=\"jacobi\"></a>[Jacobi method](https://en.wikipedia.org/wiki/Jacobi_method). Let $Y^{k}$ denote an estimate of $Y$ and $Y^{k+1}$ denote an improved estimate. Using non-zero starting values for $Y^0$ the Jacobi method applied to calculate the stage values of an IRK is\n",
    "\n",
    "```{math}\n",
    ":label: jacobi\n",
    "Y^{k+1} = y_n + h A \\cdot f(t_n + \\mathbf{c}h, Y^k).\n",
    "```\n",
    "\n",
    "The method is iterated until the largest absolute difference between two successive iterations of the method is less than some small number $tol$, i.e.,\n",
    "\n",
    "$$\\max |Y^{k+1} - Y^{k}| < tol.$$\n",
    "\n",
    "Note that the Jacobi method is computationally inefficient and in practice [Newton's method](https://en.wikipedia.org/wiki/Newton%27s_method) is most commonly used to calculate $Y$. This requires calculation of a [Jacobian matrix](https://en.wikipedia.org/wiki/Jacobian_matrix_and_determinant) and the solution to a linear system of equations and is outside of the scope of this course."
   ]
  },
  {
   "cell_type": "markdown",
   "metadata": {},
   "source": [
    "#### Example 6\n",
    "\n",
    "Calculate the first step of the following IRK method\n",
    "\n",
    "$$\\begin{array}{c|cc}\n",
    "0 & \\frac{1}{4} & -\\frac{1}{4} \\\\\n",
    "\\frac{2}{3} & \\frac{1}{4} & \\frac{5}{12} \\\\ \\hline\n",
    "& \\frac{1}{4} & \\frac{3}{4}\n",
    "\\end{array}$$\n",
    "\n",
    "to solve the IVP \n",
    "\n",
    "\\begin{align*}\n",
    "    y' &= \\sin^2(t)y, & t &\\in [0, 5], & y(0) &= 1,\n",
    "\\end{align*}\n",
    "\n",
    "using a step length of $h=0.5$.\n",
    "\n",
    "Since $t_0=0$ and $y_0=1$ we need to iterate equation {eq}`jacobi` to solve for the stage values $Y$. Using $Y^0 = (1, 1)^T$:\n",
    "\n",
    "$$\n",
    "\\begin{aligned}\n",
    "    Y^1 &= y_0 + h A f(t_0 + \\mathbf{c}h, Y^0) = 1 + 0.5\\pmatrix{\\frac{1}{4} & -\\frac{1}{4} \\\\ \\frac{1}{4} & \\frac{5}{12}} \\pmatrix{\\sin^2(0+0(0.5))(1) \\\\ \\sin^2(0+\\frac{2}{3}(0.5))(1)} = \\pmatrix{0.9866 \\\\ 1.0223},  \\\\\n",
    "    Y^2 &= y_0 + h A f(t_0 + \\mathbf{c}h, Y^1) = 1 + 0.5\\pmatrix{\\frac{1}{4} & -\\frac{1}{4} \\\\ \\frac{1}{4} & \\frac{5}{12}} \\pmatrix{\\sin^2(0+0(0.5))(0.9866) \\\\ \\sin^2(0 + \\frac{2}{3}(0.5))(1.0223)} = \\pmatrix{0.9863 \\\\ 1.0228}, \\\\\n",
    "    Y^3 &= y_0 + h A f(t_0 + \\mathbf{c}h, Y^2) = 1 + 0.5\\pmatrix{\\frac{1}{4} & -\\frac{1}{4} \\\\ \\frac{1}{4} & \\frac{5}{12}} \\pmatrix{\\sin^2(0+0(0.5))(0.9863) \\\\ \\sin^2(0+\\frac{2}{3}(0.5))(1.0228)} = \\pmatrix{0.9863 \\\\ 1.0228}, \\\\\n",
    "\\end{aligned}\n",
    "$$\n",
    "\n",
    "Here the values of $Y^2$ and $Y^3$ agree to 4 decimal places. Substituting these into equation {eq}`irk_y_{n+1}`\n",
    "\n",
    "$$\n",
    "\\begin{aligned}\n",
    "    y_1 &= y_0 + h \\mathbf{b}^T \\cdot f(t_0 + \\mathbf{c}h, Y) = 1 + 0.5 \\pmatrix{ \\frac{1}{2} & \\frac{1}{2}} \\pmatrix{ \\sin^2(0+0(0.5))(0.9863) \\\\ \\sin^2(0+\\frac{2}{3}(0.5))(1.0228)} = 1.0411.\n",
    "\\end{aligned}\n",
    "$$"
   ]
  },
  {
   "cell_type": "markdown",
   "metadata": {},
   "source": [
    "#### Example 7\n",
    "\n",
    "Calculate the solution of the IVP from [example 6](#Example-6) over the whole domain $t\\in [0,5]$ using the given IRK method with a step length of $h=0.5$ and compare it to the exact solution given by\n",
    "\n",
    "$$y = e^{(t - \\sin(t)\\cos(t))/2}$$\n",
    "\n",
    "The functions below defines the right-hand side of the ODE and the exact solution to the IVP."
   ]
  },
  {
   "cell_type": "code",
   "execution_count": 5,
   "metadata": {
    "execution": {
     "iopub.execute_input": "2020-08-18T12:53:17.380366Z",
     "iopub.status.busy": "2020-08-18T12:53:17.379652Z",
     "iopub.status.idle": "2020-08-18T12:53:17.848481Z",
     "shell.execute_reply": "2020-08-18T12:53:17.848935Z"
    }
   },
   "outputs": [],
   "source": [
    "import numpy as np\n",
    "\n",
    "def f(t, y):\n",
    "    return np.sin(t)**2 * y\n",
    "\n",
    "def exact_sol(t):\n",
    "    return np.exp(0.5 * (t - np.sin(t) * np.cos(t)))"
   ]
  },
  {
   "cell_type": "markdown",
   "metadata": {},
   "source": [
    "The function below solves a first-order IVP using IRK method defined by the inputs `A`, `b` and `c`."
   ]
  },
  {
   "cell_type": "code",
   "execution_count": 6,
   "metadata": {
    "execution": {
     "iopub.execute_input": "2020-08-18T12:53:17.856858Z",
     "iopub.status.busy": "2020-08-18T12:53:17.856205Z",
     "iopub.status.idle": "2020-08-18T12:53:17.858222Z",
     "shell.execute_reply": "2020-08-18T12:53:17.858779Z"
    }
   },
   "outputs": [],
   "source": [
    "def irk(f, tspan, y0, h, A, b, c):\n",
    "    '''\n",
    "    Calculates the solution to an initial value problem using an implicit\n",
    "    Runge-Kutta method defined by A, b and c\n",
    "    '''\n",
    "    # Initialise output ararys\n",
    "    nsteps = int((tspan[1] - tspan[0]) / h)\n",
    "    t = np.zeros(nsteps + 1)\n",
    "    y = np.zeros(nsteps + 1)\n",
    "    t[0] = tspan[0]\n",
    "    y[0] = y0\n",
    "\n",
    "    # Loop through steps\n",
    "    for n in range(nsteps):\n",
    "\n",
    "        # Solve for Y values using the Jacobi method\n",
    "        Y = np.ones(b.shape)\n",
    "        for k in range(100):\n",
    "            Ynew = y[n] + h * np.matmul(A, f(t[n] + c * h, Y))\n",
    "\n",
    "            # Check for convergence\n",
    "            if max(np.abs(Ynew - Y)) < 1e-6:\n",
    "                break\n",
    "\n",
    "            # Update Y\n",
    "            Y = Ynew\n",
    "\n",
    "        # Calculate the solution at the next step\n",
    "        y[n + 1] = y[n] + h * np.matmul(b.T, f(t[n] + c * h, Y))\n",
    "        t[n + 1] = t[n] + h\n",
    "\n",
    "    return t, y"
   ]
  },
  {
   "cell_type": "markdown",
   "metadata": {},
   "source": [
    "The program below solves the IVP given here using this IRK method."
   ]
  },
  {
   "cell_type": "code",
   "execution_count": 7,
   "metadata": {
    "execution": {
     "iopub.execute_input": "2020-08-18T12:53:17.872185Z",
     "iopub.status.busy": "2020-08-18T12:53:17.871624Z",
     "iopub.status.idle": "2020-08-18T12:53:20.658202Z",
     "shell.execute_reply": "2020-08-18T12:53:20.658814Z"
    }
   },
   "outputs": [
    {
     "name": "stdout",
     "output_type": "stream",
     "text": [
      " t     RK2    Exact\n",
      "--------------------\n",
      "0.00  1.0000  1.0000\n",
      "0.50  1.0411  1.0404\n",
      "1.00  1.3174  1.3135\n",
      "1.50  2.0535  2.0436\n",
      "2.00  3.2955  3.2845\n",
      "2.50  4.4465  4.4359\n",
      "3.00  4.8160  4.8059\n",
      "3.50  4.8943  4.8830\n",
      "4.00  5.7944  5.7699\n",
      "4.50  8.6166  8.5589\n",
      "5.00 14.0405 13.9573\n"
     ]
    },
    {
     "data": {
      "image/png": "[encoded data removed]",
      "text/plain": [
       "<Figure size 432x288 with 1 Axes>"
      ]
     },
     "metadata": {
      "filenames": {
       "image/png": "/Volumes/DataHD/jon/OneDrive - MMU/2020_2021/ODEs/Python_book/_build/jupyter_execute/3_IRK_methods_27_1.png"
      },
      "needs_background": "light"
     },
     "output_type": "display_data"
    }
   ],
   "source": [
    "%matplotlib inline\n",
    "import matplotlib.pyplot as plt\n",
    "from matplotlib import rc\n",
    "rc('text', usetex=True)\n",
    "\n",
    "# Define IRK method\n",
    "A = np.array([[1 / 4, -1 / 4], [1 / 4, 5 / 12]])\n",
    "b = np.array([1 / 4, 3 / 4]).T\n",
    "c = np.array([0, 2 / 3]).T\n",
    "\n",
    "# Define IVP parameters\n",
    "tspan = [0, 5]\n",
    "y0 = 1\n",
    "h = 0.5\n",
    "\n",
    "# Solve IVP using the IRK method\n",
    "t, y = irk(f, tspan, y0, h, A, b, c)\n",
    "\n",
    "# Output solution table\n",
    "print(' t     RK2    Exact\\n' + '-' * 20)\n",
    "for n in range(len(t)):\n",
    "    print('{:3.2f} {:7.4f} {:7.4f}'.format(t[n], y[n], exact_sol(t[n])))\n",
    "\n",
    "# Plot solutions\n",
    "fig, ax = plt.subplots()\n",
    "\n",
    "t1 = np.linspace(tspan[0], tspan[1], 100)\n",
    "ax.plot(t1, exact_sol(t1), 'k-', label='Exact')\n",
    "ax.plot(t, y, 'bo-', label='IRK')\n",
    "\n",
    "ax.set_title(\"Solution to the IVP $y'=\\sin^2(t)y$, $y(0) = 1$\")\n",
    "ax.set_xlabel('$t$', fontsize=12)\n",
    "ax.set_ylabel('$y(t)$', fontsize=12)\n",
    "ax.legend()\n",
    "\n",
    "plt.show()"
   ]
  },
  {
   "cell_type": "markdown",
   "metadata": {},
   "source": [
    "We can see here that the solution computed using this IRK method (which is of order 3) closely matches the exact solution."
   ]
  },
  {
   "cell_type": "markdown",
   "metadata": {},
   "source": [
    "---\n",
    "## Summary\n",
    "\n",
    "- The stage values in an [Implicit Runge-Kutta (IRK) method](#Implicit-Runge-Kutta-Methods) are defined using implicit equations.\n",
    "- The $A$ matrix of an IRK method has non-zero elements on the main diagonal or upper triangular region.\n",
    "- IRK methods use fewer stages to achieve the same accuracy as Explicit Runge-Kutta (ERK) methods.\n",
    "- The derivation of IRK methods involves choosing values of $a_{ij}$, $b_i$ and $c_I$ to satisfy some [order conditions](#order_conditions).\n",
    "- IRK methods have better stability properties than ERK methods meaning they can be used to solve stiff ODEs with which ERK methods are unsuitable (see [Stability of Runge-Kutta method](stability.ipynb)).\n",
    "- IRK methods require an iterative method such as the [Jacobi method](#jacobi) to calculate the stage values.\n",
    "- IRK methods are more computationally expensive when applied to non-stiff methods than ERK methods."
   ]
  },
  {
   "cell_type": "markdown",
   "metadata": {},
   "source": [
    "---\n",
    "## Exercises\n",
    "\n",
    "1. Show that the Radau IA method derived in [example 3](#Example-3) is a third-order method.\n",
    "2. Determine the order of the following IRK method\n",
    "\n",
    "    $$\n",
    "\\begin{array}{c|ccc}\n",
    "0 & 0 & 0 \\\\\n",
    "\\frac{1}{2} & \\frac{1}{4} & \\frac{1}{4} & 0 \\\\\n",
    "1 & 0 & 1 & 0 \\\\ \\hline\n",
    "& \\frac{1}{6} & \\frac{2}{3} & \\frac{1}{6}\n",
    "\\end{array}\n",
    "$$\n",
    "\n",
    "3. Derive a third-order Radau IIA method.\n",
    "\n",
    "4. Derive a two-stage second-order SDIRK method with $c_1=\\frac{1}{4}$.\n",
    "\n",
    "5. Using pen and a calculator and working to 4 decimal places, calculate the first step of your IRK method derived in question 4 to solve the following IVP using a step length of $h=0.4$\n",
    "\n",
    "    $$y' = ty, \\qquad t \\in [0, 2], \\qquad y(0) = 1.$$\n",
    "\n",
    "\n",
    "6. The exact solution to the IVP in question 5 is $y=e^{t^2/2}$. Using Python repeat question 5 for the full domain and produce a table comparing the numerical and exact solutions and plot the numerical solutions and exact solutions on the same set of axes.\n"
   ]
  }
 ],
 "metadata": {
  "kernelspec": {
   "display_name": "Python 3",
   "language": "python",
   "name": "python3"
  },
  "language_info": {
   "codemirror_mode": {
    "name": "ipython",
    "version": 3
   },
   "file_extension": ".py",
   "mimetype": "text/x-python",
   "name": "python",
   "nbconvert_exporter": "python",
   "pygments_lexer": "ipython3",
   "version": "3.7.4"
  }
 },
 "nbformat": 4,
 "nbformat_minor": 4
}