{
 "cells": [
  {
   "cell_type": "markdown",
   "metadata": {},
   "source": [
    "# Stability of Runge-Kutta Methods\n",
    "\n",
    "#### Learning outcomes\n",
    "\n",
    "On successful completion of this page readers will be able to:\n",
    "\n",
    "- Understand the concept of [local](#local_truncation_error) and [global](#global_truncation_error) truncation errors and what it means for a method to be considered [stable](#stability_definition).\n",
    "- Determine the [stability function](#Stability-functions) of [explicit](#Stability-function-of-an-explicit-Runge-Kutta-method) and [implicit](#Stability-function-of-an-implicit-Runge-Kutta-method) Runge-Kutta method.\n",
    "- Plot the region of [absolute stability](#Absolute-stability).\n",
    "- Determine whether an implicit Runge-Kutta method is [A-stable](#A-stability) or not.\n",
    "\n",
    "The derivation of a numerical method to solve an ODE involves omitting the higher-order terms from the Taylor series known as **truncating** the [Taylor series](https://en.wikipedia.org/wiki/Taylor_series). In doing this we introduce an errors which at each step of the method and it is important to be able to analyse the extent to which these errors affect the numerical solutions. In the majority of cases the exact solution of an ODE is unknown (if it was known we would not need to use a numerical method to solve it) so we cannot determine the values of the errors but we can examine their behaviour through each step of the method.\n",
    "\n",
    "To do this it is necessary to introduce terminology used to describe the [truncation errors](https://en.wikipedia.org/wiki/Truncation_error_(numerical_integration)).\n",
    "\n",
    "\n",
    "```{admonition} **Definition**: Local trunction error\n",
    "Let $y_n$ be a numerical approximation of the exact solution $y(t_n)$ for some step $n$ of a method then the **local truncation error** is \n",
    "\n",
    "$$ \\tau_n = |y_n - y(t_n)|.$$\n",
    "```\n",
    "    \n",
    "\n",
    "```{admonition} **Definition**: Global trunction error\n",
    "**Definition:** The **global truncation error** is the accumulation of the local truncation errors up to the current step\n",
    "\n",
    "$$E_n = \\sum_{i=0}^n \\tau_i.$$\n",
    "```\n",
    "\n",
    "If $|\\tau_{i+1} - \\tau_{i}|>1$ (i.e., the local truncation errors grow from one step to the next) then $E_n \\to \\infty$ as $n$ gets large and the method is said to be **unstable** and unusable. So for a method to be considered **stable** we need the the growth in the local truncation errors to remain bounded which leads to the definition of numerical stability.\n",
    "\n",
    "```{admonition} **Definition**: Stability \n",
    "If $\\tau_n$ is the local truncation error of a numerical method for solving a differential equation then the method is considered **stable** if \n",
    "\n",
    "$$|\\tau_{n+1} - \\tau_{n}|\\leq 1,$$ \n",
    "\n",
    "for all steps of the method.\n",
    "```\n",
    "\n",
    "Since the Taylor series truncation error  is some function of the step length , as  increases then so does the truncation error and the more likely a method is to be unstable. "
   ]
  },
  {
   "cell_type": "markdown",
   "metadata": {},
   "source": [
    "#### Example 1\n",
    "Consider the [Euler method](https://en.wikipedia.org/wiki/Euler_method) when applied to solve the ODE $y' = -2.3y$ over the domain $t \\in [0, 5]$ with an initial condition $y(0) = 1$. This ODE has the exact solution $y=e^{-2.3t}$. The code below compares the Euler method solutions using two steps lengths of $h=0.7$ and $h=1$ to the exact solution."
   ]
  },
  {
   "cell_type": "code",
   "execution_count": 1,
   "metadata": {
    "execution": {
     "iopub.execute_input": "2020-08-18T13:56:20.238312Z",
     "iopub.status.busy": "2020-08-18T13:56:20.237063Z",
     "iopub.status.idle": "2020-08-18T13:56:25.039336Z",
     "shell.execute_reply": "2020-08-18T13:56:25.039786Z"
    },
    "scrolled": true
   },
   "outputs": [
    {
     "data": {
      "image/png": "[encoded data removed]",
      "text/plain": [
       "<Figure size 432x288 with 1 Axes>"
      ]
     },
     "metadata": {
      "filenames": {
       "image/png": "/Volumes/DataHD/jon/OneDrive - MMU/2020_2021/ODEs/Python_book/_build/jupyter_execute/4_stability_2_0.png"
      },
      "needs_background": "light"
     },
     "output_type": "display_data"
    }
   ],
   "source": [
    "%matplotlib inline\n",
    "import numpy as np\n",
    "import matplotlib.pyplot as plt\n",
    "from matplotlib import rc\n",
    "rc('text', usetex=True)\n",
    "\n",
    "def euler(tspan, y0, h):\n",
    "    '''\n",
    "    Calculates the solution to an IVP using the Euler method\n",
    "    '''\n",
    "    # Initialise solution arrays\n",
    "    nsteps = int((tspan[1] - tspan[0]) / h)\n",
    "    t = np.zeros(nsteps + 1)\n",
    "    y = np.zeros(nsteps + 1)\n",
    "    t[0] = tspan[0]\n",
    "    y[0] = y0\n",
    "    \n",
    "    # Solver loop\n",
    "    for n in range(nsteps):\n",
    "        y[n+1] = y[n] + h * f(t[n], y[n])\n",
    "        t[n+1] = t[n] + h\n",
    "    \n",
    "    return t, y\n",
    "\n",
    "def f(t, y):\n",
    "    return -2.3 * y\n",
    "\n",
    "\n",
    "def exact_sol(t):\n",
    "    return np.exp(-2.3 * t)\n",
    "\n",
    "\n",
    "# Define IVP parameters\n",
    "tspan = [ 0, 5 ]\n",
    "y0 = 1\n",
    "h1, h2 = 0.7, 1.0\n",
    "\n",
    "# Solve IVP using the Euler method \n",
    "t1, y1 = euler(tspan, y0, h1) # h = 0.7\n",
    "t2, y2 = euler(tspan, y0, h2) # h = 1.0\n",
    "\n",
    "# Plot numerical and exact solutions\n",
    "fig, ax = plt.subplots()\n",
    "\n",
    "t = np.linspace(tspan[0], tspan[1], 100)\n",
    "ax.plot(t, exact_sol(t), 'k-', label='Exact solution')\n",
    "ax.plot(t1, y1, 'bo-', label='Euler ($h={:0.1f}$)'.format(h1))\n",
    "ax.plot(t2, y2, 'ro-', label='Euler ($h={:0.1f}$)'.format(h2))\n",
    "\n",
    "ax.set_xlabel('$t$', fontsize=12)\n",
    "ax.set_ylabel('$y(t)$', fontsize=12)\n",
    "ax.set_title(\"Euler method solutions for $y'=-2.3y$\", fontsize=12)\n",
    "ax.legend()\n",
    "\n",
    "plt.show()"
   ]
  },
  {
   "cell_type": "markdown",
   "metadata": {},
   "source": [
    "Here we can see that the solution using $h=0.7$ remains stable whereas the solution using $h=1.0$ is diverging and unstable."
   ]
  },
  {
   "cell_type": "markdown",
   "metadata": {},
   "source": [
    "## Stability functions\n",
    "\n",
    "To examine the behaviour of the local truncation errors as we step through a method we use the test ODE $y' = \\lambda y$. As the values of $y_{n+1}$ are updated using the values of $y_n$ so are the values of $\\tau_{n+1}$ using $\\tau_n$ by the same method. This allows us to define a **stability function** for a method.\n",
    "\n",
    "```{admonition} **Definition:** Stability function\n",
    "The **stability function** of a method, $R(z)$ is the rate of growth over a single step of the method when applied to calculate the solution of an ODE of the form $y'=\\lambda y$ where $z = h\\lambda$ and $h$ is the step size, i.e.,\n",
    "\n",
    "$$y_{n+1} = R(z)y_n.$$\n",
    "```"
   ]
  },
  {
   "cell_type": "markdown",
   "metadata": {},
   "source": [
    "#### Example 2\n",
    "Determine the stability function for the Euler method.\n",
    "\n",
    "If the Euler method is used to solve and ODE of the form $y'=f(t, y)$ then the solution will be updated over one step using\n",
    "\n",
    "$$y_{n+1} = y_n + hf(t_n, y_n),$$\n",
    "\n",
    "then the local truncation errors will also update in the same step by\n",
    "\n",
    "$$\\tau_{n+1} = \\tau_n + hf(t_n, \\tau_n).$$\n",
    "\n",
    "Applying the Euler method to the test ODE we have\n",
    "\n",
    "$$y_{n+1} = y_n + h\\lambda y_n.$$\n",
    "\n",
    "Let $z = h\\lambda$ then\n",
    "\n",
    "$$y_{n+1} = y_n + zy_n = (1 + z) y_n.$$\n",
    "\n",
    "So the stability function of the Euler method is $R(z) = 1 + z$."
   ]
  },
  {
   "cell_type": "markdown",
   "metadata": {},
   "source": [
    "### Absolute stability\n",
    "We have seen that a necessary condition for stability of a method is that the local truncation errors must not grow from one step to the next. A method satisfying this basic condition is considered to be **absolutely stable**. Since the stability function $R(z)$ is expressed using $z=h\\lambda$ then a method may be stable for some value of $z$ and unstable for others. This provides the definition for absolute stability. \n",
    "\n",
    "```{admonition} **Definition:** Absolute stability\n",
    "A method is considered to be **absolutely stable** if $|R(z)\\leq 1|$ for $z\\in \\mathbb{C}$.\n",
    "```\n",
    "\n",
    "Of course we require our methods to be stable so it is useful to know for what values of $z$ we have a stable method. This gives the definition of the **region of absolute stability**.\n",
    "\n",
    "```{admonition} **Definition:** Region of absolute stability\n",
    "The **region of absolute stability** is the set of all $z\\in \\mathbb{C}$ for which a method is absolutely stable.\n",
    "\n",
    "$$\\text{region of absolute stability} = \\{ z : z \\in \\mathbb{C}, |R(z)| \\leq 1 \\}.$$\n",
    "```"
   ]
  },
  {
   "cell_type": "markdown",
   "metadata": {},
   "source": [
    "#### Example 3\n",
    "The stability function for the Euler method is $R(z) = 1 + z$. The code below generates a set of points in the complex plane $z = x + yi$ (where $i=\\sqrt{-1}$) and plots the contour where $|R(z)|=1$ which represents the boundary of the stability region of the Euler method. "
   ]
  },
  {
   "cell_type": "code",
   "execution_count": 2,
   "metadata": {
    "execution": {
     "iopub.execute_input": "2020-08-18T13:56:25.047993Z",
     "iopub.status.busy": "2020-08-18T13:56:25.047437Z",
     "iopub.status.idle": "2020-08-18T13:56:25.353332Z",
     "shell.execute_reply": "2020-08-18T13:56:25.353838Z"
    }
   },
   "outputs": [
    {
     "data": {
      "image/png": "[encoded data removed]",
      "text/plain": [
       "<Figure size 432x288 with 1 Axes>"
      ]
     },
     "metadata": {
      "filenames": {
       "image/png": "/Volumes/DataHD/jon/OneDrive - MMU/2020_2021/ODEs/Python_book/_build/jupyter_execute/4_stability_8_0.png"
      },
      "needs_background": "light"
     },
     "output_type": "display_data"
    }
   ],
   "source": [
    "# Generate z values\n",
    "x = np.linspace(-5, 5, 100)\n",
    "y = np.linspace(-5, 5, 100)\n",
    "[X, Y] = np.meshgrid(x, y)\n",
    "Z = X + Y * 1j\n",
    "\n",
    "# Define the stability function for the Euler method\n",
    "R = 1 + Z\n",
    " \n",
    "# Plot the region of absolute stability\n",
    "fig, ax = plt.subplots()\n",
    "\n",
    "ax.contourf(X, Y, abs(R), levels=[0, 1], colors='lightskyblue')\n",
    "ax.contour(X, Y, abs(R), levels=[1], colors='k')\n",
    "ax.plot([-10, 10], [0, 0], 'k', linewidth=1)\n",
    "ax.plot([0, 0], [-10, 10], 'k', linewidth=1)\n",
    "\n",
    "ax.set_title('The region of absolute stability of the Euler method')\n",
    "ax.set_xlabel('$\\mathrm{Re}(z)$')\n",
    "ax.set_ylabel('$\\mathrm{Im}(z)$')\n",
    "ax.set_xlim(-3, 1)\n",
    "ax.set_ylim(-1.5, 1.5)\n",
    "ax.set_aspect(1)\n",
    "\n",
    "plt.show()"
   ]
  },
  {
   "cell_type": "markdown",
   "metadata": {},
   "source": [
    "The Euler method for solving $y'=\\lambda y$ will be stable for point $z$ that lies within the shaded region."
   ]
  },
  {
   "cell_type": "markdown",
   "metadata": {},
   "source": [
    "### Interval of absolute stability\n",
    "The choice of step length used in a method will depend on accuracy requirements, computational resources available and of course stability. It is often necessary to use as large a value of the step length as possible permitted by the stability requirements to minimise the computational effort required to solve an ODE. The range values of the step length that can be chosen is governed by the stability region and provides use with the following definition.\n",
    "\n",
    "```{admonition} **Definition:** Interval of absolute stability\n",
    "The range of real values that the step length $h$ of a method can take that ensures a method remains absolutely stable is known as the **interval of absolute stability**\n",
    "```\n",
    "\n",
    "The region of absolute stability for the Euler method plotted above shows that the interval of absolute stability is\n",
    "\n",
    "$$z \\in [-2, 0],$$\n",
    "\n",
    "i.e., the real part of the region of absolute stability.\n",
    "\n",
    "Since $z=h\\lambda$ then\n",
    "\\begin{align*}\n",
    "    h \\in \\left[ -\\frac{2}{\\lambda}, 0\\right],\n",
    "\\end{align*}\n",
    "so we have the condition \n",
    "\n",
    "$$h \\leq -\\dfrac{2}{\\lambda}.$$"
   ]
  },
  {
   "cell_type": "markdown",
   "metadata": {},
   "source": [
    "#### Example 4\n",
    "The step length for the Euler method when used to solve the ODE $y'=-2.3y$ must satisfy\n",
    "\n",
    "$$h \\leq \\frac{2}{2.3} \\approx 0.8696.$$\n",
    "\n",
    "This is why in the first example the solution using $h=0.7$ was stable since $0.7 < 0.8696$ and the solution using $h=1.0$ was unstable since $1 > 0.8696$."
   ]
  },
  {
   "cell_type": "markdown",
   "metadata": {},
   "source": [
    "---\n",
    "### Stability function of a Runge-Kutta Method\n",
    "\n",
    "The general form of a Runge-Kutta method is\n",
    "\n",
    "$$\n",
    "\\begin{aligned}\n",
    "    y_{n+1} &= y_n + h\\sum_{i=1}^s b_i k_i, \\\\\n",
    "    k_i &= f(t_n + c_ih, y_n + h\\sum_{j=1}^s a_{ij}k_j).\n",
    "\\end{aligned}\n",
    "$$\n",
    "\n",
    "Let $Y_i = y_n + h\\displaystyle\\sum_{j=1}^s a_{ij}k_j$ and applying the method to the test ODE $y'=\\lambda y$ the method becomes\n",
    "\n",
    "```{math}\n",
    ":label: y_{n+1}\n",
    "y_{n+1} = y_n + h\\lambda \\sum_{i=1}^s b_i Y_i,\n",
    "```\n",
    "\n",
    "and the stage values are\n",
    "\n",
    "```{math} \n",
    ":label: Y_i\n",
    "Y_i = y_n + h\\lambda \\displaystyle\\sum_{j=1}^s a_{ij} Y_j.\n",
    "```\n",
    "\n",
    "Let $z=h\\lambda$ and expanding out the summations in the stage values gives\n",
    "\n",
    "$$\n",
    "\\begin{aligned}\n",
    "    Y_1 &= y_n + z (a_{11}Y_1 + a_{12}Y_2 + \\cdots + a_{1s}Y_s), \\\\\n",
    "    Y_2 &= y_n + z (a_{21}Y_1 + a_{22}Y_2 + \\cdots + a_{2s}Y_s), \\\\\n",
    "    & \\vdots \\\\\n",
    "    Y_s &= y_n + z (a_{s1}Y_1 + a_{s2}Y_2 + \\cdots + a_{ss}Y_s).\n",
    "\\end{aligned}\n",
    "$$\n",
    "\n",
    "Let $Y = (Y_1, Y_2, \\ldots, Y_s)^T$ and $\\mathbf{e} = (1, 1, \\ldots, 1)^T$ then we can write the stage values in vector form as\n",
    "\n",
    "```{math}\n",
    ":label: Y\n",
    "    Y = \\mathbf{e} y_n + z \\,A \\cdot Y.\n",
    "```\n",
    "\n",
    "Substituting $\\displaystyle\\sum_{i=1}^s b_iY_i = \\mathbf{b}^T \\cdot Y$ into equation {eq}`y_{n+1}` gives the vector form of a Runge-Kutta method to solve the test ODE\n",
    "\n",
    "```{math}\n",
    ":label: y_{n+1}_vector\n",
    "y_{n+1} = y_n + z\\, \\mathbf{b}^T \\cdot Y.\n",
    "```"
   ]
  },
  {
   "cell_type": "markdown",
   "metadata": {},
   "source": [
    "### Stability function of an explicit Runge-Kutta method\n",
    "\n",
    "Rerranging equation {eq}`Y` we have\n",
    "\n",
    "$$Y = (I - zA)^{-1} \\cdot \\mathbf{e} y_n,$$\n",
    "\n",
    "and substituting into equation {eq}`y_{n+1}_vector` gives\n",
    "\n",
    "$$\n",
    "\\begin{aligned}\n",
    "    y_{n+1} &= y_n + z\\mathbf{b}^T \\cdot (I - zA)^{-1} \\cdot \\mathbf{e} y_n\\\\\n",
    "    &= (1 + z\\mathbf{b}^T \\cdot (I - zA)^{-1} \\cdot \\mathbf{e})y_n,\n",
    "\\end{aligned}\n",
    "$$\n",
    "\n",
    "so the stability function is\n",
    "\n",
    "$$R(z) = 1 + z\\mathbf{b}^T \\cdot (I - zA)^{-1} \\cdot \\mathbf{e}.$$ \n",
    "\n",
    "Using the geometric series of matrices \n",
    "\n",
    "$$(I - zA)^{-1} = \\sum_{k=0}^\\infty (zA)^k,$$\n",
    "\n",
    "the stabilty function can be written as the infinite series\n",
    "\n",
    "```{math}\n",
    ":label: R(z)\n",
    "R(z) = 1 + \\sum_{k=0}^s \\mathbf{b}^T \\cdot A^k \\cdot \\mathbf{e} \\, z^k.\n",
    "```\n",
    "\n",
    "Since the solution to the test ODE is $y=e^{\\lambda t}$, over one step of an Explicit Runge-Kutta (ERK) method we would expect the local truncation errors to change at a rate of $e^z$, \n",
    "\n",
    "```{math}\n",
    ":label: e^z\n",
    "e^z = \\sum_{k=0}^\\infty \\frac{1}{k!}z^k = 1 + z + \\frac{1}{2}z^2 + \\frac{1}{6}z^3 + \\frac{1}{24}z^4 + \\cdots\n",
    "```\n",
    "\n",
    "Comparing the coefficients of $z^k$ in $R(z)$ and $e^z$ we have\n",
    "\n",
    "$$\\frac{1}{k!} = \\mathbf{b}^T\\cdot A^{k-1} \\cdot \\mathbf{e},$$\n",
    "\n",
    "which must be satisfied up to the $k$th term for an order $k$ ERK method to be stable."
   ]
  },
  {
   "cell_type": "markdown",
   "metadata": {},
   "source": [
    "#### Example 5\n",
    "Determine the stability function for the following Runge-Kutta method and hences find its order.\n",
    "\n",
    "$$\\begin{array}{c|cccc}\n",
    "    0 & \\cr\n",
    "    \\frac{1}{2} & \\frac{1}{2} \\cr\n",
    "    \\frac{3}{4} & 0 & \\frac{3}{4} \\cr\n",
    "    1 & \\frac{2}{9} & \\frac{1}{3} & \\frac{4}{9} \\cr \\hline\n",
    "    & \\frac{7}{24} & \\frac{1}{4} & \\frac{1}{3} & \\frac{1}{8}\n",
    "    \\end{array}$$\n",
    "    \n",
    "The code below calculates the coefficients and outputs the stability function $R(z)$ for this ERK method."
   ]
  },
  {
   "cell_type": "code",
   "execution_count": 3,
   "metadata": {
    "execution": {
     "iopub.execute_input": "2020-08-18T13:56:25.360343Z",
     "iopub.status.busy": "2020-08-18T13:56:25.359719Z",
     "iopub.status.idle": "2020-08-18T13:56:27.011036Z",
     "shell.execute_reply": "2020-08-18T13:56:27.011482Z"
    }
   },
   "outputs": [
    {
     "name": "stdout",
     "output_type": "stream",
     "text": [
      "R(z) = 1 + 1 z**1 + 1/2 z**2 + 3/16 z**3 + 1/48 z**4"
     ]
    }
   ],
   "source": [
    "from sympy import *\n",
    "\n",
    "# Define ERK method\n",
    "A = Matrix([[0, 0, 0, 0],\n",
    "            [Rational('1/2'), 0, 0, 0],\n",
    "            [0, Rational('3/4'), 0, 0],\n",
    "            [Rational('2/9'), Rational('1/3'), Rational('4/9'), 0]])\n",
    "b = Matrix([Rational('7/24'), Rational('1/4'), Rational('1/3'), Rational('1/8')])\n",
    "e = Matrix([[ 1, 1, 1, 1 ]]).T\n",
    "\n",
    "# Determine stability function\n",
    "print(\"R(z) = 1\", end=\"\")\n",
    "for k in range(len(b)):\n",
    "    coeff = b.T * (A**k) * e\n",
    "    print(\" + {} z**{}\".format(coeff[0], k+1), end=\"\")"
   ]
  },
  {
   "cell_type": "markdown",
   "metadata": {},
   "source": [
    "So the stability function is \n",
    "\n",
    "$$R(z) = 1 + z + \\frac{1}{2}z^2 + \\frac{3}{16}z^3 + \\frac{1}{48}z^4,$$\n",
    "\n",
    "which agrees to the series expansion of $e^z$ up to and including the $z^2$ term. Therefore this ERK method is of order 2."
   ]
  },
  {
   "cell_type": "markdown",
   "metadata": {},
   "source": [
    "#### Example 6\n",
    "\n",
    "The code below calculates the stability functions of order 1, 2, 3 and 4 ERK methods and plots their regions of absolute stability."
   ]
  },
  {
   "cell_type": "code",
   "execution_count": 4,
   "metadata": {
    "execution": {
     "iopub.execute_input": "2020-08-18T13:56:27.022690Z",
     "iopub.status.busy": "2020-08-18T13:56:27.022065Z",
     "iopub.status.idle": "2020-08-18T13:56:27.305671Z",
     "shell.execute_reply": "2020-08-18T13:56:27.306056Z"
    }
   },
   "outputs": [
    {
     "data": {
      "image/png": "[encoded data removed]",
      "text/plain": [
       "<Figure size 432x288 with 1 Axes>"
      ]
     },
     "metadata": {
      "filenames": {
       "image/png": "/Volumes/DataHD/jon/OneDrive - MMU/2020_2021/ODEs/Python_book/_build/jupyter_execute/4_stability_18_0.png"
      },
      "needs_background": "light"
     },
     "output_type": "display_data"
    }
   ],
   "source": [
    "# Generate z values\n",
    "x = np.linspace(-5, 5, 100)\n",
    "y = np.linspace(-5, 5, 100)\n",
    "[X, Y] = np.meshgrid(x, y)\n",
    "Z = X + Y * 1j\n",
    "\n",
    "# Define ERK stability functions\n",
    "R = np.stack((1 + Z, 1 + Z, 1 + Z, 1 + Z), axis=2)\n",
    "for k in range(1, 4):\n",
    "    R[:,:,k] = R[:,:,k-1] + Z**(k+1) / np.math.factorial(k+1)\n",
    "R = np.abs(R)\n",
    "\n",
    "# Plot regions of absolute stability\n",
    "fig, ax = plt.subplots()\n",
    "colours = ['lightskyblue', 'lightcoral', 'lightgreen', 'violet']\n",
    "\n",
    "for i in range(3, -1, -1):\n",
    "    ax.contourf(X, Y, R[:,:,i], levels=[0,1], colors=colours[i])\n",
    "    ax.contour(X, Y, R[:,:,i], levels=[0,1], colors='k')\n",
    "    \n",
    "ax.plot([-10, 10], [0, 0], 'k', linewidth=1)\n",
    "ax.plot([0, 0], [-10, 10], 'k', linewidth=1)\n",
    "\n",
    "ax.set_title('Regions of absolute stability of ERK methods')\n",
    "ax.set_xlabel('$\\mathrm{Re}(z)$')\n",
    "ax.set_ylabel('$\\mathrm{Im}(z)$')\n",
    "ax.set_xlim(-5, 3)\n",
    "ax.set_ylim(-4, 4)\n",
    "ax.set_aspect(1)\n",
    "\n",
    "labels = [plt.Rectangle((0,0),1,2,fc=colours[i]) for i in range(4)]\n",
    "ax.legend(labels, ['Euler', 'RK2', 'RK3', 'RK4'])\n",
    "\n",
    "plt.show()"
   ]
  },
  {
   "cell_type": "markdown",
   "metadata": {},
   "source": [
    "### Stability functions of implicit methods\n",
    "\n",
    "The simplest implicit method for solving ODEs is the [Backwards Euler](https://en.wikipedia.org/wiki/Backward_Euler_method) method (also known as the implicit Euler method) which is\n",
    "\n",
    "$$y_{n+1} = y_n + hf(t_n + h, y_{n+1}).$$\n",
    "\n",
    "Applying this to solve the test ODE $y'=\\lambda y$ and rearranging gives\n",
    "\n",
    "$$\n",
    "\\begin{aligned}\n",
    "    y_{n+1} &= y_n + h\\lambda y_{n+1} \\\\\n",
    "    (1 - h\\lambda)y_{n+1} &= y_n \\\\\n",
    "    y_{n+1} &= \\frac{1}{1-h\\lambda} y_n,\n",
    "\\end{aligned}\n",
    "$$\n",
    "\n",
    "therefore the stability function for the backwards Euler method is $R(z)=\\dfrac{1}{1-z}$. Stability functions for implicit methods take the form of a rational fraction\n",
    "\n",
    "$$R(z) = \\dfrac{P(z)}{Q(z)}.$$\n",
    "\n",
    "#### Example 7\n",
    "The code below plots the region of absolute stability of the backwards Euler method."
   ]
  },
  {
   "cell_type": "code",
   "execution_count": 5,
   "metadata": {
    "execution": {
     "iopub.execute_input": "2020-08-18T13:56:27.314006Z",
     "iopub.status.busy": "2020-08-18T13:56:27.313455Z",
     "iopub.status.idle": "2020-08-18T13:56:27.512886Z",
     "shell.execute_reply": "2020-08-18T13:56:27.512417Z"
    }
   },
   "outputs": [
    {
     "data": {
      "image/png": "[encoded data removed]",
      "text/plain": [
       "<Figure size 432x288 with 1 Axes>"
      ]
     },
     "metadata": {
      "filenames": {
       "image/png": "/Volumes/DataHD/jon/OneDrive - MMU/2020_2021/ODEs/Python_book/_build/jupyter_execute/4_stability_20_0.png"
      },
      "needs_background": "light"
     },
     "output_type": "display_data"
    }
   ],
   "source": [
    "# Generate z values\n",
    "x = np.linspace(-5, 5, 100)\n",
    "y = np.linspace(-5, 5, 100)\n",
    "[X, Y] = np.meshgrid(x, y)\n",
    "Z = X + Y * 1j\n",
    "\n",
    "# Define stability function for the backwards Euler method\n",
    "R = abs(1 / (1 - Z))\n",
    "\n",
    "# Plot the region of absolute stability\n",
    "fig, ax = plt.subplots()\n",
    "\n",
    "ax.contourf(X, Y, R, levels=[0, 1], colors='lightskyblue')\n",
    "ax.contour(X, Y, R, levels=[1], colors='k')\n",
    "ax.plot([-10, 10], [0, 0], 'k', linewidth=1)\n",
    "ax.plot([0, 0], [-10, 10], 'k', linewidth=1)\n",
    "\n",
    "ax.set_title('The region of absolute stability of the backwards Euler method')\n",
    "ax.set_xlabel('$\\mathrm{Re}(z)$')\n",
    "ax.set_ylabel('$\\mathrm{Im}(z)$')\n",
    "ax.set_xlim(-1, 3)\n",
    "ax.set_ylim(-1.5, 1.5)\n",
    "ax.set_aspect(1)\n",
    "\n",
    "plt.show()"
   ]
  },
  {
   "cell_type": "markdown",
   "metadata": {},
   "source": [
    "Here the region of absolute stability includes all of the complex plane with the exception of the unshaded region shown here."
   ]
  },
  {
   "cell_type": "markdown",
   "metadata": {},
   "source": [
    "### Stability functions for an implicit Runge-Kutta method\n",
    "\n",
    "To determine the stability function for an Implicit Runge-Kutta (IRK) method we use equations {eq}`y_{n+1}_vector` and {eq}`Y`\n",
    "\n",
    "$$\n",
    "\\begin{aligned}\n",
    "    y_{n+1} &= y_n + z \\mathbf{b}^T \\cdot Y, \\\\\n",
    "    Y &= \\mathbf{e} y_n + z A \\cdot Y.\n",
    "\\end{aligned}\n",
    "$$\n",
    "\n",
    "Transposing these equations so that the terms not involving $y_n$ to the left-hand side gives\n",
    "\n",
    "$$\n",
    "\\begin{aligned}\n",
    "    y_{n+1} - z \\mathbf{b}^T \\cdot Y &= y_n, \\\\\n",
    "    (I - zA) \\cdot Y & = \\mathbf{e}y_n.\n",
    "\\end{aligned}\n",
    "$$\n",
    "\n",
    "which can be written as the matrix equation\n",
    "\n",
    "$$\n",
    "\\pmatrix{ 1 & -zb_1 & -zb_2 & \\cdots & -zb_s \\\\\n",
    "    0 & 1 - za_{11} & -za_{12} & \\cdots & -za_{1s} \\\\\n",
    "    0 & -za_{21} & 1 - za_{22} & \\cdots & -za_{2s} \\\\\n",
    "    0 & \\vdots & \\vdots & \\ddots & \\vdots  \\\\\n",
    "    0 & -za_{s1} & -za_{s2} & \\cdots & 1-za_{ss}\n",
    "    }\n",
    "\\pmatrix{ y_{n+1} \\\\ Y_1 \\\\ Y_2 \\\\ \\vdots \\\\ Y_s } = \n",
    "\\pmatrix{ y_n \\\\ y_n \\\\ \\vdots \\\\ y_n \\\\ y_n}.\n",
    "$$\n",
    "\n",
    "Using [Cramer's rule](https://en.wikipedia.org/wiki/Cramer%27s_rule) to solve this system for $y_{n+1}$ we have\n",
    "\n",
    "$$\n",
    "\\begin{aligned}\n",
    "y_{n+1} &= \\frac{\\det\n",
    "\\pmatrix{ y_n & -zb_1 & -zb_2 & \\cdots & -zb_s \\\\\n",
    "    y_n & 1 - za_{11} & -za_{12} & \\cdots & -za_{1s} \\\\\n",
    "    y_n & -za_{21} & 1 - za_{22} & \\cdots & -za_{2s} \\\\\n",
    "    y_n & \\vdots & \\vdots & \\ddots & \\vdots  \\\\\n",
    "    y_m & -za_{s1} & -za_{s2} & \\cdots & 1-za_{ss}\n",
    "    }}{\\det(I - zA)}.\n",
    "\\end{aligned}\n",
    "$$\n",
    "\n",
    "Performing a row operation of subtracting the first row of matrix in the numerator from the other rows gives\n",
    "\n",
    "$$\n",
    "\\begin{aligned}\n",
    "y_{n+1} &= \\frac{\\det\n",
    "\\pmatrix{ y_n & -zb_1 & -zb_2 & \\cdots & -zb_s \\\\\n",
    "    0 & 1 - za_{11} + zb_1 & -za_{12} + zb_2 & \\cdots & -za_{1s} + zb_s \\\\\n",
    "    0 & -za_{21} + zb_1 & 1 - za_{22} + zb_2 & \\cdots & -za_{2s} + zb_s \\\\\n",
    "    0 & \\vdots & \\vdots & \\ddots & \\vdots  \\\\\n",
    "    0 & -za_{s1} + zb_1 & -za_{s2} + zb_2 & \\cdots & 1-za_{ss} + zb_s\n",
    "    }}{\\det(I - zA)} \\\\\n",
    "    &= \\frac{y_n\\det(I - z\\,(A - \\mathbf{e}\\cdot \\mathbf{b}^T))}{\\det(I - z\\,A)},\n",
    "\\end{aligned}\n",
    "$$\n",
    "\n",
    "where $\\mathbf{e}\\cdot \\mathbf{b}^T$ is a diagonal matrix with the elements of $\\mathbf{b}$ on the main diagonal. Therefore the stability function of an Implicit Runge-Kutta (IRK) method can be written as\n",
    "\n",
    "```{math}\n",
    ":label: irk_R(z)\n",
    "R(z) = \\frac{\\det(I - z\\,(A - \\mathbf{e}\\cdot \\mathbf{b}^T))}{\\det(I - z\\,A)}.\n",
    "```"
   ]
  },
  {
   "cell_type": "markdown",
   "metadata": {},
   "source": [
    "### A-stability\n",
    "As we saw in the plot of the region of absolute stability of the backwards Euler method, implicit methods have a much greater region than explicit methods and are very useful for solving stiff ODEs where the stabilty constraints placed on an explcit method means the step length $h$ is too small to be of practical use. A desirable property of some implicit methods is that there is no limit placed on the value of $h$ for which will result in an unstable method, this is known as [**A-stability**](https://en.wikipedia.org/wiki/Stiff_equation#A-stability).\n",
    "\n",
    "```{admonition} **Definition:** A-stability\n",
    "A method is said to be **A-stable** if its region of absolute stabilty satisfies\n",
    "\n",
    "$$\\{ z : z \\in \\mathbb{C}^-, |R(z)| \\leq 1\\},$$\n",
    "\n",
    "i.e., the method is stable for all points in the left-hand side of the complex plane.\n",
    "```\n",
    "\n",
    "```{admonition} **Theorem:** \n",
    ":class: tip\n",
    "Given an implicit Runge-Kutta method with a stability function of the form\n",
    "\n",
    "$$R(z) = \\frac{P(z)}{Q(z)},$$\n",
    "\n",
    "and define a polynomial function \n",
    "\n",
    "$$E(y) = Q(iy)Q(-iy) - P(iy)P(-iy),$$\n",
    "\n",
    "then the method is A-stable if and only if the following are satisfied\n",
    "1. All roots of $Q(z)$ have positive real parts;\n",
    "2. $E(y)\\geq 0$ for all $y\\in \\mathbb{R}$.\n",
    "```\n",
    "\n",
    "#### Example 8\n",
    "Determine the stability function of the following IRK and determine whether it is A-stable or not.\n",
    "\n",
    "$$\n",
    "    \\begin{array}{c|cc}\n",
    "        \\frac{1}{3} & \\frac{5}{12} & -\\frac{1}{12} \\\\\n",
    "        1 & \\frac{3}{4} & \\frac{1}{4} \\\\ \\hline\n",
    "        & \\frac{3}{4} & \\frac{1}{4}\n",
    "    \\end{array}\n",
    "$$"
   ]
  },
  {
   "cell_type": "code",
   "execution_count": 6,
   "metadata": {
    "execution": {
     "iopub.execute_input": "2020-08-18T13:56:27.533894Z",
     "iopub.status.busy": "2020-08-18T13:56:27.533336Z",
     "iopub.status.idle": "2020-08-18T13:56:27.849204Z",
     "shell.execute_reply": "2020-08-18T13:56:27.849710Z"
    }
   },
   "outputs": [
    {
     "name": "stdout",
     "output_type": "stream",
     "text": [
      "P(z) = z**2/16 + z/3 + 1\n",
      "Q(z) = z**2/6 - 2*z/3 + 1\n",
      "Q(z) has roots at 2 - sqrt(2)*I and 2 + sqrt(2)*I\n",
      "E(y) = 0.0238715277777778*y**4 + 0.125*y**2\n"
     ]
    }
   ],
   "source": [
    "# Define IRK method\n",
    "A = Matrix([[ Rational('5 / 12'), -Rational('1 / 12') ],\n",
    "           [ Rational('3 / 4'), Rational('1 / 4') ]])\n",
    "b = Matrix([[ Rational('3 / 4'), 0 ],\n",
    "            [ 0, Rational('1 / 4') ]])\n",
    "I = eye(2)\n",
    "\n",
    "# Calculate P(z) and Q(z) polynomials\n",
    "z = symbols('z')\n",
    "P = expand(det(I - z * (A - b)))\n",
    "Q = expand(det(I - z * A))\n",
    "\n",
    "# Find roots of Q(z)\n",
    "roots = solve(Q)\n",
    "\n",
    "# Calculate E(y)\n",
    "y = symbols('y')\n",
    "Pp = expand(det(I + 1j * y * (A - b)))\n",
    "Pm = expand(det(I - 1j * y * (A - b)))\n",
    "Qp = expand(det(I + 1j * y * A))\n",
    "Qm = expand(det(I - 1j * y * A))\n",
    "E = expand(Qp * Qm - Pp * Pm)\n",
    "\n",
    "# Output polynomials\n",
    "print(\"P(z) = {}\".format(P))\n",
    "print(\"Q(z) = {}\".format(Q))\n",
    "print(\"Q(z) has roots at {} and {}\".format(roots[0], roots[1]))\n",
    "print(\"E(y) = {}\".format(E))"
   ]
  },
  {
   "cell_type": "markdown",
   "metadata": {},
   "source": [
    "So the stability function for this IRK method is \n",
    "\n",
    "$$R(z) = \\dfrac{1 + \\frac{1}{3}z + \\frac{1}{16}z^2}{1 - \\frac{2}{3}z + \\frac{1}{6}z^2}.$$\n",
    "\n",
    "Since the real parts of both roots of $Q(z)$ is $2$ which is positive and $E(y)=0.0239y^4 + 0.125y^2 \\geq 0$ for all $y\\in \\mathbb{R}$ we can say that this is an A-stable method.\n",
    "\n",
    "The code below plots the region of absolute stability for this IRK method."
   ]
  },
  {
   "cell_type": "code",
   "execution_count": 7,
   "metadata": {
    "execution": {
     "iopub.execute_input": "2020-08-18T13:56:27.858424Z",
     "iopub.status.busy": "2020-08-18T13:56:27.857828Z",
     "iopub.status.idle": "2020-08-18T13:56:28.200015Z",
     "shell.execute_reply": "2020-08-18T13:56:28.200395Z"
    }
   },
   "outputs": [
    {
     "data": {
      "image/png": "[encoded data removed]",
      "text/plain": [
       "<Figure size 432x288 with 1 Axes>"
      ]
     },
     "metadata": {
      "filenames": {
       "image/png": "/Volumes/DataHD/jon/OneDrive - MMU/2020_2021/ODEs/Python_book/_build/jupyter_execute/4_stability_26_0.png"
      },
      "needs_background": "light"
     },
     "output_type": "display_data"
    }
   ],
   "source": [
    "# Generate z values\n",
    "x = np.linspace(-10, 10, 100)\n",
    "y = np.linspace(-10, 10, 100)\n",
    "[X, Y] = np.meshgrid(x, y)\n",
    "Z = X + Y * 1j\n",
    "\n",
    "# Define stability function for the IRK method\n",
    "R = (1 + 1/3 * Z + 1/16 * Z**2) / (1 - 2/3 * Z + 1/6 * Z**2)\n",
    "\n",
    "# Plot the region of absolute stability\n",
    "fig, ax = plt.subplots()\n",
    "\n",
    "ax.contourf(X, Y, abs(R), levels=[0, 1], colors='lightskyblue')\n",
    "ax.contour(X, Y, abs(R), levels=[1], colors='k')\n",
    "ax.plot([-10, 10], [0, 0], 'k', linewidth=1)\n",
    "ax.plot([0, 0], [-10, 10], 'k', linewidth=1)\n",
    "\n",
    "ax.set_title('The region of absolute stability of an A-stable IRK method')\n",
    "ax.set_xlabel('$\\mathrm{Re}(z)$')\n",
    "ax.set_ylabel('$\\mathrm{Im}(z)$')\n",
    "ax.set_xlim(-10, 10)\n",
    "ax.set_ylim(-10, 10)\n",
    "\n",
    "plt.show()"
   ]
  },
  {
   "cell_type": "markdown",
   "metadata": {},
   "source": [
    "---\n",
    "## Stiffness\n",
    "An important consideration when applying numerical methods to solve ODEs is whether the values that the step length can take for the method to be stable are large enough for the method to be applied without incurring prohibitive computational costs. For example, if a method requires a very small step length for it to be stabel, then the iterations required to step through the domain will be very large resulting in lots of computational operations and therefore time. Problems like is a known as stiff problems.\n",
    "\n",
    "```{admonition} **Definition:** Stiffness\n",
    "If a numerical method is forced to use, in a certain interval of integration, a step length which is excessively small in relation to the smoothness of the exact solution in that interval, then the problem is said to be stiff in that interval (Lambert, 1990). \n",
    "```\n",
    "\n",
    "The stiffness of a problem depends on the system ODEs and the solver being applied to solve them and stiffness usually arises when there is a large variation in the behaviour of the individual ODEs in the system. Stiff systems require methods which are stable for larger values of the step length $h$ , e.g., implicit or A-stable methods.\n",
    "\n",
    "### Stiffness ratio\n",
    "Consider a system of linear ODEs of the form \n",
    "\n",
    "$$\\mathbf{y}' = A \\mathbf{y},$$\n",
    "\n",
    "where $A$ is a coefficient matrix. We use the test ODE $y'=\\lambda y$ to examine the stability of a numerical method so we need to transform our system into this form. Let $u_i$ be a transformation of $y_i$ and $u_i' = \\lambda_iu_i$ where $\\lambda$ is an [eigenvalue](https://en.wikipedia.org/wiki/Eigenvalues_and_eigenvectors) of $A$ then \n",
    "\n",
    "$$\\pmatrix{ u_1' \\cr u_2' \\cr \\vdots \\cr u_N'} = \n",
    "\\pmatrix{\\lambda_1 \\cr & \\lambda_2 \\cr & & \\ddots \\cr & & & \\lambda_N} \n",
    "\\pmatrix{u_1 \\cr u_2 \\cr \\vdots \\cr u_N}$$\n",
    "\n",
    "Let $V = (\\mathbf{v}_1, \\mathbf{v}_2, \\ldots, \\mathbf{v}_N)$ be a matrix containing the [eigenvectors](https://en.wikipedia.org/wiki/Eigenvalues_and_eigenvectors) $\\mathbf{v}_i$ corresponding to the eigenvalues $\\lambda_i$ of $A$ then\n",
    "\n",
    "$$AV = (A\\mathbf{v}_1, A\\mathbf{v}_2, \\ldots, A\\mathbf{v}_N),$$\n",
    "\n",
    "and since $\\lambda_i = A\\mathbf{v}_i$\n",
    "\n",
    "$$\n",
    "\\begin{aligned}\n",
    "AV &= (\\lambda_1 \\mathbf{v}_1, \\lambda_2 \\mathbf{v}_2, \\ldots, \\lambda_N\\mathbf{v}_N) = V\\Lambda \\\\\n",
    "V^{-1}AV &= \\Lambda.\n",
    "\\end{aligned}\n",
    "$$\n",
    "\n",
    "So $\\Lambda = V^{-1}AV$ is a linear transformation that diagonalises $A$ and the stability behaviour of $\\mathbf{y}'=A\\mathbf{y}$ can be analysed by considering $\\mathbf{y}' = \\Lambda \\mathbf{y}$ . Since a stiff system will have a large variation in the step length and hence the values of $\\lambda_i$ we can define a **stiffness ratio**\n",
    "\n",
    "$$S = \\frac{\\max |\\mathrm{Re}(\\lambda_i)|}{\\min |\\mathrm{Re}(\\lambda_i)|}.$$\n",
    "\n",
    "\n",
    "#### Example 9\n",
    "\n",
    "Determine the stiffness ratio of the following ODE\n",
    "\n",
    "$$y'' - 1001 y' - 1000 y = 0.$$\n",
    "\n",
    "Writing this as a system of first-order ODEs\n",
    "\n",
    "$$\n",
    "\\begin{aligned}\n",
    "    y_1' &= y_2',\\\\\n",
    "    y_2' &= 1001y_2 - 1000 y_1,\n",
    "\\end{aligned}\n",
    "$$\n",
    "\n",
    "which can be written as the matrix equation\n",
    "\n",
    "$$\\pmatrix{y_1'\\cr y_2'} = \\pmatrix{0&1\\cr -1000 & 1001}\\pmatrix{y_1 \\cr y_2}.$$\n",
    "\n",
    "The eigenvalues of the coefficient matrix are $\\lambda_1=1$ and $\\lambda_2=1000$ so\n",
    "\n",
    "$$S = \\frac{1000}{1} = 1000$$\n",
    "\n",
    "and this ODE can be considered stiff."
   ]
  },
  {
   "cell_type": "markdown",
   "metadata": {},
   "source": [
    "---\n",
    "## Summary\n",
    "\n",
    "- The [local truncation error](#local_truncation_error) is the error at each step of a method due to the truncation of the Taylor series in deriving the method.\n",
    "- The [global truncation error](#global_truncation_error) is the accumulation of the local truncation errors.\n",
    "- A method is considered [absolutely stable](#stability_definition) if the local truncation errors do not increase from one step to the next.\n",
    "- The stability of a method is analysed by considering the simple test ODE $y'=\\lambda y$.\n",
    "- The [stability function](#Stability-functions), $R(z)$ where $z=h\\lambda$, of a method is the amount by which the solution to the test ODE changes over a single step of length $h$.\n",
    "- The [region of absolute stability](#Absolute-stability) is the set of all values of $z$ in the complex plane where the modulus of $R(z)$ is less than or equal to 1 (i.e., the local truncation errors do not increase over a single step).\n",
    "- The stability function for an explicit Runge-Kutta method is given in equation [(4)](#erk_stability_function).\n",
    "- The stability function for an order $k$ explicit Runge-Kutta method is the $k$th-order series expansion of $e^z$ given in equation [(5)](#e^z_expansion).\n",
    "- The stability function for an implicit Runge-Kutta method is given in equation [(6)](#irk_stability_function).\n",
    "- Implicit methods can be [A-stable](#A-stability) which means there is no limit placed on the value of the step length $h$ for a method to remain stable.\n",
    "- A system of ODEs is considered [stiff](#Stiffness) if the ratio of the eigenvalues of the coefficient matrix is large. Stiff systems require methods that have larger regions of absolute stability."
   ]
  },
  {
   "cell_type": "markdown",
   "metadata": {},
   "source": [
    "---\n",
    "## Exercises\n",
    "\n",
    "1. Determine the stability function of the following Runge-Kutta method\n",
    "\n",
    "    $$\n",
    "    \\begin{array}{c|ccccc}\n",
    "0 \\\\\n",
    "\\frac{1}{4} & \\frac{1}{4} \\\\\n",
    "\\frac{1}{2} & \\frac{1}{2} & 0 \\\\\n",
    "\\frac{3}{4} & \\frac{1}{2} & \\frac{1}{4} \\\\\n",
    "0 & 0 & \\frac{1}{6} & -\\frac{1}{3} & \\frac{1}{6} \\\\ \\hline\n",
    "& -1 & \\frac{2}{3} & -\\frac{1}{3} & \\frac{2}{3} & 1\n",
    "\\end{array}$$\n",
    "\n",
    "2. Determine the stability function of the following Runge-Kutta method. Is this an A-stable method?\n",
    "    \n",
    "    $$\n",
    "    \\begin{array}{c|cc}\n",
    "\\frac{1}{4} & \\frac{7}{24} & -\\frac{1}{24} \\\\\n",
    "\\frac{3}{4} & \\frac{13}{24} & \\frac{5}{24} \\\\  \\hline\n",
    "& \\frac{1}{2} & \\frac{1}{2}\n",
    "\\end{array}$$\n",
    "\n",
    "\n",
    "3. Plot the region of absolute stability for the following Runge-Kutta method.\n",
    "\n",
    "    $$\\begin{array}{c|cc}\n",
    "\\frac{1}{3} & \\frac{1}{3} & 0 \\\\\n",
    "1 & 1 & 0 \\\\ \\hline\n",
    "& \\frac{3}{4} & \\frac{1}{4}\n",
    "\\end{array}$$\n",
    "\n",
    "4. Determine the stability function of the following Runge-Kutta method. What is the order of the method?\n",
    "\n",
    "    $$\\begin{array}{c|ccccc}\n",
    "0 \\\\\n",
    "\\frac{2}{7} & \\frac{2}{7} \\\\\n",
    "\\frac{4}{7} & -\\frac{8}{35} & \\frac{4}{5} \\\\\n",
    "\\frac{6}{7} & \\frac{29}{42} & -\\frac{2}{3} & \\frac{5}{6} \\\\\n",
    "1 & \\frac{1}{6} & \\frac{1}{6} & \\frac{5}{12} & \\frac{1}{4} \\\\ \\hline\n",
    "& \\frac{11}{96} & \\frac{7}{24} & \\frac{35}{96} & \\frac{7}{48} & \\frac{1}{12}\n",
    "\\end{array}$$\n",
    "\n",
    "5. Calculate the stiffness ratio for the following system of ODEs. What are the maximum step lengths that the Euler method is stable for solving each equation?\n",
    "\n",
    "    $$\n",
    "    \\begin{aligned}\n",
    "y_1' &= -80.6y_1 + 119.4y_2, \\\\ \n",
    "y_2'&= 79.6y_1 - 120.4y_2.\n",
    "\\end{aligned}\n",
    "$$"
   ]
  }
 ],
 "metadata": {
  "kernelspec": {
   "display_name": "Python 3",
   "language": "python",
   "name": "python3"
  },
  "language_info": {
   "codemirror_mode": {
    "name": "ipython",
    "version": 3
   },
   "file_extension": ".py",
   "mimetype": "text/x-python",
   "name": "python",
   "nbconvert_exporter": "python",
   "pygments_lexer": "ipython3",
   "version": "3.7.4"
  }
 },
 "nbformat": 4,
 "nbformat_minor": 2
}