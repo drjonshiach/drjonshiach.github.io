{
 "cells": [
  {
   "cell_type": "markdown",
   "metadata": {
    "slideshow": {
     "slide_type": "slide"
    }
   },
   "source": [
    "# Boundary Value Problems\n",
    "\n",
    "#### Learning outcomes\n",
    "\n",
    "On successful completion of this page readers will be able to:\n",
    "\n",
    "- Understand the definition of a [two-point boundary value problem](#General-two-point-boundary-value-problem).\n",
    "- Apply the [shooting method](#The-shooting-method) to solve a boundary value problem.\n",
    "- Implement the [Secant method](#Improving-the-guess-value-using-the-Secant-method) to calculate estimates of the initial value.\n",
    "- Implement the [finite-difference method](#Finite-difference-method) to solve boundary value problems.\n",
    "- Implement the [Thomas algorithm](#The-Thomas-algorithm) to solve a tridiagonal linear system of equations."
   ]
  },
  {
   "cell_type": "markdown",
   "metadata": {
    "slideshow": {
     "slide_type": "slide"
    }
   },
   "source": [
    "## General two-point boundary value problem\n",
    "\n",
    "<a id=\"bvp\"></a>A [**Boundary Value Problem**](https://en.wikipedia.org/wiki/Boundary_value_problem) (BVP) is an Ordinary Differential Equation (ODE) where the solutions at the boundaries of the domain are known. A common type of a BVP is the **two-point BVP** which is written using a second-order ODE\n",
    "\n",
    "$$y'' = f(t, y), \\qquad t \\in [t_{\\min}, t_{\\max}], \\qquad y(t_{\\min}) = y_0 \\qquad y(t_{\\max}) = y_N,$$\n",
    "\n",
    "for some known values $y_0$ and $y_N$."
   ]
  },
  {
   "cell_type": "markdown",
   "metadata": {
    "slideshow": {
     "slide_type": "slide"
    }
   },
   "source": [
    "### Existence and uniqueness of solutions to boundary value problems\n",
    "If an Initial Value Problem (IVP) has a solution it will be unique for a particular initial value. This is not true for BVPs which can have a unique solution, no solution or an infinite number of solutions. Consider the following ODE\n",
    "\n",
    "$$y' + y = 0.$$\n",
    "\n",
    "The general solution is\n",
    "\n",
    "$$y = c_1 \\cos(t) + c_2 \\sin(t), $$\n",
    "\n",
    "and consider the boundary values $y(0)= 0$ and $y(\\frac{\\pi}{6}) = 1$:\n",
    "\n",
    "$$\n",
    "\\begin{aligned}\n",
    "     0 &= c_1 \\cos(0) + c_2 \\sin(0) = c_1, \\\\\n",
    "     1 &= c_1 \\cos\\left(\\frac{\\pi}{6}\\right) + c_2 \\sin\\left(\\frac{\\pi}{6}\\right) = \\frac{\\sqrt{3}}{2} c_1 + \\frac{1}{2}c_2.\n",
    "\\end{aligned}\n",
    "$$\n",
    "\n",
    "Since $c_1=0$ then $c_2=2$ and this BVP has the unique solution \n",
    "\n",
    "$$y=2\\sin(t).$$\n",
    "\n",
    "Now consider the boundary values $y(0) = 0$ and $y(\\pi) = 0$\n",
    "\n",
    "$$\n",
    "\\begin{aligned}\n",
    "    0 &= c_1 \\cos(0) + c_2 \\sin(0) = c_1, \\\\\n",
    "    1 &= c_! \\cos(\\pi) + c_2 \\sin(\\pi) = -c_1.\n",
    "\\end{aligned}\n",
    "$$\n",
    "\n",
    "Here $c_1=0$ and $c_2$ can take any value so this BVP has an infinite number of solutions.\n",
    "\n",
    "Now consider the boundary values $y(0) = 0$ and $y(2\\pi)=1$:\n",
    "\n",
    "$$\n",
    "\\begin{aligned}\n",
    "    0 &= c_1 \\cos(0) + c_2 \\sin(0) = c_1, \\\\\n",
    "    1 &= c_1 \\cos(2\\pi) + c_2 \\sin(2\\pi) = c_1.\n",
    "\\end{aligned}\n",
    "$$\n",
    "\n",
    "here $c_1=0$ and $c_1=1$ which is a contradiction so this BVP does not have a solution.\n",
    "\n",
    "```{admonition} **Theorem:** Uniqueness of the solution to a boundary value problem\n",
    "A linear boundary value problem of the form\n",
    "\n",
    "$$y'' = p(t) y' + q(t)y + r(t), \\qquad t \\in [t_{\\min}, t_{\\max}], \\qquad y(t_{\\min}) = y_0, \\qquad y(t_{\\max}) = y_N,$$\n",
    "\n",
    "where $p(t)$, $q(t)$ and $r(t)$ are some functions of $t$ then it has a unique solution if the following are satisfied\n",
    "\n",
    "1. $p(t)$, $q(t)$ and $r(t)$ are continuous on $[t_{\\min}, t_{\\max}]$;\n",
    "2. $q(t) > 0$ for all $t\\in [t_{\\min}, t_{\\max}]$.\n",
    "```"
   ]
  },
  {
   "cell_type": "markdown",
   "metadata": {
    "slideshow": {
     "slide_type": "slide"
    }
   },
   "source": [
    "#### Example 1\n",
    "Show that the following BVP has a unique solution\n",
    "\n",
    "$$y'' = (t^3 + 5)y + \\sin(t), \\qquad t \\in [0, 1], \\qquad y(0) = 0, \\qquad y(1) = 1.$$\n",
    "\n",
    "Comparing this BVP to $y'' = p(t) y' + q(t)y + r(t)$ we have\n",
    "\n",
    "$$\n",
    "\\begin{aligned}\n",
    "    p(t) &= 0, \\\\\n",
    "    q(t) &= t^3 + 5, \\\\\n",
    "    r(t) &= \\sin(t),\n",
    "\\end{aligned}\n",
    "$$\n",
    "\n",
    "which are all continuous on $[0,1]$ and $q(t)\\geq 5$ for all $t\\in[0,1]$ so this BVP has a unique solution."
   ]
  },
  {
   "cell_type": "markdown",
   "metadata": {
    "slideshow": {
     "slide_type": "slide"
    }
   },
   "source": [
    "## The shooting method\n",
    "\n",
    "Consider the two-point BVP from equation [(1)](#bvp). Since the ODE solvers we use can only be applied to a first-order ODE we need to rewrite the second-order ODE as a system of two first-order ODEs\n",
    "\n",
    "$$\n",
    "\\begin{aligned}\n",
    "    y_1' &= y_2, \\\\\n",
    "    y_2' &= f(t, y_1, y_2).\n",
    "\\end{aligned}\n",
    "$$\n",
    "\n",
    "Since we have let $y_1=y$ we know that $y_1(t_{\\min})=y_0$ from the problem definition but we do not know that value of $y_2(t_{\\min}) = y'(t_{\\min})$. To overcome this problem we simply guess this value and compute the solutions to the [Initial Value Problem](https://en.wikipedia.org/wiki/Initial_value_problem) (IVP) and compare the solution of $y_1(t_{\\max})$ to $y(t_{\\max})=y_N$ and adjust the guess value accordingly. This method is called the [**shooting method**](https://en.wikipedia.org/wiki/Shooting_method) because someone shooting at a target will adjust their next shot based where their previous shot landed."
   ]
  },
  {
   "cell_type": "markdown",
   "metadata": {
    "slideshow": {
     "slide_type": "slide"
    }
   },
   "source": [
    "#### Example 2\n",
    "\n",
    "Use the shooting method to solve the following BVP\n",
    "\n",
    "$$y'' - y' - y = 0, \\qquad t \\in [0, 1], \\qquad y(0) = 1, \\qquad y(1) = 2.$$\n",
    "\n",
    "Rewriting this as a system of first-order ODEs gives\n",
    "\n",
    "$$\n",
    "\\begin{aligned}\n",
    "    y_1' &= y_2, & y_1(0) &= 1, \\\\\n",
    "    y_2' &= y_2 + y_1, & y_2(0) &= s,\n",
    "\\end{aligned}\n",
    "$$\n",
    "\n",
    "where $s$ is a guess of $y'(0)$.\n",
    "\n",
    "The function defined below calculates the solution to an IVP using the Euler method"
   ]
  },
  {
   "cell_type": "code",
   "execution_count": 1,
   "metadata": {
    "execution": {
     "iopub.execute_input": "2020-08-18T14:20:53.489587Z",
     "iopub.status.busy": "2020-08-18T14:20:53.488825Z",
     "iopub.status.idle": "2020-08-18T14:20:54.388871Z",
     "shell.execute_reply": "2020-08-18T14:20:54.389255Z"
    },
    "slideshow": {
     "slide_type": "slide"
    }
   },
   "outputs": [],
   "source": [
    "import numpy as np\n",
    "\n",
    "def euler(f, tspan, y0, h):\n",
    "    '''\n",
    "    Calculates the solution to an IVP using the Euler method\n",
    "    '''\n",
    "    # Initialise solution arrays\n",
    "    nsteps = int((tspan[1] - tspan[0]) / h)\n",
    "    t = np.zeros(nsteps + 1)\n",
    "    y = np.zeros((nsteps + 1, len(y0)))\n",
    "    t[0] = tspan[0]\n",
    "    y[0,:] = y0\n",
    "    \n",
    "    # Solver loop\n",
    "    for n in range(nsteps):\n",
    "        y[n+1,:] = y[n,:] + h * f(t[n], y[n,:])\n",
    "        t[n+1] = t[n] + h\n",
    "        \n",
    "    return t, y"
   ]
  },
  {
   "cell_type": "markdown",
   "metadata": {
    "slideshow": {
     "slide_type": "slide"
    }
   },
   "source": [
    "The function defined below calculates the right-hand side of the system of ODEs."
   ]
  },
  {
   "cell_type": "code",
   "execution_count": 2,
   "metadata": {
    "execution": {
     "iopub.execute_input": "2020-08-18T14:20:54.393429Z",
     "iopub.status.busy": "2020-08-18T14:20:54.392843Z",
     "iopub.status.idle": "2020-08-18T14:20:54.395247Z",
     "shell.execute_reply": "2020-08-18T14:20:54.395737Z"
    },
    "slideshow": {
     "slide_type": "subslide"
    }
   },
   "outputs": [],
   "source": [
    "def f(t, y):\n",
    "    dy = np.zeros(y.shape)\n",
    "    dy[0] = y[1]\n",
    "    dy[1] = y[1] + y[0]\n",
    "    return dy"
   ]
  },
  {
   "cell_type": "markdown",
   "metadata": {
    "slideshow": {
     "slide_type": "slide"
    }
   },
   "source": [
    "The program below solves the BVP problem defined here using the guess values $s=1$, $s=2$ and $s=1.5$."
   ]
  },
  {
   "cell_type": "code",
   "execution_count": 3,
   "metadata": {
    "execution": {
     "iopub.execute_input": "2020-08-18T14:20:54.410338Z",
     "iopub.status.busy": "2020-08-18T14:20:54.409721Z",
     "iopub.status.idle": "2020-08-18T14:20:58.763639Z",
     "shell.execute_reply": "2020-08-18T14:20:58.764025Z"
    },
    "slideshow": {
     "slide_type": "subslide"
    }
   },
   "outputs": [
    {
     "name": "stdout",
     "output_type": "stream",
     "text": [
      "\n",
      " t      y1      y2\n",
      "--------------------\n",
      "0.00  0.0000  1.0000\n",
      "0.20  0.2000  1.2000\n",
      "0.40  0.4400  1.4800\n",
      "0.60  0.7360  1.8640\n",
      "0.80  1.1088  2.3840\n",
      "1.00  1.5856  3.0826\n",
      "\n",
      " t      y1      y2\n",
      "--------------------\n",
      "0.00  0.0000  2.0000\n",
      "0.20  0.4000  2.4000\n",
      "0.40  0.8800  2.9600\n",
      "0.60  1.4720  3.7280\n",
      "0.80  2.2176  4.7680\n",
      "1.00  3.1712  6.1651\n",
      "\n",
      " t      y1      y2\n",
      "--------------------\n",
      "0.00  0.0000  1.5000\n",
      "0.20  0.3000  1.8000\n",
      "0.40  0.6600  2.2200\n",
      "0.60  1.1040  2.7960\n",
      "0.80  1.6632  3.5760\n",
      "1.00  2.3784  4.6238\n"
     ]
    },
    {
     "data": {
      "image/png": "[encoded data removed]",
      "text/plain": [
       "<Figure size 432x288 with 1 Axes>"
      ]
     },
     "metadata": {
      "filenames": {
       "image/png": "/Volumes/DataHD/jon/OneDrive - MMU/2020_2021/ODEs/Python_book/_build/jupyter_execute/5_boundary_value_problems_10_1.png"
      },
      "needs_background": "light"
     },
     "output_type": "display_data"
    }
   ],
   "source": [
    "%matplotlib inline\n",
    "import matplotlib.pyplot as plt\n",
    "from matplotlib import rc\n",
    "rc('text', usetex=True)\n",
    "\n",
    "# Define BVP parameters\n",
    "tspan = [ 0, 1 ]      # t domain\n",
    "bvals = [ 0, 2 ]      # boundary values\n",
    "s = [ 1, 2, 1.5 ]     # guess values for y'(0)\n",
    "h = 0.2               # step length\n",
    "\n",
    "# Loop through the 3 guess values\n",
    "for i in range(3):\n",
    "    \n",
    "    # Solve IVP using the Euler method\n",
    "    t, y1 = euler(f, tspan, [ bvals[0], s[i] ], h)\n",
    "    \n",
    "    # Append current solution to y array\n",
    "    if i == 0:\n",
    "        y = y1\n",
    "    else:\n",
    "        y = np.append(y, y1, axis=1)\n",
    "\n",
    "    # Output solution table\n",
    "    print('\\n t      y1      y2\\n' + '-' * 20)\n",
    "    for n in range(len(t)):\n",
    "        print('{:3.2f} {:7.4f} {:7.4f}'\\\n",
    "              .format(t[n], y1[n,0], y1[n,1]))\n",
    "\n",
    "# Plot solution\n",
    "colours = ['r', 'b', 'g']\n",
    "fig, ax = plt.subplots()\n",
    "\n",
    "for i in range(3):\n",
    "    ax.plot(t, y[:,2*i], 'o-', color=colours[i], label='$s={:0.2f}$'.format(y[0,1+2*i]))\n",
    "ax.plot(tspan, bvals, 'ks', label='boundary values')\n",
    "\n",
    "ax.set_title(\"Solutions to the BVP $y'' - y' - y = 0$, $y(0) = 0$, $y(1) = 2$\")\n",
    "ax.set_xlabel('$t$', fontsize=12)\n",
    "ax.set_ylabel('$y(t)$', fontsize=12)\n",
    "ax.legend()\n",
    "\n",
    "plt.show()"
   ]
  },
  {
   "cell_type": "markdown",
   "metadata": {},
   "source": [
    "Comparing the solutions of $y(1)$ to the boundary value of $y(1)=2$ we can see that using $s=1$ results in $y_1(1) = 1.5856$ which is too small and using $s=1$ results in $y(1) = 3.1712$ which is too large. Choosing a guess of somewhere in between such as $s=0.5$ results in $y(1) = 2.2384$ which is closer to the exact solution but still not an accurate approximation of $y(1)=2$. We continue to adjust the initial guess value based on the solution at the upper boundary until we get a result that is accurate enough for our needs."
   ]
  },
  {
   "cell_type": "markdown",
   "metadata": {},
   "source": [
    "### Improving the guess value using the Secant method\n",
    "To improve the guess value we can use the [**Secant method**](https://en.wikipedia.org/wiki/Secant_method). The Secant method is a root finding algorithm that calculates the value of $s$ where $F(s) = 0$ for some function $F$\n",
    "\n",
    "$$s_{i+1} = s_i - F(s_i) \\frac{s_i - s_{i-1}}{F(s_i) - F(s_{i-1})}.$$\n",
    "\n",
    "This expression is iterated until $|s_i - s_{i-1}| < tol$ where $tol$ is some small number. Since we want the solution of $f'(t_{\\max})$ to be equal to the upper boundary value $y_N$ we can define\n",
    "\n",
    "$$F(s) = f'(t_{\\max}) - y_N, $$\n",
    "\n",
    "and use the Secant method to calculate $s$.\n",
    "\n",
    "The function defined below solves a BVP using the shooting method with the Secant method to calculate an improved guess value using two starting guess values of $s=1$ and $s=2$. The Secant method is iterated until two successive guess values are within $tol=10^{-6}$ or the number of iterations exceeds `maxiter`."
   ]
  },
  {
   "cell_type": "code",
   "execution_count": 4,
   "metadata": {
    "execution": {
     "iopub.execute_input": "2020-08-18T14:20:58.771167Z",
     "iopub.status.busy": "2020-08-18T14:20:58.770312Z",
     "iopub.status.idle": "2020-08-18T14:20:58.772762Z",
     "shell.execute_reply": "2020-08-18T14:20:58.773229Z"
    }
   },
   "outputs": [],
   "source": [
    "def shooting_method(odesolver, f, tspan, bvals, h, maxiter):\n",
    "    '''\n",
    "    Calculates the solution to a BVP using the shooting method with the Secant method\n",
    "    used to determine the guess values\n",
    "    '''\n",
    "    # Iterate until successive guess values agree\n",
    "    s0, s1, F0 = 1, 2, 1\n",
    "    for i in range(maxiter):\n",
    "\n",
    "        # Solve IVP using current guess value\n",
    "        t, y = odesolver(f, tspan, [ bvals[0], s1], h)\n",
    "\n",
    "        # Use Secant method to calculate next guess value after first iteration\n",
    "        F1 = y[-1,0] - bvals[-1]\n",
    "        s2 = s1 - F1 * (s1 - s0) / (F1 - F0)\n",
    "        s1, s0, F0 = s2, s1, F1 \n",
    "        \n",
    "        # Check for convergence\n",
    "        if abs(s1 - s0) < 1e-6:\n",
    "            break\n",
    "\n",
    "    return t, y"
   ]
  },
  {
   "cell_type": "markdown",
   "metadata": {},
   "source": [
    "#### Example 3\n",
    "\n",
    "Use the shooting method to calculate the solution of the BVP from [example 2](#Example-2)."
   ]
  },
  {
   "cell_type": "code",
   "execution_count": 5,
   "metadata": {
    "execution": {
     "iopub.execute_input": "2020-08-18T14:20:58.808909Z",
     "iopub.status.busy": "2020-08-18T14:20:58.808312Z",
     "iopub.status.idle": "2020-08-18T14:20:59.156993Z",
     "shell.execute_reply": "2020-08-18T14:20:59.157398Z"
    }
   },
   "outputs": [
    {
     "name": "stdout",
     "output_type": "stream",
     "text": [
      " t      y1      y2\n",
      "--------------------\n",
      "0.00  0.0000  1.2614\n",
      "0.20  0.2523  1.5136\n",
      "0.40  0.5550  1.8668\n",
      "0.60  0.9284  2.3512\n",
      "0.80  1.3986  3.0071\n",
      "1.00  2.0000  3.8882\n"
     ]
    },
    {
     "data": {
      "image/png": "[encoded data removed]",
      "text/plain": [
       "<Figure size 432x288 with 1 Axes>"
      ]
     },
     "metadata": {
      "filenames": {
       "image/png": "/Volumes/DataHD/jon/OneDrive - MMU/2020_2021/ODEs/Python_book/_build/jupyter_execute/5_boundary_value_problems_15_1.png"
      },
      "needs_background": "light"
     },
     "output_type": "display_data"
    }
   ],
   "source": [
    "# Define BVP parameters\n",
    "tspan = [ 0, 1 ]      # t domain\n",
    "bvals = [ 0, 2 ]      # boundary values\n",
    "h = 0.2               # step length\n",
    "\n",
    "# Solve BVP using the shooting method\n",
    "t, y = shooting_method(euler, f, tspan, bvals, h, 10)\n",
    "\n",
    "# Output solution table\n",
    "print(' t      y1      y2\\n' + '-' * 20)\n",
    "for n in range(len(t)):\n",
    "    print('{:3.2f} {:7.4f} {:7.4f}'\\\n",
    "          .format(t[n], y[n,0], y[n,1]))\n",
    "\n",
    "# Plot solution\n",
    "fig, ax = plt.subplots()\n",
    "\n",
    "ax.plot(t, y[:,-2], 'bo-', label='$s={:0.4f}$'.format(y[0,-1]))\n",
    "ax.plot(tspan, bvals, 'ks', label='boundary values')\n",
    "\n",
    "ax.set_title(\"Solution to the BVP $y'' - y' - y = 0$, $y(0) = 0$, $y(1) = 2$\")\n",
    "ax.set_xlabel('$t$', fontsize=12)\n",
    "ax.set_ylabel('$y(t)$', fontsize=12)\n",
    "ax.legend()\n",
    "\n",
    "plt.show()"
   ]
  },
  {
   "cell_type": "markdown",
   "metadata": {},
   "source": [
    "Here the Secant method converged to a guess value of $s=1.2614$ which provides a solution at the upper boundary of $y(1)=2.0000$."
   ]
  },
  {
   "cell_type": "markdown",
   "metadata": {},
   "source": [
    "### A note about accuracy\n",
    "In [example 2](#Example-2) we iterated the Secant method until convergence and got a very accurate solution for the value of $y(t_{\\max})$. We must be careful not to forget that this solution was obtained using the Euler method which being only first-order so expect it to be relatively inaccurate. \n",
    "\n",
    "The exact solution to the BVP from [example 1](#Example-1) above is\n",
    "\n",
    "$$y = \\frac{2e^{-\\frac{1}{2}(\\sqrt{5} - 1)(t-1)}(e^{\\sqrt{5}t} - 1)}{e^{\\sqrt{5}} - 1},$$\n",
    "\n",
    "which is defined in the function below."
   ]
  },
  {
   "cell_type": "code",
   "execution_count": 6,
   "metadata": {
    "execution": {
     "iopub.execute_input": "2020-08-18T14:20:59.162108Z",
     "iopub.status.busy": "2020-08-18T14:20:59.161356Z",
     "iopub.status.idle": "2020-08-18T14:20:59.163746Z",
     "shell.execute_reply": "2020-08-18T14:20:59.164206Z"
    }
   },
   "outputs": [],
   "source": [
    "def exact_sol(t):\n",
    "    return (2 * np.exp(-0.5 * (np.sqrt(5) - 1) * (t - 1)) \\\n",
    "            * (np.exp(np.sqrt(5) * t) - 1)) / (np.exp(np.sqrt(5)) - 1)"
   ]
  },
  {
   "cell_type": "markdown",
   "metadata": {},
   "source": [
    "The code below plots the solution obtained using the Euler method with the guess value of $s=1.2614$ and compares it to the exact solution."
   ]
  },
  {
   "cell_type": "code",
   "execution_count": 7,
   "metadata": {
    "execution": {
     "iopub.execute_input": "2020-08-18T14:20:59.199595Z",
     "iopub.status.busy": "2020-08-18T14:20:59.199009Z",
     "iopub.status.idle": "2020-08-18T14:20:59.388080Z",
     "shell.execute_reply": "2020-08-18T14:20:59.388526Z"
    }
   },
   "outputs": [
    {
     "data": {
      "image/png": "[encoded data removed]",
      "text/plain": [
       "<Figure size 432x288 with 1 Axes>"
      ]
     },
     "metadata": {
      "filenames": {
       "image/png": "/Volumes/DataHD/jon/OneDrive - MMU/2020_2021/ODEs/Python_book/_build/jupyter_execute/5_boundary_value_problems_20_0.png"
      },
      "needs_background": "light"
     },
     "output_type": "display_data"
    }
   ],
   "source": [
    "# Plot solution\n",
    "fig, ax = plt.subplots()\n",
    "\n",
    "t1 = np.linspace(tspan[0], tspan[1], 100)\n",
    "ax.plot(t1, exact_sol(t1), 'r-', label='Exact solution')\n",
    "ax.plot(t, y[:, 0], 'bo-', label='Euler method')\n",
    "\n",
    "ax.set_xlabel('$t$', fontsize=12)\n",
    "ax.set_ylabel('$y(t)$', fontsize=12)\n",
    "ax.legend()\n",
    "\n",
    "plt.show()"
   ]
  },
  {
   "cell_type": "markdown",
   "metadata": {},
   "source": [
    "So despite the Secant method giving a guess value that gives an accurate solution at the upper boundary, the use of the Euler method does not give an accurate solution in the interior points. One way to improve the accuracy of our approximation is to use a more accurate ODE solver.\n",
    "\n",
    "The function below calculates the solution to an IVP using the second-order [Runge-Kutta method](https://en.wikipedia.org/wiki/Runge%E2%80%93Kutta_methods) (RK2). "
   ]
  },
  {
   "cell_type": "code",
   "execution_count": 8,
   "metadata": {
    "execution": {
     "iopub.execute_input": "2020-08-18T14:20:59.395475Z",
     "iopub.status.busy": "2020-08-18T14:20:59.394671Z",
     "iopub.status.idle": "2020-08-18T14:20:59.397017Z",
     "shell.execute_reply": "2020-08-18T14:20:59.397405Z"
    }
   },
   "outputs": [],
   "source": [
    "def rk2(f, tspan, y0, h):\n",
    "    '''\n",
    "    Calculates the solution to an IVP using the second-order Runge-Kutta method\n",
    "    '''\n",
    "    # Initialise solution arrays\n",
    "    nsteps = int((tspan[1] - tspan[0]) / h)\n",
    "    t = np.zeros(nsteps + 1)\n",
    "    y = np.zeros((nsteps + 1, len(y0)))\n",
    "    t[0] = tspan[0]\n",
    "    y[0,:] = y0\n",
    "    \n",
    "    # Solver loop\n",
    "    for n in range(nsteps):\n",
    "        k1 = f(t[n], y[n,:])\n",
    "        k2 = f(t[n] + 0.5 * h, y[n,:] + 0.5 * h * k1)\n",
    "        y[n+1,:] = y[n,:] + h * k2\n",
    "        t[n+1] = t[n] + h\n",
    "        \n",
    "    return t, y"
   ]
  },
  {
   "cell_type": "markdown",
   "metadata": {},
   "source": [
    "The code below invokes the shooting method with the RK2 solver to solve the BVP from [example 2](#Example-2). "
   ]
  },
  {
   "cell_type": "code",
   "execution_count": 9,
   "metadata": {
    "execution": {
     "iopub.execute_input": "2020-08-18T14:20:59.434926Z",
     "iopub.status.busy": "2020-08-18T14:20:59.434311Z",
     "iopub.status.idle": "2020-08-18T14:20:59.611239Z",
     "shell.execute_reply": "2020-08-18T14:20:59.611835Z"
    }
   },
   "outputs": [
    {
     "name": "stdout",
     "output_type": "stream",
     "text": [
      " t      y1      y2\n",
      "--------------------\n",
      "0.00  0.0000  1.0182\n",
      "0.20  0.2240  1.2625\n",
      "0.40  0.5062  1.6148\n",
      "0.60  0.8716  2.1138\n",
      "0.80  1.3541  2.8128\n",
      "1.00  2.0000  3.7858\n"
     ]
    },
    {
     "data": {
      "image/png": "[encoded data removed]",
      "text/plain": [
       "<Figure size 432x288 with 1 Axes>"
      ]
     },
     "metadata": {
      "filenames": {
       "image/png": "/Volumes/DataHD/jon/OneDrive - MMU/2020_2021/ODEs/Python_book/_build/jupyter_execute/5_boundary_value_problems_24_1.png"
      },
      "needs_background": "light"
     },
     "output_type": "display_data"
    }
   ],
   "source": [
    "# Define BVP parameters\n",
    "tspan = [ 0, 1 ]\n",
    "bvals = [ 0, 2 ]\n",
    "h = 0.2\n",
    "\n",
    "# Use shooting method with RK2 to solve the BVP\n",
    "t, y = shooting_method(rk2, f, tspan, bvals, h, 10)\n",
    "\n",
    "# Output solution table\n",
    "print(' t      y1      y2\\n' + '-' * 20)\n",
    "for n in range(len(t)):\n",
    "    print('{:3.2f} {:7.4f} {:7.4f}'\\\n",
    "          .format(t[n], y[n,0], y[n,1]))\n",
    "    \n",
    "# Plot solution\n",
    "fig, ax = plt.subplots()\n",
    "\n",
    "t1 = np.linspace(tspan[0], tspan[1], 100)\n",
    "ax.plot(t1, exact_sol(t1), 'r-', label='Exact solution')\n",
    "ax.plot(t, y[:, -2], 'bo-', label='RK2')\n",
    "\n",
    "ax.set_xlabel('$t$', fontsize=12)\n",
    "ax.set_ylabel('$y(t)$', fontsize=12)\n",
    "ax.legend()\n",
    "\n",
    "plt.show()"
   ]
  },
  {
   "cell_type": "markdown",
   "metadata": {},
   "source": [
    "Here we can see that we have a much more accurate solution than when we used the Euler method to solve the ODE."
   ]
  },
  {
   "cell_type": "markdown",
   "metadata": {},
   "source": [
    "---\n",
    "## Finite-difference method\n",
    "\n",
    "The [**finite-difference method**](https://en.wikipedia.org/wiki/Finite_difference_method) for solving a BVP converts the BVP into a system of algebraic equations by replacing the derivatives in the ODE with finite-difference approximations derived from the [Taylor series](https://en.wikipedia.org/wiki/Taylor_series). The system of equations is then solved to obtain an approximation of the solution to the BVP.\n",
    "\n",
    "The solution is approximated at discrete points called **nodes** that are equally spaced in the domain. If $N$ nodes are used to **discretise** the domain then the spacing between two nodes is\n",
    "\n",
    "$$ h = \\frac{t_{\\max} - t_{\\min}}{N - 1}, $$\n",
    "\n",
    "and the $t$ value of the $i$th node is calculated using $t_i = t_{\\min} + ih$ and the solution  $y(t_i)$ is denoted by $y_i$ for brevity. The derivatives of $y_i$ are approximated using values of neighbouring nodes $y_{i+1}$, $y_{i-1}$ etc. using expressions derived by truncating the Taylor series and rearranging to make the derivative term the subject. Some common finite-difference approximations are listed in the table below.\n",
    "\n",
    "| Derivative | Finite-difference approximation | Order of accuracy | Name |\n",
    "|:--:|:--:|:--:|:--|\n",
    "| $y'$ | <a id=\"forward_difference\"></a> $\\dfrac{y_{i+1} - y_{i}}{h}$ | 1st | forward difference |\n",
    "| $y'$ | $\\dfrac{y_i - y_{i-1}}{h}$ | 1st | backward difference |\n",
    "| $y'$ | <a id=\"central_difference\"></a>$\\dfrac{y_{i+1} - y_{i-1}}{2h}$ | 2nd | central difference |\n",
    "| $y''$ | <a id=\"symmetric_difference\"></a>$\\dfrac{y_{i-1} - 2y_i + y_{i+1}}{h^2}$ | 2nd | symmetric difference |"
   ]
  },
  {
   "cell_type": "markdown",
   "metadata": {},
   "source": [
    "### Finite-difference solutions to a boundary value problem\n",
    "\n",
    "The solution to a BVP using then finite-difference method is determined by approximating the derivatives in the ODE using finite-differences. Consider the following BVP \n",
    "\n",
    "\\begin{align*}\n",
    "    y'' &= f(t, y), & t &\\in [t_{\\min}, t_{\\max}], & y(t_{\\min}) &= y_0, & y(t_{\\max}) &= y_N\n",
    "\\end{align*}\n",
    "\n",
    "Using the [symmetric difference](#symmetric_difference) to approximate $y''$ in the ODE we have\n",
    "\n",
    "\\begin{align*}\n",
    "    y_{i-1} - 2y_i + y_{i+1} &= h^2 f(t_i, y_i), & i &= 1, 2, \\ldots, N-1.\n",
    "\\end{align*}\n",
    "\n",
    "This is a linear system of $N-1$ equations. The values of the nodes at the lower and upper boundaries, $y_0$ and $y_N$, are known so the we can reduce this system to $N-3$ equations where\n",
    "\n",
    "$$\n",
    "\\begin{aligned}\n",
    "    -2y_1 + y_2 &= h^2 f(t_1, y_1) - y_0, \\\\\n",
    "    y_{i-1} - 2y_i + y_{i+1} &= h^2 f(t_i, y_i), & i &= 2, 3, \\ldots, N-2, \\\\\n",
    "    y_{N-2} - 2y_{N-1} &= h^2 f(t_{N-1}, y_{N-1}) - y_N.\n",
    "\\end{aligned}\n",
    "$$\n",
    "\n",
    "This can be expressed as a matrix equation\n",
    "\n",
    "$$\n",
    "    \\pmatrix{-2 & 1 \\\\\n",
    "    1 & -2 & 1 \\\\\n",
    "    & \\ddots & \\ddots & \\ddots \\\\\n",
    "    & & 1 & -2 & 1 \\\\ \n",
    "    & & & 1 & -2}\n",
    "    \\pmatrix{y_1 \\\\ y_2 \\\\ \\vdots \\\\ y_{N-2} \\\\ y_{N-1}} =\n",
    "    \\pmatrix{f(t_1, y_1) - y_0, \\\\ f(t_2, y_2) \\\\ \\vdots \\\\ f(t_{N-2},y_{N-2}) \\\\ f(t_{N-1}, y_{N-1}) - y_N}.\n",
    "$$"
   ]
  },
  {
   "cell_type": "markdown",
   "metadata": {},
   "source": [
    "### The Thomas algorithm\n",
    "We have seen above that the matrix equation resulting from a second-order two-point BVP has a tridiagonal coefficient matrix. This means we can use the [**Thomas Algorithm**](https://en.wikipedia.org/wiki/Tridiagonal_matrix_algorithm) which is a form of Gaussian elimination and very efficient for solving tridiagonal systems.\n",
    "\n",
    "Given a linear tridiagonal system of the form $A\\mathbf{x} = \\mathbf{d}$ then let $a_i$, $b_i$, $c_i$ be the elements on the lower, main and upper-diagonals of the coefficient matrix $A$ and $d_i$ be the values of the right-hand side vector $\\mathbf{d}$\n",
    "\n",
    "$$\\pmatrix{ b_0 & c_0 \\\\\n",
    "            a_1 & b_1 & c_1 \\\\\n",
    "                & \\ddots & \\ddots & \\ddots \\\\\n",
    "                &        & a_{N-1} & b_{N-1} & c_{N-1} \\\\\n",
    "                &        &         & a_{N}   & b_{N}}\n",
    "\\pmatrix{ x_0 \\\\ x_1 \\\\ \\vdots \\\\ x_{N-1} \\\\ x_{N} } =\n",
    "\\pmatrix{ d_0 \\\\ d_1 \\\\ \\vdots \\\\ d_{N-1} \\\\ d_{N} },\n",
    "$$\n",
    "\n",
    "The Thomas algorithm first uses a forward sweep to apply row operations to the values of $b_i$ and $d_i$ before solving for the values of $x_i$ by back substitution.\n",
    "\n",
    "Forward sweep:\n",
    "\n",
    "$$\n",
    "\\begin{aligned}\n",
    "    b_i &= b_i - \\frac{a_i}{b_{i-1}} c_{i-1}, & i &= 2, 3, \\ldots, N \\\\\n",
    "    d_i &= d_i - \\frac{a_i}{b_{i-1}} d_{i-1}, & i &= 2, 3, \\ldots, N.\n",
    "\\end{aligned}\n",
    "$$\n",
    "\n",
    "Back substitution:\n",
    "\n",
    "$$\n",
    "\\begin{aligned}\n",
    "    x_n &= \\frac{d_N}{b_N}, \\\\\n",
    "    x_i &= \\frac{d_i - c_i x_{i+1}}{b_i}, & i &= N-1, N-2, \\ldots, 1.\n",
    "\\end{aligned}\n",
    "$$\n",
    "\n",
    "The function below solves a tridiagonal linear system using the Thomas algorithm given inputs of the arrays for $a_i$, $b_i$, $c_i$ and $d_i$."
   ]
  },
  {
   "cell_type": "code",
   "execution_count": 10,
   "metadata": {
    "execution": {
     "iopub.execute_input": "2020-08-18T14:20:59.618757Z",
     "iopub.status.busy": "2020-08-18T14:20:59.618065Z",
     "iopub.status.idle": "2020-08-18T14:20:59.619690Z",
     "shell.execute_reply": "2020-08-18T14:20:59.620123Z"
    }
   },
   "outputs": [],
   "source": [
    "def tridiag_solver(a, b, c, d):\n",
    "    '''\n",
    "    Calculates the solution to a tridiagonal linear system of equations using\n",
    "    the Thomas algorithm\n",
    "    '''\n",
    "    # Forward sweep\n",
    "    for i in range(1, len(b)):\n",
    "        w = a[i] / b[i-1]\n",
    "        b[i] = b[i] - w * c[i-1]\n",
    "        d[i] = d[i] - w * d[i-1]\n",
    "\n",
    "    # Back substitution\n",
    "    x = np.zeros(b.shape)\n",
    "    x[-1] = d[-1] / b[-1]\n",
    "    for i in range(len(b)-2, -1, -1):\n",
    "        x[i] = (d[i] - c[i] * x[i+1]) / b[i]\n",
    "        \n",
    "    return x"
   ]
  },
  {
   "cell_type": "markdown",
   "metadata": {},
   "source": [
    "#### Example 3\n",
    "Use the finite-difference method to solve the BVP given in [example 2](#Example-2)\n",
    "\n",
    "$$y'' - y' - y = 0, \\qquad t \\in [0, 1], \\qquad y(0) = 1, \\qquad y(1) = 2.$$\n",
    "\n",
    "Using a [forward difference](forward_difference) to approximate $y'$ and a [symmetric difference](#symmetric_difference) to approximate $y''$ we have\n",
    "\n",
    "\\begin{align*}\n",
    "    \\frac{y_{i-1} - 2y_i + y_{i+1}}{h^2} - \\frac{y_{i+1} - y_{i}}{h} - y_i &= 0,\n",
    "\\end{align*}\n",
    "\n",
    "which can be simplified to \n",
    "\n",
    "\\begin{align*}\n",
    "    y_{i-1} + (h - h^2 - 2)y_i + (1 - h)y_{i+1} = 0,\n",
    "\\end{align*}\n",
    "\n",
    "with the nodes adjacent to the lower and upper boundaries \n",
    "\n",
    "$$\n",
    "\\begin{aligned}\n",
    "    (h - h^2 - 2)y_1 + (1 - h)y_2 &= -y_0, \\\\\n",
    "    y_{N-2} + (h - h^2 - 2)y_{N-1} &= -(1 - h)y_N.\n",
    "\\end{aligned}\n",
    "$$\n",
    "\n",
    "We can write the linear system as the matrix equation\n",
    "\n",
    "$$\n",
    "    \\pmatrix{\n",
    "        h - h^2 - 2 & 1 - h & \\\\\n",
    "        1 & h - h^2 - 2 & 1 - h \\\\\n",
    "          & 1 &  h - h^2 - 2 & 1 - h \\\\\n",
    "          & & \\ddots & \\ddots & \\ddots \\\\\n",
    "          & &        &   1  &  h - h^2 - 2 & 1 - h \\\\\n",
    "          & &        &        & 1 &  h - h^2 - 2\n",
    "    }\n",
    "    \\pmatrix{ y_1 \\\\ y_2 \\\\ y_3 \\\\ \\vdots \\\\ y_{N-2} \\\\ y_{N-1} } =\n",
    "    \\pmatrix{ -y_0 \\\\ 0 \\\\ 0 \\\\ \\vdots \\\\ 0 \\\\ -y_N}.\n",
    "$$\n",
    "\n",
    " The code below defines this linear system and solves it using the Thomas algorithm. "
   ]
  },
  {
   "cell_type": "code",
   "execution_count": 11,
   "metadata": {
    "execution": {
     "iopub.execute_input": "2020-08-18T14:20:59.630332Z",
     "iopub.status.busy": "2020-08-18T14:20:59.629424Z",
     "iopub.status.idle": "2020-08-18T14:20:59.835483Z",
     "shell.execute_reply": "2020-08-18T14:20:59.835008Z"
    }
   },
   "outputs": [
    {
     "name": "stdout",
     "output_type": "stream",
     "text": [
      " t      y\n",
      "------------\n",
      "0.00  0.0000\n",
      "0.20  0.2060\n",
      "0.40  0.4738\n",
      "0.60  0.8322\n",
      "0.80  1.3219\n",
      "1.00  2.0000\n"
     ]
    },
    {
     "data": {
      "image/png": "[encoded data removed]",
      "text/plain": [
       "<Figure size 432x288 with 1 Axes>"
      ]
     },
     "metadata": {
      "filenames": {
       "image/png": "/Volumes/DataHD/jon/OneDrive - MMU/2020_2021/ODEs/Python_book/_build/jupyter_execute/5_boundary_value_problems_31_1.png"
      },
      "needs_background": "light"
     },
     "output_type": "display_data"
    }
   ],
   "source": [
    "# Define BVP parameters\n",
    "tspan = [ 0, 1 ]      # t domain\n",
    "bvals = [ 0, 2 ]      # boundary values\n",
    "h = 0.2               # step length\n",
    "\n",
    "# Discretise domain\n",
    "N = int((tspan[1] - tspan[0]) / h) + 1\n",
    "t = np.linspace(tspan[0], tspan[1], N)\n",
    "y = np.zeros(t.shape)\n",
    "y[0] = bvals[0]\n",
    "y[-1] = bvals[1]\n",
    "\n",
    "# Define linear system\n",
    "a = np.ones(N - 2)\n",
    "b = (h - h ** 2 - 2) * np.ones(N - 2)\n",
    "c = (1 - h) * np.ones(N - 2)\n",
    "d = np.zeros(N - 2)\n",
    "d[0] = d[0] - y[0]\n",
    "d[-1] = d[-1] - (1 - h) * y[-1]\n",
    "\n",
    "# Solve linear system\n",
    "y[1:-1] = tridiag_solver(a, b, c, d)\n",
    "\n",
    "# Output solution table\n",
    "print(' t      y\\n' + '-' * 12)\n",
    "for n in range(len(t)):\n",
    "    print('{:3.2f} {:7.4f}'.format(t[n], y[n]))\n",
    "\n",
    "# Plot solution\n",
    "fig, ax = plt.subplots()\n",
    "\n",
    "t1 = np.linspace(tspan[0], tspan[1], 100)\n",
    "ax.plot(t1, exact_sol(t1), 'r-', label='exact solution')\n",
    "ax.plot(t, y, 'bo-', label='finite-difference solution')\n",
    "\n",
    "ax.set_xlabel('$t$', fontsize=12)\n",
    "ax.set_ylabel('$y(t)$', fontsize=12)\n",
    "ax.legend()\n",
    "\n",
    "plt.show()"
   ]
  },
  {
   "cell_type": "markdown",
   "metadata": {},
   "source": [
    "### Accuracy vs number of nodes\n",
    "\n",
    "The solutions seen in [example 4](#Example-4) seem to show that the finite-difference method produces reasonably accurate results for this BVP. One way to improve on the accuracy of our solution is to increase the number of nodes used. \n",
    "\n",
    "#### Example 5\n",
    "Solve the following BVP using the finite-difference method with $N=51$ and $N=501$ nodes \n",
    "\n",
    "\\begin{align*}\n",
    "    y'' + 3ty' + 7y &= \\cos(2t), & t &\\in [0, 3], & y(0) &= 1, & y(3) &= 0.\n",
    "\\end{align*}\n",
    "\n",
    "Using [forward](#forward_difference) and [symmetric differences](#symmetric_difference) to approximate $y'$ and $y''$ respectively results in the following system\n",
    "\n",
    "$$\n",
    "\\begin{aligned}\n",
    "    (7h^2 - 3ht_1 - 2) y_1 + (1 + 3ht_1)y_2 &= h^2 \\cos(2t_1) - y_0, \\\\\n",
    "    y_{i-1} + (7h^2 - 3ht_i - 2) y_i + (1 + 3ht_i)y_{i+1} &= h^2 \\cos(2t_i), \\qquad \\qquad i = 2, 3, \\ldots ,N-2, \\\\\n",
    "    y_{N-2} + (7h^2 - 3ht_{N-1} - 2)y_{N-1} &= h^2 \\cos(2t_{N-1}) - (1 + 3ht_N) y_N.\n",
    "\\end{aligned}\n",
    "$$\n",
    "\n",
    "The code below calculates the solution to this system using $N=51$ and $N=501$ nodes and compares the solutions in a plot."
   ]
  },
  {
   "cell_type": "code",
   "execution_count": 12,
   "metadata": {
    "execution": {
     "iopub.execute_input": "2020-08-18T14:20:59.874063Z",
     "iopub.status.busy": "2020-08-18T14:20:59.873364Z",
     "iopub.status.idle": "2020-08-18T14:21:00.163401Z",
     "shell.execute_reply": "2020-08-18T14:21:00.163818Z"
    }
   },
   "outputs": [
    {
     "data": {
      "image/png": "[encoded data removed]",
      "text/plain": [
       "<Figure size 432x288 with 1 Axes>"
      ]
     },
     "metadata": {
      "filenames": {
       "image/png": "/Volumes/DataHD/jon/OneDrive - MMU/2020_2021/ODEs/Python_book/_build/jupyter_execute/5_boundary_value_problems_33_0.png"
      },
      "needs_background": "light"
     },
     "output_type": "display_data"
    }
   ],
   "source": [
    "# Define BVP parameteres\n",
    "tspan = [ 0 , 3 ]\n",
    "bvals = [ 1, 0 ]\n",
    "\n",
    "# Solve using 51 and 501 nodes\n",
    "for N in [ 51, 501 ]:\n",
    "\n",
    "    # Discretise domain\n",
    "    h = (tspan[1] - tspan[0]) / (N - 1)\n",
    "    t = np.linspace(tspan[0], tspan[1], N)\n",
    "    y = np.zeros(t.shape)\n",
    "    y[0] = bvals[0]\n",
    "    y[-1] = bvals[1]\n",
    "\n",
    "    # Define linear system\n",
    "    a = np.ones(N - 2)\n",
    "    b = 7 * h ** 2 - 3 * h * t[1:-1] - 2 \n",
    "    c = 1 + 3 * h * t[1:-1]\n",
    "    d = h ** 2 * np.cos(2 * t[1:-1])\n",
    "    d[0] = d[0] - y[0]\n",
    "    d[-1] = d[-1] - (1 + 3 * h * t[-1]) * y[-1]\n",
    "\n",
    "    # Solve linear system\n",
    "    y[1:-1] = tridiag_solver(a, b, c, d)\n",
    "    \n",
    "    # Save solutions\n",
    "    if N == 51:\n",
    "        t1, y1 = t, y\n",
    "    else:\n",
    "        t2, y2 = t, y\n",
    "\n",
    "# Plot solutions\n",
    "fig, ax = plt.subplots()\n",
    "\n",
    "ax.plot(t1, y1, 'b-', label='$N=51$')\n",
    "ax.plot(t2, y2, 'r-', label='$N=501$')\n",
    "\n",
    "ax.set_title(\"Solution to the BVP $y'' + 3ty + 7y = \\cos(2t)$, $y(0)=1$, $y(3)=0$\")\n",
    "ax.set_xlabel('$t$', fontsize=12)\n",
    "ax.set_ylabel('$y(t)$', fontsize=12)\n",
    "ax.legend()\n",
    "\n",
    "plt.show()"
   ]
  },
  {
   "cell_type": "markdown",
   "metadata": {},
   "source": [
    "Here we can see that the solution using $N=51$ nodes is inaccurate when compared to the solution using $N=501$ nodes (we expect the more nodes used the more accurate the result). As well as increasing the number of nodes, another way we can improve our solution is to use a higher order approximation of the $y'$ derivative. \n",
    "\n",
    "Using the [central difference](#central_difference) (which is second-order accurate) to approximate $y'$ results in the following tridiagonal linear system\n",
    "\n",
    "$$\n",
    "\\begin{aligned}\n",
    "    (7 h^2  - 2) y_1 + \\left(1 + \\frac{3}{2} h \\right) y_2 &= h^2 \\cos(2 t_1) - \\left(1 - \\frac{3}{2} h t_0 \\right) y_0, \\\\\n",
    "    \\left( 1 - \\frac{3}{2} h t_i \\right) y_{i-1} + (7h^2 - 2) y_i + \\left(1 + \\frac{3}{2} h t_i \\right) y_{i+1} &= h^2 \\cos(2 t_i), \\qquad  i = 2, 3, \\ldots, N-2, \\\\\n",
    "    \\left(1 - \\frac{3}{2} h t_{N-1} \\right) y_{N-2} + (7h^2 - 2) y_{N-1} &= h^2 \\cos(2 t_{N-1}) - \\left( 1 + \\frac{3}{2} h t_N \\right) y_N.\n",
    "\\end{aligned}\n",
    "$$\n",
    "\n",
    "The code below solves this system using $N=51$ and $N=501$ nodes and compares it to the solution using $N=501$ nodes for the first-order forward difference to approximate the $y'$ term."
   ]
  },
  {
   "cell_type": "code",
   "execution_count": 13,
   "metadata": {
    "execution": {
     "iopub.execute_input": "2020-08-18T14:21:00.207982Z",
     "iopub.status.busy": "2020-08-18T14:21:00.204151Z",
     "iopub.status.idle": "2020-08-18T14:21:00.489062Z",
     "shell.execute_reply": "2020-08-18T14:21:00.489564Z"
    }
   },
   "outputs": [
    {
     "data": {
      "image/png": "[encoded data removed]",
      "text/plain": [
       "<Figure size 432x288 with 1 Axes>"
      ]
     },
     "metadata": {
      "filenames": {
       "image/png": "/Volumes/DataHD/jon/OneDrive - MMU/2020_2021/ODEs/Python_book/_build/jupyter_execute/5_boundary_value_problems_35_0.png"
      },
      "needs_background": "light"
     },
     "output_type": "display_data"
    }
   ],
   "source": [
    "# Solve BVP using 51 and 501 nodes\n",
    "for N in [ 51, 501 ]:\n",
    "\n",
    "    # Discretise domain\n",
    "    h = (tspan[1] - tspan[0])/(N - 1)\n",
    "    t = np.linspace(tspan[0], tspan[1], N)\n",
    "    y = np.zeros(t.shape)\n",
    "    y[0] = bvals[0]\n",
    "    y[-1] = bvals[1]\n",
    "\n",
    "    # Define linear system\n",
    "    a = 1 - 3 / 2 * h * t[1:-1]\n",
    "    b = (7 * h**2 - 2) * np.ones(N - 2)\n",
    "    c = 1 + 3 / 2 * h * t[1:-1]\n",
    "    d = h**2 * np.cos(2 * t[1:-1])\n",
    "    d[0] = d[0] - (1 - 3 / 2 * h * t[0]) * y[0]\n",
    "    d[-1] = d[-1] - (1 + 3 / 2 * h * t[-1]) * y[-1]\n",
    "\n",
    "    # Solve linear system\n",
    "    y[1:-1] = tridiag_solver(a, b, c, d)\n",
    "    \n",
    "    # Save solutions\n",
    "    if N == 51:\n",
    "        t3, y3 = t, y\n",
    "    else:\n",
    "        t4, y4 = t, y\n",
    "\n",
    "# Plot solutions\n",
    "fig, ax = plt.subplots()\n",
    "\n",
    "ax.plot(t1, y1, 'r-', label='forward difference $N=51$')\n",
    "ax.plot(t2, y2, 'b-', label='forward difference $N=501$')\n",
    "ax.plot(t3, y3, 'g-', label='central difference $N=51$')\n",
    "ax.plot(t4, y4, 'k-', label='central difference $N=501$')\n",
    "\n",
    "ax.set_title(\"Solution to the BVP $y'' + 3ty + 7y = \\cos(2t)$, $y(0)=1$, $y(3)=0$\")\n",
    "ax.set_xlabel('$t$', fontsize=12)\n",
    "ax.set_ylabel('$y(t)$', fontsize=12)\n",
    "ax.legend()\n",
    "\n",
    "plt.show()"
   ]
  },
  {
   "cell_type": "markdown",
   "metadata": {},
   "source": [
    "Here we can see that there is very little difference between the solutions using $N=51$ and $N=501$ nodes for the central difference approximation showing that $N=51$ nodes is adequate."
   ]
  },
  {
   "cell_type": "markdown",
   "metadata": {},
   "source": [
    "---\n",
    "## Summary\n",
    "\n",
    "- A [two-point boundary value problem](#General-two-point-boundary-value-problem) is defined by a second-order ODE where the solutions at the lower and upper boundaries are known.\n",
    "- The [shooting method](#The-shooting-method) guesses the initial value for $y'(0)$ and alters the guess by comparing the computed solution at the upper boundary to the known solution.\n",
    "- The [Secant method](#Improving-the-guess-value-using-the-Secant-method) is used to calculate improved estimates of the guess value.\n",
    "- The [finite-difference method](#Finite-difference-method) uses finite-difference approximations of the derivatives in the ODE to derive a tridiagonal linear system of equations that approximates the solution to the boundary value problem.\n",
    "- The [Thomas algorithm](#The-Thomas-algorithm) is a very efficient algorithm for solving tridiagonal linear systems of equations.\n",
    "- The higher the order of a method, the fewer nodes are required to achieve the same accuracy."
   ]
  },
  {
   "cell_type": "markdown",
   "metadata": {},
   "source": [
    "---\n",
    "## Exercises\n",
    "\n",
    "1. Determine which of the following BVPs have a unique solutions:\n",
    "\n",
    "    (a) $y'' = -\\dfrac{4}{t} y' + \\dfrac{2}{t^2}y - \\dfrac{2\\ln(t)}{t^3}, \\qquad t\\in[1,2], \\qquad y(1) = \\dfrac{1}{2}, \\qquad y(2) = \\ln(2)$;\n",
    "    \n",
    "    (b) $y'' = e^t + y\\cos(t) - (t + 1) y', \\qquad t \\in [0, 2], \\qquad y(0) = 1, \\qquad y(2) = \\ln(3)$;\n",
    "\n",
    "    (c) $y'' = (t^3 + 5)y + \\sin(t), \\qquad t \\in [0, 1], \\qquad y(0) = 0, \\qquad y(1) = 1$;\n",
    "\n",
    "    (d) $y'' = (5y + \\sin(3t))e^t, \\qquad t \\in [0, 1], \\qquad y(0) = 0, \\qquad y(1) = 0$.\n",
    "\n",
    "\n",
    "2. Consider the following BVP\n",
    "\n",
    "    $$y'' = 2t, \\qquad t \\in [0, 2], \\qquad y(0) = 1, \\qquad y(2) = 3.$$\n",
    "    \n",
    "    Using a pen and calculator, calculate the Euler method solutions using a step length of $h=0.5$ for each of the following guess values:\n",
    "\n",
    "    (a) $s = 1$;\n",
    "\n",
    "    (b) $s = -1$.\n",
    "\n",
    "3. Use the Secant method to calculate the next value of $s$ for your solutions to the BVP in question 2 and hence calculate the Euler method using this new guess values.\n",
    "\n",
    "4. Using a pen and calculator, calculate the solution of the BVP in question 2 using the finite-difference method with a step length $h=0.5$.\n",
    "\n",
    "5. Write a Python program to repeat questions 3 and 4 using a step length of $h=0.1$. The exact solution to this BVP is $y= \\frac{1}{3}t^3 - \\frac{1}{3}t + 1$. Produce a plot of the numerical solution and exact solution on the same set of axes."
   ]
  }
 ],
 "metadata": {
  "kernelspec": {
   "display_name": "Python 3",
   "language": "python",
   "name": "python3"
  },
  "language_info": {
   "codemirror_mode": {
    "name": "ipython",
    "version": 3
   },
   "file_extension": ".py",
   "mimetype": "text/x-python",
   "name": "python",
   "nbconvert_exporter": "python",
   "pygments_lexer": "ipython3",
   "version": "3.7.4"
  }
 },
 "nbformat": 4,
 "nbformat_minor": 2
}