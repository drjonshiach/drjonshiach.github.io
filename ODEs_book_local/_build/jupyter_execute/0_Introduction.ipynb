{
 "cells": [
  {
   "cell_type": "markdown",
   "metadata": {},
   "source": [
    "# Introduction\n",
    "\n",
    "This book covers the Runge-Kutta methods for solving Ordinary Differential Equations (ODEs) as well as computational methods for solving systems of linear equations which commonly arise with ODEs. \n"
   ]
  },
  {
   "cell_type": "markdown",
   "metadata": {},
   "source": [
    "\n",
    "```{toctree}\n",
    ":hidden:\n",
    ":titlesonly:\n",
    "\n",
    "\n",
    "1_initial_value_problems\n",
    "2_runge_kutta_methods\n",
    "3_IRK_methods\n",
    "4_stability\n",
    "5_boundary_value_problems\n",
    "6_direct_methods\n",
    "7_indirect_methods\n",
    "8_exercise_solutions\n",
    "```\n"
   ]
  }
 ],
 "metadata": {
  "kernelspec": {
   "display_name": "Python 3",
   "language": "python",
   "name": "python3"
  },
  "language_info": {
   "codemirror_mode": {
    "name": "ipython",
    "version": 3
   },
   "file_extension": ".py",
   "mimetype": "text/x-python",
   "name": "python",
   "nbconvert_exporter": "python",
   "pygments_lexer": "ipython3",
   "version": "3.7.4"
  }
 },
 "nbformat": 4,
 "nbformat_minor": 4
}